{
 "cells": [
  {
   "cell_type": "code",
   "execution_count": 1,
   "id": "dfa38052",
   "metadata": {},
   "outputs": [
    {
     "name": "stdout",
     "output_type": "stream",
     "text": [
      "C:\\Users\\qcrew\\Desktop\\qcore\n"
     ]
    }
   ],
   "source": [
    "cd ../.."
   ]
  },
  {
   "cell_type": "markdown",
   "id": "bb5efd06",
   "metadata": {},
   "source": [
    "### User guide for interacting with cQED components (QuantumElement and QuantumDevice objects) in qcore\n",
    "\n",
    "1. Currently, the qcore abstraction for qubits and resonators is QuantumElement.\n",
    "2. A QuantumDevice is a set of QuantumElements and encapsulates a cQED device.\n",
    "3. In this notebook, we'll create a simple QuantumDevice consisting of two QuantumElements - one qubit and one resonator, and save/load it to/from disk with qcore's yamlizer."
   ]
  },
  {
   "cell_type": "code",
   "execution_count": 3,
   "id": "d23318b7",
   "metadata": {},
   "outputs": [],
   "source": [
    "from pathlib import Path\n",
    "\n",
    "from instruments import QuantumElement, QuantumDevice"
   ]
  },
  {
   "cell_type": "code",
   "execution_count": null,
   "id": "0a03a5cb",
   "metadata": {},
   "outputs": [],
   "source": []
  }
 ],
 "metadata": {
  "kernelspec": {
   "display_name": "Python 3",
   "language": "python",
   "name": "python3"
  },
  "language_info": {
   "codemirror_mode": {
    "name": "ipython",
    "version": 3
   },
   "file_extension": ".py",
   "mimetype": "text/x-python",
   "name": "python",
   "nbconvert_exporter": "python",
   "pygments_lexer": "ipython3",
   "version": "3.9.2"
  }
 },
 "nbformat": 4,
 "nbformat_minor": 5
}
