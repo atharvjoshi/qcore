{
 "cells": [
  {
   "cell_type": "markdown",
   "id": "equal-senator",
   "metadata": {},
   "source": [
    "### General goal: To investigate the effects of updating the config on the QM's output. \n",
    "\n",
    "#### Specific goal: Can I dynamically update any parameter in the config, without opening a new QM with an updated config?"
   ]
  },
  {
   "cell_type": "code",
   "execution_count": 1,
   "id": "appropriate-maintenance",
   "metadata": {},
   "outputs": [],
   "source": [
    "# ensure relative imports are correct\n",
    "import sys\n",
    "sys.path.insert(0, '../..') # this notebook resides in a sub-sub-directory in the main package"
   ]
  },
  {
   "cell_type": "code",
   "execution_count": 2,
   "id": "liberal-guess",
   "metadata": {},
   "outputs": [],
   "source": [
    "from qm.QuantumMachinesManager import QuantumMachinesManager\n",
    "from qm.QuantumMachine import QuantumMachine\n",
    "from qm.qua import *\n",
    "\n",
    "from test_qmm_qm_config1 import config1"
   ]
  },
  {
   "cell_type": "markdown",
   "id": "english-wings",
   "metadata": {},
   "source": [
    "##### Please restart your Jupyter notebook kernel to purge exisiting variables before beginning each attempt below. This is simply a precaution to ensure that namespace collisions do not cause unnecessary problems..."
   ]
  },
  {
   "cell_type": "markdown",
   "id": "raising-consideration",
   "metadata": {},
   "source": [
    "### Attempt 1. Naively update a value in config1 and hope that the QM follows the update\n",
    "\n",
    "I don't expect this to work but I'll document it anyway..."
   ]
  },
  {
   "cell_type": "code",
   "execution_count": 3,
   "id": "pregnant-database",
   "metadata": {},
   "outputs": [
    {
     "name": "stdout",
     "output_type": "stream",
     "text": [
      "2021-04-13 02:10:53,827 - qm - INFO - Performing health check\n",
      "2021-04-13 02:10:53,834 - qm - INFO - Health check passed\n"
     ]
    }
   ],
   "source": [
    "qmm = QuantumMachinesManager()"
   ]
  },
  {
   "cell_type": "code",
   "execution_count": 4,
   "id": "nervous-debut",
   "metadata": {},
   "outputs": [
    {
     "name": "stdout",
     "output_type": "stream",
     "text": [
      "qm-1618305052926\n"
     ]
    }
   ],
   "source": [
    "qm = qmm.open_qm(config1)\n",
    "print(qm.id)"
   ]
  },
  {
   "cell_type": "code",
   "execution_count": 9,
   "id": "opposed-grill",
   "metadata": {},
   "outputs": [
    {
     "name": "stdout",
     "output_type": "stream",
     "text": [
      "2021-04-13 02:15:49,740 - qm - INFO - Flags: \n",
      "2021-04-13 02:15:49,740 - qm - INFO - Executing high level program\n"
     ]
    }
   ],
   "source": [
    "# play an infinitely long continuous pulse at qubit's IF\n",
    "with program() as infinite_cw:\n",
    "    with infinite_loop_():\n",
    "        play('CW', 'qubit')\n",
    "job = qm.execute(infinite_cw)\n",
    "# on the oscilloscope, we see that the QM is playing a pulse at 50MHz"
   ]
  },
  {
   "cell_type": "code",
   "execution_count": 6,
   "id": "saving-credits",
   "metadata": {},
   "outputs": [
    {
     "name": "stdout",
     "output_type": "stream",
     "text": [
      "-40000000.0\n"
     ]
    }
   ],
   "source": [
    "# let's try to update the intermediate frequency in a naive way\n",
    "config1['elements']['qubit']['intermediate_frequency'] = -40e6\n",
    "print(config1['elements']['qubit']['intermediate_frequency'])"
   ]
  },
  {
   "cell_type": "code",
   "execution_count": 7,
   "id": "preceding-knight",
   "metadata": {},
   "outputs": [
    {
     "name": "stdout",
     "output_type": "stream",
     "text": [
      "2021-04-13 02:02:39,489 - qm - INFO - Flags: \n",
      "2021-04-13 02:02:39,489 - qm - INFO - Executing high level program\n"
     ]
    }
   ],
   "source": [
    "# restart the job, hope that the QM will play at 40MHz\n",
    "job = qm.execute(infinite_cw)"
   ]
  },
  {
   "cell_type": "markdown",
   "id": "institutional-literature",
   "metadata": {},
   "source": [
    "#### Result: Unsuccessful, as expected. To succeed, we would need to open a new qm with the updated config, which defeats the purpose of the Specific goal outlined in the first cell of this notebook.\n",
    "\n",
    "#### The correct way to update intermediate frequency, as of version 0.8, is to use the set_intermediate_frequency method of the QM API"
   ]
  },
  {
   "cell_type": "code",
   "execution_count": 17,
   "id": "handed-kruger",
   "metadata": {},
   "outputs": [],
   "source": [
    "# running this immediately changes the int_freq\n",
    "qm.set_intermediate_frequency('qubit', -50e6)\n",
    "# you may run the following command to verify that the qm config has been updated too\n",
    "#qm.get_config()"
   ]
  },
  {
   "cell_type": "markdown",
   "id": "equivalent-taiwan",
   "metadata": {},
   "source": [
    "#### oscillator frequency can only be updated within the qua program context manager, and this update does not change the qm config. "
   ]
  },
  {
   "cell_type": "code",
   "execution_count": 15,
   "id": "excited-maria",
   "metadata": {},
   "outputs": [
    {
     "name": "stdout",
     "output_type": "stream",
     "text": [
      "2021-04-13 02:09:28,844 - qm - INFO - Flags: \n",
      "2021-04-13 02:09:28,845 - qm - INFO - Executing high level program\n"
     ]
    },
    {
     "data": {
      "text/plain": [
       "<qm.QmJob.QmJob at 0x250e718cc10>"
      ]
     },
     "execution_count": 15,
     "metadata": {},
     "output_type": "execute_result"
    }
   ],
   "source": [
    "with program() as freq_update:\n",
    "    update_frequency(\"qubit\", -40e6)\n",
    "qm.execute(freq_update)\n",
    "#qm.get_config() # if you run this you notice that the lo_freq of the element is not updated in the qm config"
   ]
  },
  {
   "cell_type": "markdown",
   "id": "independent-lighting",
   "metadata": {},
   "source": [
    "#### but update_frequency does affect the freq of the pulse played by qm. let's find out by playing a long CW and waiting a long time between iterations. let's also set the start, stop, and step such that we can observe the output changing on an oscilloscope (make the time scale to the order of 100 nanoseconds)."
   ]
  },
  {
   "cell_type": "code",
   "execution_count": 34,
   "id": "sunrise-satisfaction",
   "metadata": {},
   "outputs": [
    {
     "name": "stdout",
     "output_type": "stream",
     "text": [
      "2021-04-13 02:32:05,957 - qm - INFO - Flags: \n",
      "2021-04-13 02:32:05,958 - qm - INFO - Executing high level program\n"
     ]
    }
   ],
   "source": [
    "f_start = 0.01e6\n",
    "f_stop = 100e6\n",
    "f_step = 1e6\n",
    "wait_time = int(1e7)\n",
    "\n",
    "with program() as freq_update:\n",
    "    freq = declare(int)\n",
    "\n",
    "    with for_(freq, f_start, freq < f_stop, freq + f_step):\n",
    "        update_frequency('qubit', freq)\n",
    "        play('CW', 'qubit', duration=int(1e7))\n",
    "        wait(wait_time, 'qubit')\n",
    "\n",
    "job = qm.execute(freq_update)"
   ]
  },
  {
   "cell_type": "code",
   "execution_count": null,
   "id": "cathedral-lounge",
   "metadata": {},
   "outputs": [],
   "source": []
  },
  {
   "cell_type": "code",
   "execution_count": null,
   "id": "endless-grade",
   "metadata": {},
   "outputs": [],
   "source": []
  }
 ],
 "metadata": {
  "kernelspec": {
   "display_name": "Python 3",
   "language": "python",
   "name": "python3"
  },
  "language_info": {
   "codemirror_mode": {
    "name": "ipython",
    "version": 3
   },
   "file_extension": ".py",
   "mimetype": "text/x-python",
   "name": "python",
   "nbconvert_exporter": "python",
   "pygments_lexer": "ipython3",
   "version": "3.9.2"
  }
 },
 "nbformat": 4,
 "nbformat_minor": 5
}
