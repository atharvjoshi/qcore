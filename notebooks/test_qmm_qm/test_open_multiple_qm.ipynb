{
 "cells": [
  {
   "cell_type": "markdown",
   "id": "humanitarian-source",
   "metadata": {},
   "source": [
    "# UPDATE: After contacting QM, found out that in version 0.8, opening multiple QMs like this is not possible. But, it will be possible with version 0.9, which comes out in a few weeks."
   ]
  },
  {
   "cell_type": "markdown",
   "id": "executed-distance",
   "metadata": {},
   "source": [
    "### General goal: To investigate the behaviour of the QMM API wrt opening and closing quantum machines.\n",
    "\n",
    "#### Specific goal: Find the conditions for interacting with multiple quantum machines at the same time. Use case - if I have 2 samples (and thus two distinct Quantum Machines), I want to be able to play pulses with the same OPX to/from each sample independently of the other. Can I do that???\n",
    "\n",
    "Related qn - in the image on this page from the docu - http://qm-docs.s3.amazonaws.com/v0.8/python/concept_overview/multi_machine.html - does the OPX refer to a unique OPX or different resources (e.g. ports) on the same OPX?"
   ]
  },
  {
   "cell_type": "code",
   "execution_count": 6,
   "id": "brief-navigator",
   "metadata": {},
   "outputs": [],
   "source": [
    "# ensure relative imports are correct\n",
    "import sys\n",
    "sys.path.insert(0, '../..') # this notebook resides in a sub-sub-directory in the main package"
   ]
  },
  {
   "cell_type": "code",
   "execution_count": 7,
   "id": "geological-jerusalem",
   "metadata": {},
   "outputs": [],
   "source": [
    "from qm.QuantumMachinesManager import QuantumMachinesManager\n",
    "from qm.QuantumMachine import QuantumMachine\n",
    "from qm.qua import *\n",
    "\n",
    "from test_qmm_qm_config1 import config1\n",
    "from test_qmm_qm_config2 import config2"
   ]
  },
  {
   "cell_type": "markdown",
   "id": "tight-illinois",
   "metadata": {},
   "source": [
    "##### Please restart your Jupyter notebook kernel to purge exisiting variables before beginning each attempt below. This is simply a precaution to ensure that namespace collisions do not cause unnecessary problems..."
   ]
  },
  {
   "cell_type": "markdown",
   "id": "missing-demand",
   "metadata": {},
   "source": [
    "### Attempt 1. Opening multiple QMs with the same config"
   ]
  },
  {
   "cell_type": "code",
   "execution_count": 8,
   "id": "collective-clause",
   "metadata": {},
   "outputs": [
    {
     "name": "stdout",
     "output_type": "stream",
     "text": [
      "2021-04-12 23:53:12,696 - qm - INFO - Performing health check\n",
      "2021-04-12 23:53:12,699 - qm - INFO - Health check passed\n"
     ]
    }
   ],
   "source": [
    "qmm1 = QuantumMachinesManager()"
   ]
  },
  {
   "cell_type": "code",
   "execution_count": 4,
   "id": "bridal-grain",
   "metadata": {},
   "outputs": [
    {
     "name": "stdout",
     "output_type": "stream",
     "text": [
      "qm-1618294088016\n"
     ]
    }
   ],
   "source": [
    "qm1 = qmm1.open_qm(config1, close_other_machines=False)\n",
    "qm1_id = qm1.id\n",
    "print(qm1_id)"
   ]
  },
  {
   "cell_type": "code",
   "execution_count": 12,
   "id": "norwegian-permission",
   "metadata": {},
   "outputs": [
    {
     "name": "stdout",
     "output_type": "stream",
     "text": [
      "qm-1618293942258\n"
     ]
    }
   ],
   "source": [
    "qm2 = qmm1.open_qm(config1, close_other_machines=False)\n",
    "qm2_id = qm2.id\n",
    "print(qm2_id)"
   ]
  },
  {
   "cell_type": "code",
   "execution_count": 13,
   "id": "contrary-flesh",
   "metadata": {},
   "outputs": [
    {
     "name": "stdout",
     "output_type": "stream",
     "text": [
      "['qm-1618293942258']\n"
     ]
    }
   ],
   "source": [
    "print(qmm1.list_open_quantum_machines())"
   ]
  },
  {
   "cell_type": "code",
   "execution_count": 15,
   "id": "compressed-junction",
   "metadata": {},
   "outputs": [],
   "source": [
    "# running this will throw a 'Machine does not exist' exception\n",
    "#qm2 = qmm1.get_qm(qm1_id)"
   ]
  },
  {
   "cell_type": "code",
   "execution_count": 10,
   "id": "bridal-clear",
   "metadata": {},
   "outputs": [
    {
     "data": {
      "text/plain": [
       "{'client': '0.80.627', 'server': '0.80.627'}"
      ]
     },
     "execution_count": 10,
     "metadata": {},
     "output_type": "execute_result"
    }
   ],
   "source": [
    "qmm1.version()"
   ]
  },
  {
   "cell_type": "markdown",
   "id": "assisted-class",
   "metadata": {},
   "source": [
    "#### Result: only the last opened QM remains open, even after explicitly setting the close_other_machines flag to False. Opening a new QM closes all other QMs."
   ]
  },
  {
   "cell_type": "code",
   "execution_count": 5,
   "id": "owned-highland",
   "metadata": {},
   "outputs": [
    {
     "name": "stdout",
     "output_type": "stream",
     "text": [
      "2021-04-12 23:08:12,709 - qm - INFO - Flags: \n",
      "2021-04-12 23:08:12,710 - qm - INFO - Executing high level program\n"
     ]
    }
   ],
   "source": [
    "# try the same but open the second qm while the first one is executing a job\n",
    "# run this block before opening the second qm\n",
    "with program() as cw:\n",
    "    with infinite_loop_():\n",
    "        play('CW', 'qubit')\n",
    "        play('CW', 'rr')\n",
    "job1 = qm1.execute(cw)\n",
    "\n",
    "# Result: opening the second qm stops job1. This happens if we open the qm on another pc too."
   ]
  },
  {
   "cell_type": "markdown",
   "id": "ruled-reach",
   "metadata": {},
   "source": [
    "### Attempt 2. Try opening multiple QMs with the same config, but each QM has a different QMM."
   ]
  },
  {
   "cell_type": "markdown",
   "id": "white-bottle",
   "metadata": {},
   "source": [
    "#### Note: as the QMs live on the server and the QMM merely establishes a connection to that server, I wouldn't expect this to work. But, let's try it anyway. "
   ]
  },
  {
   "cell_type": "code",
   "execution_count": 10,
   "id": "bizarre-journalism",
   "metadata": {},
   "outputs": [
    {
     "name": "stdout",
     "output_type": "stream",
     "text": [
      "2021-04-12 21:00:44,926 - qm - INFO - Performing health check\n",
      "2021-04-12 21:00:44,928 - qm - INFO - Health check passed\n",
      "2021-04-12 21:00:44,931 - qm - INFO - Performing health check\n",
      "2021-04-12 21:00:44,933 - qm - INFO - Health check passed\n"
     ]
    }
   ],
   "source": [
    "qmm1 = QuantumMachinesManager()\n",
    "qmm2 = QuantumMachinesManager()"
   ]
  },
  {
   "cell_type": "code",
   "execution_count": 11,
   "id": "focal-portable",
   "metadata": {},
   "outputs": [
    {
     "name": "stdout",
     "output_type": "stream",
     "text": [
      "qm-1618286443659\n"
     ]
    }
   ],
   "source": [
    "qm1 = qmm1.open_qm(config1, close_other_machines=False)\n",
    "qm1_id = qm1.id\n",
    "print(qm1_id)"
   ]
  },
  {
   "cell_type": "code",
   "execution_count": 12,
   "id": "alike-count",
   "metadata": {},
   "outputs": [
    {
     "name": "stdout",
     "output_type": "stream",
     "text": [
      "qm-1618286447571\n"
     ]
    }
   ],
   "source": [
    "qm2 = qmm2.open_qm(config1, close_other_machines=False)\n",
    "qm2_id = qm2.id\n",
    "print(qm2_id)"
   ]
  },
  {
   "cell_type": "code",
   "execution_count": 13,
   "id": "purple-bride",
   "metadata": {},
   "outputs": [
    {
     "name": "stdout",
     "output_type": "stream",
     "text": [
      "['qm-1618286447571']\n"
     ]
    }
   ],
   "source": [
    "print(qmm1.list_open_quantum_machines())"
   ]
  },
  {
   "cell_type": "code",
   "execution_count": 14,
   "id": "purple-brisbane",
   "metadata": {},
   "outputs": [
    {
     "name": "stdout",
     "output_type": "stream",
     "text": [
      "['qm-1618286447571']\n"
     ]
    }
   ],
   "source": [
    "print(qmm2.list_open_quantum_machines())"
   ]
  },
  {
   "cell_type": "markdown",
   "id": "adverse-headquarters",
   "metadata": {},
   "source": [
    "#### Result: as expected, we get the same result as attempt 1. "
   ]
  },
  {
   "cell_type": "markdown",
   "id": "acknowledged-hayes",
   "metadata": {},
   "source": [
    "### Attempt 3. Use only one QMM. Open two QMs, each with their own controller spec defined in separate config dicts. "
   ]
  },
  {
   "cell_type": "markdown",
   "id": "liquid-forty",
   "metadata": {},
   "source": [
    "#### Note: we ensure that the same OPX resources aren't double-used. E.g. in config 1, the qubit and RR use 'con1' ports AO 1, 2, 3, 4 and AI 1. In config 2, the qubit and RR use 'con1' ports AO 5, 6, 7, 8 and AI 2. Double-use does not throw an error, but we avoid it because it does not encapsulate our use case (see Specific goal in the first cell of this notebook). "
   ]
  },
  {
   "cell_type": "code",
   "execution_count": 3,
   "id": "faced-movie",
   "metadata": {},
   "outputs": [
    {
     "name": "stdout",
     "output_type": "stream",
     "text": [
      "2021-04-12 21:14:14,100 - qm - INFO - Performing health check\n",
      "2021-04-12 21:14:14,107 - qm - INFO - Health check passed\n"
     ]
    }
   ],
   "source": [
    "qmm1 = QuantumMachinesManager()"
   ]
  },
  {
   "cell_type": "code",
   "execution_count": 4,
   "id": "integrated-suspect",
   "metadata": {},
   "outputs": [
    {
     "name": "stdout",
     "output_type": "stream",
     "text": [
      "qm-1618287252745\n"
     ]
    }
   ],
   "source": [
    "# in config 1, 'con1' ports AO 1, 2, 3, 4 and AI 1 are used\n",
    "qm1 = qmm1.open_qm(config1, close_other_machines=False)\n",
    "qm1_id = qm1.id\n",
    "print(qm1_id)"
   ]
  },
  {
   "cell_type": "code",
   "execution_count": 5,
   "id": "sonic-mileage",
   "metadata": {},
   "outputs": [
    {
     "name": "stdout",
     "output_type": "stream",
     "text": [
      "qm-1618287253980\n"
     ]
    }
   ],
   "source": [
    "# in config 1, 'con2' ports AO 5, 6, 7, 8 and AI 2 are used\n",
    "qm2 = qmm1.open_qm(config2, close_other_machines=False)\n",
    "qm2_id = qm2.id\n",
    "print(qm2_id)"
   ]
  },
  {
   "cell_type": "code",
   "execution_count": 6,
   "id": "demanding-threshold",
   "metadata": {},
   "outputs": [
    {
     "name": "stdout",
     "output_type": "stream",
     "text": [
      "['qm-1618287253980']\n"
     ]
    }
   ],
   "source": [
    "print(qmm1.list_open_quantum_machines())"
   ]
  },
  {
   "cell_type": "markdown",
   "id": "personalized-trader",
   "metadata": {},
   "source": [
    "#### Result: we get the same result as attempts 1 and 2. "
   ]
  },
  {
   "cell_type": "markdown",
   "id": "sunset-processing",
   "metadata": {},
   "source": [
    "### Attempt 4. Same as Attempt 3, but the controller object in the config is changed to 'con1' and 'con2' respectively."
   ]
  },
  {
   "cell_type": "code",
   "execution_count": 7,
   "id": "touched-groove",
   "metadata": {},
   "outputs": [
    {
     "name": "stdout",
     "output_type": "stream",
     "text": [
      "2021-04-12 21:30:26,037 - qm - INFO - Performing health check\n",
      "2021-04-12 21:30:26,040 - qm - INFO - Health check passed\n"
     ]
    }
   ],
   "source": [
    "qmm1 = QuantumMachinesManager()"
   ]
  },
  {
   "cell_type": "code",
   "execution_count": 8,
   "id": "alive-table",
   "metadata": {},
   "outputs": [
    {
     "name": "stdout",
     "output_type": "stream",
     "text": [
      "qm-1618288224372\n"
     ]
    }
   ],
   "source": [
    "# keep controller name in config1 as 'con1'\n",
    "qm1 = qmm1.open_qm(config1, close_other_machines=False)\n",
    "qm1_id = qm1.id\n",
    "print(qm1_id)"
   ]
  },
  {
   "cell_type": "code",
   "execution_count": 7,
   "id": "hearing-growing",
   "metadata": {},
   "outputs": [],
   "source": [
    "# change controller name in config2 to 'con2'\n",
    "#qm2 = qmm1.open_qm(config2, close_other_machines=False)\n",
    "#qm2_id = qm2.id\n",
    "#print(qm2_id)\n",
    "\n",
    "# this cell throws a runtime error - Failed to contact QM manager"
   ]
  },
  {
   "cell_type": "markdown",
   "id": "smaller-testament",
   "metadata": {},
   "source": [
    "#### Note: Seems like changing the controller to 'con2' caused the runtime error. To confirm this, I will change the controller in config2 to some arbitrary name, e.g. 'aj'. I expect to get the same runtime error."
   ]
  },
  {
   "cell_type": "code",
   "execution_count": 6,
   "id": "mature-stick",
   "metadata": {},
   "outputs": [],
   "source": [
    "# change controller name in config2 to 'aj'\n",
    "#qm2 = qmm1.open_qm(config2, close_other_machines=False)\n",
    "#qm2_id = qm2.id\n",
    "#print(qm2_id)\n",
    "# we get the same runtime error"
   ]
  },
  {
   "cell_type": "markdown",
   "id": "fabulous-sudan",
   "metadata": {},
   "source": [
    "#### Result: runtime error. Seems like the controller name 'con1' is hard-coded. QM config spec does mention that currently only one controller is supported, so that might be the reason for this runtime error. "
   ]
  },
  {
   "cell_type": "markdown",
   "id": "nutritional-sullivan",
   "metadata": {},
   "source": [
    "### Attempt 5. I'm getting desperate... maybe we need to open QMs in separate python runtimes??? "
   ]
  },
  {
   "cell_type": "code",
   "execution_count": 5,
   "id": "varying-encyclopedia",
   "metadata": {},
   "outputs": [
    {
     "name": "stdout",
     "output_type": "stream",
     "text": [
      "2021-04-12 21:40:46,101 - qm - INFO - Performing health check\n",
      "2021-04-12 21:40:46,103 - qm - INFO - Health check passed\n"
     ]
    }
   ],
   "source": [
    "qmm1 = QuantumMachinesManager()"
   ]
  },
  {
   "cell_type": "code",
   "execution_count": 6,
   "id": "sized-nomination",
   "metadata": {},
   "outputs": [
    {
     "name": "stdout",
     "output_type": "stream",
     "text": [
      "qm-1618288844727\n"
     ]
    }
   ],
   "source": [
    "# open qm1 with this Jupyter notebook on this PC\n",
    "qm1 = qmm1.open_qm(config1, close_other_machines=False)\n",
    "qm1_id = qm1.id\n",
    "print(qm1_id)"
   ]
  },
  {
   "cell_type": "code",
   "execution_count": 7,
   "id": "resistant-nicaragua",
   "metadata": {},
   "outputs": [],
   "source": [
    "# open qm2 via the terminal on this PC (in the same Conda env)\n",
    "# the following commands were run in the terminal\n",
    "#qmm = QuantumMachinesManager()\n",
    "#qmm.list_open_quantum_machines() # this gave the id of the QM opened above, as expected\n",
    "#qm2 = qmm.open_qm(config2, close_other_machines=False)\n",
    "#print(qm2.id)\n",
    "#qmm.list_open_quantum_machines()"
   ]
  },
  {
   "cell_type": "markdown",
   "id": "molecular-planning",
   "metadata": {},
   "source": [
    "#### Result: nope, still not able to fulfill Specific goal. Ok, now I'm going to run the cell above on a different PC that is on the same internet server as the QM server. "
   ]
  },
  {
   "cell_type": "markdown",
   "id": "dressed-monkey",
   "metadata": {},
   "source": [
    "### Attempt 6. Open multiple QMs on different PCs."
   ]
  },
  {
   "cell_type": "code",
   "execution_count": 11,
   "id": "billion-writing",
   "metadata": {},
   "outputs": [
    {
     "name": "stdout",
     "output_type": "stream",
     "text": [
      "2021-04-13 00:31:24,320 - qm - INFO - Performing health check\n",
      "2021-04-13 00:31:24,322 - qm - INFO - Health check passed\n"
     ]
    }
   ],
   "source": [
    "qmm = QuantumMachinesManager()"
   ]
  },
  {
   "cell_type": "code",
   "execution_count": 4,
   "id": "compact-techno",
   "metadata": {},
   "outputs": [
    {
     "name": "stdout",
     "output_type": "stream",
     "text": [
      "qm-1618289317697\n"
     ]
    }
   ],
   "source": [
    "# open qm1 with config1 with this Jupyter notebook on this PC\n",
    "qm1 = qmm.open_qm(config1, close_other_machines=False)\n",
    "qm1_id = qm1.id\n",
    "print(qm1_id)"
   ]
  },
  {
   "cell_type": "code",
   "execution_count": null,
   "id": "polished-casino",
   "metadata": {},
   "outputs": [],
   "source": [
    "# open qm1 with config2 on a different PC that was on the same internet server as the QM server.\n",
    "# the following commands were run on the other PC\n",
    "#qmm = QuantumMachinesManager()\n",
    "#qmm.list_open_quantum_machines() # this gave the id of the QM opened above, as expected\n",
    "#qm2 = qmm.open_qm(config2, close_other_machines=False)\n",
    "#print(qm2.id)\n",
    "#qmm.list_open_quantum_machines()"
   ]
  },
  {
   "cell_type": "markdown",
   "id": "effective-navigation",
   "metadata": {},
   "source": [
    "#### Result: nope... seems like two distinct quantum machines require two distinct OPXs.... time to ask for help..."
   ]
  },
  {
   "cell_type": "code",
   "execution_count": 12,
   "id": "apparent-ownership",
   "metadata": {},
   "outputs": [
    {
     "data": {
      "text/plain": [
       "{'client': '0.80.627', 'server': '0.80.627'}"
      ]
     },
     "execution_count": 12,
     "metadata": {},
     "output_type": "execute_result"
    }
   ],
   "source": [
    "qmm.version()"
   ]
  },
  {
   "cell_type": "code",
   "execution_count": null,
   "id": "sharp-albania",
   "metadata": {},
   "outputs": [],
   "source": []
  }
 ],
 "metadata": {
  "kernelspec": {
   "display_name": "Python 3",
   "language": "python",
   "name": "python3"
  },
  "language_info": {
   "codemirror_mode": {
    "name": "ipython",
    "version": 3
   },
   "file_extension": ".py",
   "mimetype": "text/x-python",
   "name": "python",
   "nbconvert_exporter": "python",
   "pygments_lexer": "ipython3",
   "version": "3.9.2"
  }
 },
 "nbformat": 4,
 "nbformat_minor": 5
}
