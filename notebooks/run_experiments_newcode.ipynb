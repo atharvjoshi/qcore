{
 "cells": [
  {
   "cell_type": "code",
   "execution_count": 1,
   "id": "clean-learning",
   "metadata": {},
   "outputs": [],
   "source": [
    "# ensure relative imports are correctly imported\n",
    "import sys\n",
    "sys.path.insert(0, '../')"
   ]
  },
  {
   "cell_type": "code",
   "execution_count": 2,
   "id": "dangerous-invalid",
   "metadata": {},
   "outputs": [],
   "source": [
    "import numpy as np\n",
    "import matplotlib.pyplot as plt\n",
    "\n",
    "from qm.QuantumMachinesManager import QuantumMachinesManager\n",
    "from qm.QuantumMachine import QuantumMachine\n",
    "from qm.qua import *\n",
    "\n",
    "from instruments import LabBrick, MetaInstrument, Sa124\n",
    "from instruments.quantum_machines.configuration import *\n",
    "\n",
    "from measurements.routines import resonator_spectroscopy_new as rr_spec\n",
    "from measurements.routines import resonator_spectroscopy"
   ]
  },
  {
   "cell_type": "code",
   "execution_count": 3,
   "id": "headed-powell",
   "metadata": {},
   "outputs": [],
   "source": [
    "# define a qubit\n",
    "class Qubit(MetaInstrument):\n",
    "    \"\"\"\n",
    "    Encapsulates a qubit.\n",
    "    \"\"\"\n",
    "    def __init__(self, name: str, lo_freq: float):\n",
    "        self.name = name\n",
    "        self.lo_freq = lo_freq\n",
    "    \n",
    "    def _create_parameters(self):\n",
    "        print(\"created dummy parameters for \" + self.name)\n",
    "    \n",
    "    def _create_yaml_map(self):\n",
    "        return {\n",
    "            'lo_freq': self.lo_freq\n",
    "        }\n",
    "\n",
    "# instantiate the qubit\n",
    "qubit = Qubit(name='qubit', lo_freq=4.165e9)"
   ]
  },
  {
   "cell_type": "code",
   "execution_count": 4,
   "id": "handed-approval",
   "metadata": {},
   "outputs": [],
   "source": [
    "# define a resonator\n",
    "class Resonator(MetaInstrument):\n",
    "    \"\"\"\n",
    "    Encapsulates a resonator.\n",
    "    \"\"\"\n",
    "    def __init__(self, name: str, lo_freq: float):\n",
    "        self.name = name\n",
    "        self.lo_freq = lo_freq\n",
    "    \n",
    "    def _create_parameters(self):\n",
    "        print(\"created dummy parameters for \" + self.name)\n",
    "    \n",
    "    def _create_yaml_map(self):\n",
    "        return {\n",
    "            'lo_freq': self.lo_freq\n",
    "        }\n",
    "\n",
    "# instantiate the resonator\n",
    "rr = Resonator(name='rr', lo_freq=8.7571e9)"
   ]
  },
  {
   "cell_type": "code",
   "execution_count": 5,
   "id": "9cc1ec81",
   "metadata": {
    "scrolled": true
   },
   "outputs": [
    {
     "name": "stdout",
     "output_type": "stream",
     "text": [
      "Trying to initialize sa\n",
      "Error -8: {'error_string': b'Device not found'} in sa_open_device_by_serial()\n",
      "WARNING: Device was already open\n",
      "Closing and reinitializing it. Use configure_sweep() to change sweep parameters instead of __init__()\n",
      "Error -3: {'error_string': b'Device specified is not open'} in sa_close_device()\n"
     ]
    },
    {
     "ename": "NameError",
     "evalue": "name 'exit' is not defined",
     "output_type": "error",
     "traceback": [
      "\u001b[1;31m---------------------------------------------------------------------------\u001b[0m",
      "\u001b[1;31mNameError\u001b[0m                                 Traceback (most recent call last)",
      "\u001b[1;32m~\\Desktop\\qcore\\instruments\\signal_hound\\sa124.py\u001b[0m in \u001b[0;36m_connect\u001b[1;34m(self, serial_number)\u001b[0m\n\u001b[0;32m    107\u001b[0m         \u001b[1;32mtry\u001b[0m\u001b[1;33m:\u001b[0m\u001b[1;33m\u001b[0m\u001b[1;33m\u001b[0m\u001b[0m\n\u001b[1;32m--> 108\u001b[1;33m             \u001b[1;32mreturn\u001b[0m \u001b[0msa_open_device_by_serial\u001b[0m\u001b[1;33m(\u001b[0m\u001b[0mserial_number\u001b[0m\u001b[1;33m)\u001b[0m\u001b[1;33m[\u001b[0m\u001b[1;34m'handle'\u001b[0m\u001b[1;33m]\u001b[0m\u001b[1;33m\u001b[0m\u001b[1;33m\u001b[0m\u001b[0m\n\u001b[0m\u001b[0;32m    109\u001b[0m         \u001b[1;32mexcept\u001b[0m \u001b[0mNameError\u001b[0m\u001b[1;33m:\u001b[0m\u001b[1;33m\u001b[0m\u001b[1;33m\u001b[0m\u001b[0m\n",
      "\u001b[1;32m~\\Desktop\\qcore\\instruments\\signal_hound\\sa_api.py\u001b[0m in \u001b[0;36mprint_status_if_error\u001b[1;34m(*args, **kwargs)\u001b[0m\n\u001b[0;32m    193\u001b[0m         \u001b[1;32mif\u001b[0m \u001b[0mstatus\u001b[0m \u001b[1;33m<\u001b[0m \u001b[1;36m0\u001b[0m\u001b[1;33m:\u001b[0m\u001b[1;33m\u001b[0m\u001b[1;33m\u001b[0m\u001b[0m\n\u001b[1;32m--> 194\u001b[1;33m             \u001b[0mexit\u001b[0m\u001b[1;33m(\u001b[0m\u001b[1;33m)\u001b[0m\u001b[1;33m\u001b[0m\u001b[1;33m\u001b[0m\u001b[0m\n\u001b[0m\u001b[0;32m    195\u001b[0m         \u001b[1;32mreturn\u001b[0m \u001b[0mreturn_vars\u001b[0m\u001b[1;33m\u001b[0m\u001b[1;33m\u001b[0m\u001b[0m\n",
      "\u001b[1;31mNameError\u001b[0m: name 'exit' is not defined",
      "\nDuring handling of the above exception, another exception occurred:\n",
      "\u001b[1;31mNameError\u001b[0m                                 Traceback (most recent call last)",
      "\u001b[1;32m<ipython-input-5-c2176b5ad8f2>\u001b[0m in \u001b[0;36m<module>\u001b[1;34m\u001b[0m\n\u001b[1;32m----> 1\u001b[1;33m \u001b[0msa\u001b[0m \u001b[1;33m=\u001b[0m \u001b[0mSa124\u001b[0m\u001b[1;33m(\u001b[0m\u001b[0mname\u001b[0m\u001b[1;33m=\u001b[0m\u001b[1;34m'sa'\u001b[0m\u001b[1;33m,\u001b[0m \u001b[0mserial_number\u001b[0m\u001b[1;33m=\u001b[0m\u001b[1;36m19184645\u001b[0m\u001b[1;33m,\u001b[0m \u001b[0mcenter\u001b[0m\u001b[1;33m=\u001b[0m\u001b[1;36m8.7e9\u001b[0m\u001b[1;33m,\u001b[0m \u001b[0mspan\u001b[0m\u001b[1;33m=\u001b[0m\u001b[1;36m200e6\u001b[0m\u001b[1;33m)\u001b[0m\u001b[1;33m\u001b[0m\u001b[1;33m\u001b[0m\u001b[0m\n\u001b[0m",
      "\u001b[1;32m~\\Desktop\\qcore\\instruments\\signal_hound\\sa124.py\u001b[0m in \u001b[0;36m__init__\u001b[1;34m(self, name, serial_number, center, span, rbw, ref_power)\u001b[0m\n\u001b[0;32m     85\u001b[0m         \u001b[1;31m# TODO use try catch block in case device not authenticated\u001b[0m\u001b[1;33m\u001b[0m\u001b[1;33m\u001b[0m\u001b[1;33m\u001b[0m\u001b[0m\n\u001b[0;32m     86\u001b[0m         \u001b[0mprint\u001b[0m\u001b[1;33m(\u001b[0m\u001b[1;34m'Trying to initialize '\u001b[0m \u001b[1;33m+\u001b[0m \u001b[0mname\u001b[0m\u001b[1;33m)\u001b[0m\u001b[1;33m\u001b[0m\u001b[1;33m\u001b[0m\u001b[0m\n\u001b[1;32m---> 87\u001b[1;33m         \u001b[0mself\u001b[0m\u001b[1;33m.\u001b[0m\u001b[0m_device_handle\u001b[0m \u001b[1;33m=\u001b[0m \u001b[0mself\u001b[0m\u001b[1;33m.\u001b[0m\u001b[0m_connect\u001b[0m\u001b[1;33m(\u001b[0m\u001b[0mserial_number\u001b[0m\u001b[1;33m)\u001b[0m\u001b[1;33m\u001b[0m\u001b[1;33m\u001b[0m\u001b[0m\n\u001b[0m\u001b[0;32m     88\u001b[0m         \u001b[0mprint\u001b[0m\u001b[1;33m(\u001b[0m\u001b[1;34m'Connnected to SA124B '\u001b[0m \u001b[1;33m+\u001b[0m \u001b[0mstr\u001b[0m\u001b[1;33m(\u001b[0m\u001b[0mserial_number\u001b[0m\u001b[1;33m)\u001b[0m\u001b[1;33m)\u001b[0m\u001b[1;33m\u001b[0m\u001b[1;33m\u001b[0m\u001b[0m\n\u001b[0;32m     89\u001b[0m         \u001b[0msuper\u001b[0m\u001b[1;33m(\u001b[0m\u001b[1;33m)\u001b[0m\u001b[1;33m.\u001b[0m\u001b[0m__init__\u001b[0m\u001b[1;33m(\u001b[0m\u001b[0mname\u001b[0m\u001b[1;33m=\u001b[0m\u001b[0mname\u001b[0m\u001b[1;33m,\u001b[0m \u001b[0midentifier\u001b[0m\u001b[1;33m=\u001b[0m\u001b[0mserial_number\u001b[0m\u001b[1;33m)\u001b[0m\u001b[1;33m\u001b[0m\u001b[1;33m\u001b[0m\u001b[0m\n",
      "\u001b[1;32m~\\Desktop\\qcore\\instruments\\signal_hound\\sa124.py\u001b[0m in \u001b[0;36m_connect\u001b[1;34m(self, serial_number)\u001b[0m\n\u001b[0;32m    112\u001b[0m                   + 'change sweep parameters instead of __init__()')\n\u001b[0;32m    113\u001b[0m             \u001b[1;31m# TODO THIS ERROR HANDLING IS VERY HACKY, NEED TO IMPROVE\u001b[0m\u001b[1;33m\u001b[0m\u001b[1;33m\u001b[0m\u001b[1;33m\u001b[0m\u001b[0m\n\u001b[1;32m--> 114\u001b[1;33m             \u001b[0msa_close_device\u001b[0m\u001b[1;33m(\u001b[0m\u001b[1;36m0\u001b[0m\u001b[1;33m)\u001b[0m \u001b[1;31m# we own one SA, which is always assigned 0\u001b[0m\u001b[1;33m\u001b[0m\u001b[1;33m\u001b[0m\u001b[0m\n\u001b[0m\u001b[0;32m    115\u001b[0m             \u001b[1;32mreturn\u001b[0m \u001b[0msa_open_device_by_serial\u001b[0m\u001b[1;33m(\u001b[0m\u001b[0mserial_number\u001b[0m\u001b[1;33m)\u001b[0m\u001b[1;33m[\u001b[0m\u001b[1;34m'handle'\u001b[0m\u001b[1;33m]\u001b[0m\u001b[1;33m\u001b[0m\u001b[1;33m\u001b[0m\u001b[0m\n\u001b[0;32m    116\u001b[0m \u001b[1;33m\u001b[0m\u001b[0m\n",
      "\u001b[1;32m~\\Desktop\\qcore\\instruments\\signal_hound\\sa_api.py\u001b[0m in \u001b[0;36mprint_status_if_error\u001b[1;34m(*args, **kwargs)\u001b[0m\n\u001b[0;32m    192\u001b[0m             \u001b[0mprint\u001b[0m \u001b[1;33m(\u001b[0m\u001b[1;34mf\"{'Error' if status < 0 else 'Warning'} {status}: {sa_get_error_string(status)} in {func.__name__}()\"\u001b[0m\u001b[1;33m)\u001b[0m\u001b[1;33m\u001b[0m\u001b[1;33m\u001b[0m\u001b[0m\n\u001b[0;32m    193\u001b[0m         \u001b[1;32mif\u001b[0m \u001b[0mstatus\u001b[0m \u001b[1;33m<\u001b[0m \u001b[1;36m0\u001b[0m\u001b[1;33m:\u001b[0m\u001b[1;33m\u001b[0m\u001b[1;33m\u001b[0m\u001b[0m\n\u001b[1;32m--> 194\u001b[1;33m             \u001b[0mexit\u001b[0m\u001b[1;33m(\u001b[0m\u001b[1;33m)\u001b[0m\u001b[1;33m\u001b[0m\u001b[1;33m\u001b[0m\u001b[0m\n\u001b[0m\u001b[0;32m    195\u001b[0m         \u001b[1;32mreturn\u001b[0m \u001b[0mreturn_vars\u001b[0m\u001b[1;33m\u001b[0m\u001b[1;33m\u001b[0m\u001b[0m\n\u001b[0;32m    196\u001b[0m     \u001b[1;32mreturn\u001b[0m \u001b[0mprint_status_if_error\u001b[0m\u001b[1;33m\u001b[0m\u001b[1;33m\u001b[0m\u001b[0m\n",
      "\u001b[1;31mNameError\u001b[0m: name 'exit' is not defined"
     ]
    }
   ],
   "source": [
    "sa = Sa124(name='sa', serial_number=19184645, center=8.7e9, span=200e6)"
   ]
  },
  {
   "cell_type": "code",
   "execution_count": null,
   "id": "9c034feb",
   "metadata": {},
   "outputs": [],
   "source": [
    "sa.disconnect()"
   ]
  },
  {
   "cell_type": "code",
   "execution_count": 5,
   "id": "flying-belize",
   "metadata": {
    "scrolled": true
   },
   "outputs": [
    {
     "name": "stdout",
     "output_type": "stream",
     "text": [
      "2021-04-20 15:48:13,610 - qm - INFO - Performing health check\n",
      "2021-04-20 15:48:13,616 - qm - INFO - Health check passed\n"
     ]
    }
   ],
   "source": [
    "# start the qm\n",
    "qmm = QuantumMachinesManager()\n",
    "qm = qmm.open_qm(config)"
   ]
  },
  {
   "cell_type": "code",
   "execution_count": 6,
   "id": "genetic-range",
   "metadata": {},
   "outputs": [],
   "source": [
    "# We have tuned the IQ mixer according to the tutorial-2-2-SA124B-MixerTuning.ipynb document.\n",
    "# These are key numbers obtained:\n",
    "rr_dcOffsetI = 0.011558358245951837\n",
    "rr_dcOffsetQ = -0.00947436793762317\n",
    "rr_mixerGainCorrection = -0.15430981633780644\n",
    "rr_mixerPhaseCorrection = 0.0212698142172309\n",
    "\n",
    "q_dcOffsetI = -0.00647755186574999 \n",
    "q_dcOffsetQ = -0.011624171790995147\n",
    "q_mixerGainCorrection = -0.19547425898369505\n",
    "q_mixerPhaseCorrection = 0.05154287262922243\n",
    "\n",
    "# after this step we have tuned the IQ mixer.\n",
    "qm.set_output_dc_offset_by_element(\"rr\", \"I\", float(rr_dcOffsetI)) \n",
    "qm.set_output_dc_offset_by_element(\"rr\", \"Q\", float(rr_dcOffsetQ))\n",
    "qm.set_mixer_correction(\"mixer_rr\", rr_IF, rr_LO, IQ_imbalance(rr_mixerGainCorrection, rr_mixerPhaseCorrection))\n",
    "qm.set_output_dc_offset_by_element(\"qubit\", \"I\", float(q_dcOffsetI)) \n",
    "qm.set_output_dc_offset_by_element(\"qubit\", \"Q\", float(q_dcOffsetQ))\n",
    "qm.set_mixer_correction(\"mixer_qubit\", qubit_IF, qubit_LO, IQ_imbalance(rr_mixerGainCorrection, q_mixerPhaseCorrection))"
   ]
  },
  {
   "cell_type": "code",
   "execution_count": 7,
   "id": "measured-waste",
   "metadata": {
    "scrolled": false
   },
   "outputs": [
    {
     "name": "stdout",
     "output_type": "stream",
     "text": [
      "Trying to initialize lb_q\n",
      "Connnected to LabBrick 25331\n",
      "creating parameters...\n",
      "Initializing device...\n",
      "Successfully set frequency to 4.16E+09\n",
      "Successfully set power to +15\n",
      "Trying to initialize lb_rr\n",
      "Connnected to LabBrick 25335\n",
      "creating parameters...\n",
      "Initializing device...\n",
      "Successfully set frequency to 8.76E+09\n",
      "Successfully set power to +13\n"
     ]
    }
   ],
   "source": [
    "# start the labbricks\n",
    "lb_q = LabBrick(name='lb_q', serial_number=25331, element=qubit, power=15)\n",
    "lb_rr = LabBrick(name='lb_rr', serial_number=25335, element=rr, power=13)"
   ]
  },
  {
   "cell_type": "code",
   "execution_count": null,
   "id": "d7642223",
   "metadata": {},
   "outputs": [],
   "source": [
    "lb_q.disconnect()\n",
    "lb_rr.disconnect()"
   ]
  },
  {
   "cell_type": "code",
   "execution_count": null,
   "id": "b7915869",
   "metadata": {},
   "outputs": [],
   "source": [
    "# Setting the lab brick frequency\n",
    "lb_q.frequency = 4.165e9"
   ]
  },
  {
   "cell_type": "markdown",
   "id": "10d5819d",
   "metadata": {},
   "source": [
    "### Using the Spectrum Analyzer"
   ]
  },
  {
   "cell_type": "code",
   "execution_count": 24,
   "id": "1ad74d45",
   "metadata": {},
   "outputs": [
    {
     "name": "stdout",
     "output_type": "stream",
     "text": [
      "2021-04-20 15:52:15,462 - qm - INFO - Flags: \n",
      "2021-04-20 15:52:15,462 - qm - INFO - Executing high level program\n"
     ]
    }
   ],
   "source": [
    "# QUA script\n",
    "with program() as cw:\n",
    "    with infinite_loop_():\n",
    "        play(\"CW\", \"rr\")\n",
    "        play(\"CW\", \"qubit\")\n",
    "\n",
    "# Execute the script\n",
    "job = qm.execute(cw)"
   ]
  },
  {
   "cell_type": "code",
   "execution_count": 25,
   "id": "36e57e77",
   "metadata": {
    "scrolled": false
   },
   "outputs": [
    {
     "ename": "NameError",
     "evalue": "name 'sa' is not defined",
     "output_type": "error",
     "traceback": [
      "\u001b[1;31m---------------------------------------------------------------------------\u001b[0m",
      "\u001b[1;31mNameError\u001b[0m                                 Traceback (most recent call last)",
      "\u001b[1;32m<ipython-input-25-97eb597a0f2f>\u001b[0m in \u001b[0;36m<module>\u001b[1;34m\u001b[0m\n\u001b[0;32m      1\u001b[0m \u001b[1;31m# Spectrum analyzer sweep\u001b[0m\u001b[1;33m\u001b[0m\u001b[1;33m\u001b[0m\u001b[1;33m\u001b[0m\u001b[0m\n\u001b[1;32m----> 2\u001b[1;33m \u001b[0msa\u001b[0m\u001b[1;33m.\u001b[0m\u001b[0mconfigure_sweep\u001b[0m\u001b[1;33m(\u001b[0m\u001b[0mcenter\u001b[0m\u001b[1;33m=\u001b[0m\u001b[1;36m8.7571e9\u001b[0m\u001b[1;33m,\u001b[0m \u001b[0mspan\u001b[0m\u001b[1;33m=\u001b[0m\u001b[1;36m200e6\u001b[0m\u001b[1;33m,\u001b[0m \u001b[0mref_power\u001b[0m \u001b[1;33m=\u001b[0m \u001b[1;33m-\u001b[0m\u001b[1;36m20\u001b[0m\u001b[1;33m)\u001b[0m\u001b[1;33m\u001b[0m\u001b[1;33m\u001b[0m\u001b[0m\n\u001b[0m\u001b[0;32m      3\u001b[0m \u001b[1;33m\u001b[0m\u001b[0m\n\u001b[0;32m      4\u001b[0m \u001b[1;31m# Plot\u001b[0m\u001b[1;33m\u001b[0m\u001b[1;33m\u001b[0m\u001b[1;33m\u001b[0m\u001b[0m\n\u001b[0;32m      5\u001b[0m \u001b[0mfreqs\u001b[0m\u001b[1;33m,\u001b[0m \u001b[0mamps\u001b[0m \u001b[1;33m=\u001b[0m \u001b[0msa\u001b[0m\u001b[1;33m.\u001b[0m\u001b[0msweep\u001b[0m\u001b[1;33m(\u001b[0m\u001b[1;33m)\u001b[0m\u001b[1;33m\u001b[0m\u001b[1;33m\u001b[0m\u001b[0m\n",
      "\u001b[1;31mNameError\u001b[0m: name 'sa' is not defined"
     ]
    }
   ],
   "source": [
    "# Spectrum analyzer sweep\n",
    "sa.configure_sweep(center=8.7571e9, span=200e6, ref_power = -20)\n",
    "\n",
    "# Plot\n",
    "freqs, amps = sa.sweep()\n",
    "plt.plot(freqs, amps)"
   ]
  },
  {
   "cell_type": "code",
   "execution_count": 26,
   "id": "bfc1a1cb",
   "metadata": {
    "scrolled": true
   },
   "outputs": [
    {
     "data": {
      "text/plain": [
       "True"
      ]
     },
     "execution_count": 26,
     "metadata": {},
     "output_type": "execute_result"
    }
   ],
   "source": [
    "# Stopping the job\n",
    "job.halt()"
   ]
  },
  {
   "cell_type": "markdown",
   "id": "optical-partnership",
   "metadata": {},
   "source": [
    "### Resonator spectroscopy"
   ]
  },
  {
   "cell_type": "code",
   "execution_count": 8,
   "id": "joint-bubble",
   "metadata": {
    "scrolled": false
   },
   "outputs": [],
   "source": [
    "F_START = -47.0e6\n",
    "F_STOP = -48.5e6\n",
    "F_STEP = -0.01e6\n",
    "F_VEC = np.arange(F_START, F_STOP, F_STEP)\n",
    "REPS = 400\n",
    "WAIT_TIME = 20000.\n",
    "rr_ascale = 1.\n",
    "\n",
    "# amplitude_volts = 0.32*rr_amp_scale\n",
    "# try to keep amplitude_volts < 0.4 V (otherwise the pulse can be deformed)\n",
    "RR_spec = rr_spec.ResonatorSpectroscopy('rr_spec', qm, REPS, \n",
    "                                        WAIT_TIME, F_VEC, rr_ascale, \n",
    "                                        qubit_ascale = 0.001, \n",
    "                                        qubit_pulse = 'saturation')\n",
    "\n",
    "#amps_020_4000 = np.abs(I_list + 1j*Q_list)\n",
    "\n",
    "#freqs = F_VEC/1e6\n",
    "#plt.plot(freqs, amps_020_4000)"
   ]
  },
  {
   "cell_type": "code",
   "execution_count": 27,
   "id": "bfad19a7",
   "metadata": {},
   "outputs": [
    {
     "name": "stdout",
     "output_type": "stream",
     "text": [
      "[-47000000. -47010000. -47020000. -47030000. -47040000. -47050000.\n",
      " -47060000. -47070000. -47080000. -47090000. -47100000. -47110000.\n",
      " -47120000. -47130000. -47140000. -47150000. -47160000. -47170000.\n",
      " -47180000. -47190000. -47200000. -47210000. -47220000. -47230000.\n",
      " -47240000. -47250000. -47260000. -47270000. -47280000. -47290000.\n",
      " -47300000. -47310000. -47320000. -47330000. -47340000. -47350000.\n",
      " -47360000. -47370000. -47380000. -47390000. -47400000. -47410000.\n",
      " -47420000. -47430000. -47440000. -47450000. -47460000. -47470000.\n",
      " -47480000. -47490000. -47500000. -47510000. -47520000. -47530000.\n",
      " -47540000. -47550000. -47560000. -47570000. -47580000. -47590000.\n",
      " -47600000. -47610000. -47620000. -47630000. -47640000. -47650000.\n",
      " -47660000. -47670000. -47680000. -47690000. -47700000. -47710000.\n",
      " -47720000. -47730000. -47740000. -47750000. -47760000. -47770000.\n",
      " -47780000. -47790000. -47800000. -47810000. -47820000. -47830000.\n",
      " -47840000. -47850000. -47860000. -47870000. -47880000. -47890000.\n",
      " -47900000. -47910000. -47920000. -47930000. -47940000. -47950000.\n",
      " -47960000. -47970000. -47980000. -47990000. -48000000. -48010000.\n",
      " -48020000. -48030000. -48040000. -48050000. -48060000. -48070000.\n",
      " -48080000. -48090000. -48100000. -48110000. -48120000. -48130000.\n",
      " -48140000. -48150000. -48160000. -48170000. -48180000. -48190000.\n",
      " -48200000. -48210000. -48220000. -48230000. -48240000. -48250000.\n",
      " -48260000. -48270000. -48280000. -48290000. -48300000. -48310000.\n",
      " -48320000. -48330000. -48340000. -48350000. -48360000. -48370000.\n",
      " -48380000. -48390000. -48400000. -48410000. -48420000. -48430000.\n",
      " -48440000. -48450000. -48460000. -48470000. -48480000. -48490000.]\n",
      "[20000.]\n",
      "2021-04-20 15:52:26,721 - qm - INFO - Flags: \n",
      "2021-04-20 15:52:26,721 - qm - INFO - Executing high level program\n",
      "2021-04-20 15:52:26,748 - qm - ERROR - Job  failed. Failed to execute program.\n"
     ]
    },
    {
     "ename": "FailedToAddJobToQueueException",
     "evalue": "",
     "output_type": "error",
     "traceback": [
      "\u001b[1;31m---------------------------------------------------------------------------\u001b[0m",
      "\u001b[1;31mFailedToAddJobToQueueException\u001b[0m            Traceback (most recent call last)",
      "\u001b[1;32m<ipython-input-27-633c576f401c>\u001b[0m in \u001b[0;36m<module>\u001b[1;34m\u001b[0m\n\u001b[0;32m      1\u001b[0m \u001b[0mscript\u001b[0m \u001b[1;33m=\u001b[0m \u001b[0mRR_spec\u001b[0m\u001b[1;33m.\u001b[0m\u001b[0m_script\u001b[0m\u001b[1;33m(\u001b[0m\u001b[1;33m)\u001b[0m\u001b[1;33m\u001b[0m\u001b[1;33m\u001b[0m\u001b[0m\n\u001b[1;32m----> 2\u001b[1;33m \u001b[0mqueued_job\u001b[0m \u001b[1;33m=\u001b[0m \u001b[0mqm\u001b[0m\u001b[1;33m.\u001b[0m\u001b[0mqueue\u001b[0m\u001b[1;33m.\u001b[0m\u001b[0madd\u001b[0m\u001b[1;33m(\u001b[0m\u001b[0mscript\u001b[0m\u001b[1;33m)\u001b[0m\u001b[1;33m\u001b[0m\u001b[1;33m\u001b[0m\u001b[0m\n\u001b[0m",
      "\u001b[1;32m~\\anaconda3\\envs\\qcrew\\lib\\site-packages\\qm\\QmQueue.py\u001b[0m in \u001b[0;36madd\u001b[1;34m(self, program, **kwargs)\u001b[0m\n\u001b[0;32m     71\u001b[0m         \u001b[1;33m>>\u001b[0m\u001b[1;33m>\u001b[0m \u001b[0mqm\u001b[0m\u001b[1;33m.\u001b[0m\u001b[0mqueue\u001b[0m\u001b[1;33m.\u001b[0m\u001b[0minsert\u001b[0m\u001b[1;33m(\u001b[0m\u001b[0mprogram\u001b[0m\u001b[1;33m,\u001b[0m \u001b[0mposition\u001b[0m\u001b[1;33m)\u001b[0m  \u001b[1;31m# adds at position\u001b[0m\u001b[1;33m\u001b[0m\u001b[1;33m\u001b[0m\u001b[0m\n\u001b[0;32m     72\u001b[0m         \"\"\"\n\u001b[1;32m---> 73\u001b[1;33m         \u001b[1;32mreturn\u001b[0m \u001b[0mself\u001b[0m\u001b[1;33m.\u001b[0m\u001b[0m_insert\u001b[0m\u001b[1;33m(\u001b[0m\u001b[0mprogram\u001b[0m\u001b[1;33m,\u001b[0m \u001b[0m_QueuePosition\u001b[0m\u001b[1;33m.\u001b[0m\u001b[0mEnd\u001b[0m\u001b[1;33m,\u001b[0m \u001b[1;33m**\u001b[0m\u001b[0mkwargs\u001b[0m\u001b[1;33m)\u001b[0m\u001b[1;33m\u001b[0m\u001b[1;33m\u001b[0m\u001b[0m\n\u001b[0m\u001b[0;32m     74\u001b[0m \u001b[1;33m\u001b[0m\u001b[0m\n\u001b[0;32m     75\u001b[0m     \u001b[1;32mdef\u001b[0m \u001b[0madd_to_start\u001b[0m\u001b[1;33m(\u001b[0m\u001b[0mself\u001b[0m\u001b[1;33m,\u001b[0m \u001b[0mprogram\u001b[0m\u001b[1;33m:\u001b[0m \u001b[0m_Program\u001b[0m\u001b[1;33m,\u001b[0m \u001b[1;33m**\u001b[0m\u001b[0mkwargs\u001b[0m\u001b[1;33m)\u001b[0m \u001b[1;33m->\u001b[0m \u001b[0mQmPendingJob\u001b[0m\u001b[1;33m:\u001b[0m\u001b[1;33m\u001b[0m\u001b[1;33m\u001b[0m\u001b[0m\n",
      "\u001b[1;32m~\\anaconda3\\envs\\qcrew\\lib\\site-packages\\qm\\QmQueue.py\u001b[0m in \u001b[0;36m_insert\u001b[1;34m(self, program, position, **kwargs)\u001b[0m\n\u001b[0;32m    111\u001b[0m         \u001b[1;32mif\u001b[0m \u001b[1;32mnot\u001b[0m \u001b[0mresponse\u001b[0m\u001b[1;33m.\u001b[0m\u001b[0mok\u001b[0m\u001b[1;33m:\u001b[0m\u001b[1;33m\u001b[0m\u001b[1;33m\u001b[0m\u001b[0m\n\u001b[0;32m    112\u001b[0m             \u001b[0mlogger\u001b[0m\u001b[1;33m.\u001b[0m\u001b[0merror\u001b[0m\u001b[1;33m(\u001b[0m\u001b[1;34m\"Job \"\u001b[0m \u001b[1;33m+\u001b[0m \u001b[0mjob_id\u001b[0m \u001b[1;33m+\u001b[0m \u001b[1;34m\" failed. Failed to execute program.\"\u001b[0m\u001b[1;33m)\u001b[0m\u001b[1;33m\u001b[0m\u001b[1;33m\u001b[0m\u001b[0m\n\u001b[1;32m--> 113\u001b[1;33m             \u001b[1;32mraise\u001b[0m \u001b[0mFailedToAddJobToQueueException\u001b[0m\u001b[1;33m(\u001b[0m\u001b[0mjob_id\u001b[0m\u001b[1;33m)\u001b[0m\u001b[1;33m\u001b[0m\u001b[1;33m\u001b[0m\u001b[0m\n\u001b[0m\u001b[0;32m    114\u001b[0m \u001b[1;33m\u001b[0m\u001b[0m\n\u001b[0;32m    115\u001b[0m         \u001b[1;32mreturn\u001b[0m \u001b[0mQmPendingJob\u001b[0m\u001b[1;33m(\u001b[0m\u001b[0mjob_id\u001b[0m\u001b[1;33m,\u001b[0m \u001b[0mself\u001b[0m\u001b[1;33m.\u001b[0m\u001b[0m_machine\u001b[0m\u001b[1;33m,\u001b[0m \u001b[0mself\u001b[0m\u001b[1;33m.\u001b[0m\u001b[0m_qmm\u001b[0m\u001b[1;33m)\u001b[0m\u001b[1;33m\u001b[0m\u001b[1;33m\u001b[0m\u001b[0m\n",
      "\u001b[1;31mFailedToAddJobToQueueException\u001b[0m: "
     ]
    }
   ],
   "source": [
    "script = RR_spec._script()\n",
    "queued_job = qm.queue.add(script)"
   ]
  },
  {
   "cell_type": "code",
   "execution_count": 9,
   "id": "0cabb46f",
   "metadata": {},
   "outputs": [
    {
     "name": "stdout",
     "output_type": "stream",
     "text": [
      "2021-04-20 15:34:46,121 - qm - INFO - Flags: \n",
      "2021-04-20 15:34:46,121 - qm - INFO - Executing high level program\n",
      "2021-04-20 15:34:46,136 - qm - ERROR - Job  failed. Failed to execute program.\n"
     ]
    },
    {
     "ename": "FailedToAddJobToQueueException",
     "evalue": "",
     "output_type": "error",
     "traceback": [
      "\u001b[1;31m---------------------------------------------------------------------------\u001b[0m",
      "\u001b[1;31mFailedToAddJobToQueueException\u001b[0m            Traceback (most recent call last)",
      "\u001b[1;32m<ipython-input-9-c16f8a889bb9>\u001b[0m in \u001b[0;36m<module>\u001b[1;34m\u001b[0m\n\u001b[1;32m----> 1\u001b[1;33m \u001b[0mRR_spec\u001b[0m\u001b[1;33m.\u001b[0m\u001b[0mqueue_job\u001b[0m\u001b[1;33m(\u001b[0m\u001b[1;33m)\u001b[0m\u001b[1;33m\u001b[0m\u001b[1;33m\u001b[0m\u001b[0m\n\u001b[0m",
      "\u001b[1;32m~\\Desktop\\qcore\\measurements\\measurement.py\u001b[0m in \u001b[0;36mqueue_job\u001b[1;34m(self)\u001b[0m\n\u001b[0;32m     74\u001b[0m             \u001b[0mprint\u001b[0m\u001b[1;33m(\u001b[0m\u001b[1;34m'Overwriting last job. '\u001b[0m\u001b[1;33m)\u001b[0m\u001b[1;33m\u001b[0m\u001b[1;33m\u001b[0m\u001b[0m\n\u001b[0;32m     75\u001b[0m \u001b[1;33m\u001b[0m\u001b[0m\n\u001b[1;32m---> 76\u001b[1;33m         \u001b[0mself\u001b[0m\u001b[1;33m.\u001b[0m\u001b[0mqueued_job\u001b[0m \u001b[1;33m=\u001b[0m \u001b[0mself\u001b[0m\u001b[1;33m.\u001b[0m\u001b[0m_quantum_machine\u001b[0m\u001b[1;33m.\u001b[0m\u001b[0mqueue\u001b[0m\u001b[1;33m.\u001b[0m\u001b[0madd\u001b[0m\u001b[1;33m(\u001b[0m\u001b[0mself\u001b[0m\u001b[1;33m.\u001b[0m\u001b[0m_script\u001b[0m\u001b[1;33m(\u001b[0m\u001b[1;33m)\u001b[0m\u001b[1;33m)\u001b[0m\u001b[1;33m\u001b[0m\u001b[1;33m\u001b[0m\u001b[0m\n\u001b[0m\u001b[0;32m     77\u001b[0m         \u001b[0mq_position\u001b[0m \u001b[1;33m=\u001b[0m \u001b[0mself\u001b[0m\u001b[1;33m.\u001b[0m\u001b[0mqueued_job\u001b[0m\u001b[1;33m.\u001b[0m\u001b[0mposition_in_queue\u001b[0m\u001b[1;33m(\u001b[0m\u001b[1;33m)\u001b[0m\u001b[1;33m\u001b[0m\u001b[1;33m\u001b[0m\u001b[0m\n\u001b[0;32m     78\u001b[0m         \u001b[0mjob_id\u001b[0m \u001b[1;33m=\u001b[0m \u001b[0mqueued_job\u001b[0m\u001b[1;33m.\u001b[0m\u001b[0mid\u001b[0m\u001b[1;33m(\u001b[0m\u001b[1;33m)\u001b[0m\u001b[1;33m\u001b[0m\u001b[1;33m\u001b[0m\u001b[0m\n",
      "\u001b[1;32m~\\anaconda3\\envs\\qcrew\\lib\\site-packages\\qm\\QmQueue.py\u001b[0m in \u001b[0;36madd\u001b[1;34m(self, program, **kwargs)\u001b[0m\n\u001b[0;32m     71\u001b[0m         \u001b[1;33m>>\u001b[0m\u001b[1;33m>\u001b[0m \u001b[0mqm\u001b[0m\u001b[1;33m.\u001b[0m\u001b[0mqueue\u001b[0m\u001b[1;33m.\u001b[0m\u001b[0minsert\u001b[0m\u001b[1;33m(\u001b[0m\u001b[0mprogram\u001b[0m\u001b[1;33m,\u001b[0m \u001b[0mposition\u001b[0m\u001b[1;33m)\u001b[0m  \u001b[1;31m# adds at position\u001b[0m\u001b[1;33m\u001b[0m\u001b[1;33m\u001b[0m\u001b[0m\n\u001b[0;32m     72\u001b[0m         \"\"\"\n\u001b[1;32m---> 73\u001b[1;33m         \u001b[1;32mreturn\u001b[0m \u001b[0mself\u001b[0m\u001b[1;33m.\u001b[0m\u001b[0m_insert\u001b[0m\u001b[1;33m(\u001b[0m\u001b[0mprogram\u001b[0m\u001b[1;33m,\u001b[0m \u001b[0m_QueuePosition\u001b[0m\u001b[1;33m.\u001b[0m\u001b[0mEnd\u001b[0m\u001b[1;33m,\u001b[0m \u001b[1;33m**\u001b[0m\u001b[0mkwargs\u001b[0m\u001b[1;33m)\u001b[0m\u001b[1;33m\u001b[0m\u001b[1;33m\u001b[0m\u001b[0m\n\u001b[0m\u001b[0;32m     74\u001b[0m \u001b[1;33m\u001b[0m\u001b[0m\n\u001b[0;32m     75\u001b[0m     \u001b[1;32mdef\u001b[0m \u001b[0madd_to_start\u001b[0m\u001b[1;33m(\u001b[0m\u001b[0mself\u001b[0m\u001b[1;33m,\u001b[0m \u001b[0mprogram\u001b[0m\u001b[1;33m:\u001b[0m \u001b[0m_Program\u001b[0m\u001b[1;33m,\u001b[0m \u001b[1;33m**\u001b[0m\u001b[0mkwargs\u001b[0m\u001b[1;33m)\u001b[0m \u001b[1;33m->\u001b[0m \u001b[0mQmPendingJob\u001b[0m\u001b[1;33m:\u001b[0m\u001b[1;33m\u001b[0m\u001b[1;33m\u001b[0m\u001b[0m\n",
      "\u001b[1;32m~\\anaconda3\\envs\\qcrew\\lib\\site-packages\\qm\\QmQueue.py\u001b[0m in \u001b[0;36m_insert\u001b[1;34m(self, program, position, **kwargs)\u001b[0m\n\u001b[0;32m    111\u001b[0m         \u001b[1;32mif\u001b[0m \u001b[1;32mnot\u001b[0m \u001b[0mresponse\u001b[0m\u001b[1;33m.\u001b[0m\u001b[0mok\u001b[0m\u001b[1;33m:\u001b[0m\u001b[1;33m\u001b[0m\u001b[1;33m\u001b[0m\u001b[0m\n\u001b[0;32m    112\u001b[0m             \u001b[0mlogger\u001b[0m\u001b[1;33m.\u001b[0m\u001b[0merror\u001b[0m\u001b[1;33m(\u001b[0m\u001b[1;34m\"Job \"\u001b[0m \u001b[1;33m+\u001b[0m \u001b[0mjob_id\u001b[0m \u001b[1;33m+\u001b[0m \u001b[1;34m\" failed. Failed to execute program.\"\u001b[0m\u001b[1;33m)\u001b[0m\u001b[1;33m\u001b[0m\u001b[1;33m\u001b[0m\u001b[0m\n\u001b[1;32m--> 113\u001b[1;33m             \u001b[1;32mraise\u001b[0m \u001b[0mFailedToAddJobToQueueException\u001b[0m\u001b[1;33m(\u001b[0m\u001b[0mjob_id\u001b[0m\u001b[1;33m)\u001b[0m\u001b[1;33m\u001b[0m\u001b[1;33m\u001b[0m\u001b[0m\n\u001b[0m\u001b[0;32m    114\u001b[0m \u001b[1;33m\u001b[0m\u001b[0m\n\u001b[0;32m    115\u001b[0m         \u001b[1;32mreturn\u001b[0m \u001b[0mQmPendingJob\u001b[0m\u001b[1;33m(\u001b[0m\u001b[0mjob_id\u001b[0m\u001b[1;33m,\u001b[0m \u001b[0mself\u001b[0m\u001b[1;33m.\u001b[0m\u001b[0m_machine\u001b[0m\u001b[1;33m,\u001b[0m \u001b[0mself\u001b[0m\u001b[1;33m.\u001b[0m\u001b[0m_qmm\u001b[0m\u001b[1;33m)\u001b[0m\u001b[1;33m\u001b[0m\u001b[1;33m\u001b[0m\u001b[0m\n",
      "\u001b[1;31mFailedToAddJobToQueueException\u001b[0m: "
     ]
    }
   ],
   "source": [
    "RR_spec.queue_job()"
   ]
  },
  {
   "cell_type": "code",
   "execution_count": 11,
   "id": "98b685f2",
   "metadata": {
    "scrolled": false
   },
   "outputs": [
    {
     "name": "stdout",
     "output_type": "stream",
     "text": [
      "2021-04-20 15:35:12,820 - qm - INFO - Flags: \n",
      "2021-04-20 15:35:12,820 - qm - INFO - Executing high level program\n"
     ]
    },
    {
     "data": {
      "text/plain": [
       "[<matplotlib.lines.Line2D at 0x189bcdc9760>]"
      ]
     },
     "execution_count": 11,
     "metadata": {},
     "output_type": "execute_result"
    },
    {
     "data": {
      "image/png": "[encoded data removed]",
      "text/plain": [
       "<Figure size 432x288 with 1 Axes>"
      ]
     },
     "metadata": {
      "needs_background": "light"
     },
     "output_type": "display_data"
    }
   ],
   "source": [
    "F_START = -47.0e6\n",
    "F_STOP = -51e6\n",
    "F_STEP = -0.03e6\n",
    "F_VEC = np.arange(F_START, F_STOP, F_STEP)\n",
    "REPS = 4000\n",
    "WAIT_TIME = 20000\n",
    "rr_amp_scale = 1\n",
    "\n",
    "I_list, Q_list = resonator_spectroscopy.run(qm, F_START, F_STOP, F_STEP, REPS, WAIT_TIME, \n",
    "                                            rr_amp_scale, qubit_amp_scale = None)\n",
    "\n",
    "amps_2 = np.abs(I_list + 1j*Q_list)\n",
    "freqs = F_VEC/1e6\n",
    "plt.plot(freqs, amps_2)"
   ]
  },
  {
   "cell_type": "markdown",
   "id": "roman-archive",
   "metadata": {},
   "source": [
    "### Resonator power level sweep"
   ]
  },
  {
   "cell_type": "code",
   "execution_count": null,
   "id": "suspended-edition",
   "metadata": {
    "scrolled": true
   },
   "outputs": [],
   "source": [
    "REPS = 1000\n",
    "AMP_START = 0.2\n",
    "AMP_STOP = 0.9\n",
    "AMP_STEP = 0.01\n",
    "AMP_VEC = np.arange(AMP_START, AMP_STOP, AMP_STEP)\n",
    "BUFFER_SIZE = len(AMP_VEC)\n",
    "WAIT_TIME = 20000\n",
    "rr_IF = -50e6\n",
    "\n",
    "I_list, Q_list = resonator_power_level.run(qm, AMP_START, AMP_STOP, AMP_STEP, REPS, WAIT_TIME, \n",
    "                                           rr_IF, qubit_amp_scale = None)"
   ]
  },
  {
   "cell_type": "code",
   "execution_count": null,
   "id": "administrative-touch",
   "metadata": {
    "scrolled": false
   },
   "outputs": [],
   "source": [
    "contrast = np.abs(I_list + 1j*Q_list)\n",
    "plt.figure(figsize=(10,8))\n",
    "plt.plot(AMP_VEC, contrast)\n",
    "plt.grid()"
   ]
  },
  {
   "cell_type": "markdown",
   "id": "patient-sponsorship",
   "metadata": {},
   "source": [
    "### Qubit spectroscopy"
   ]
  },
  {
   "cell_type": "code",
   "execution_count": null,
   "id": "known-arrest",
   "metadata": {
    "scrolled": true
   },
   "outputs": [],
   "source": [
    "F_START = -40.0e6\n",
    "F_STOP = -60.0e6\n",
    "F_STEP = -0.1e6\n",
    "F_VEC = np.arange(F_START, F_STOP, F_STEP)\n",
    "REPS = 4000\n",
    "WAIT_TIME = 70000\n",
    "rr_amp_scale = 0.02\n",
    "rr_IF = -47.5e6\n",
    "qubit_amp_scale = 1.\n",
    "qubit_LO = 4.165e9\n",
    "lb_q.frequency = qubit_LO\n",
    "\n",
    "I_list, Q_list = qubit_spectroscopy.run(qm, F_START, F_STOP, F_STEP, REPS, WAIT_TIME, \n",
    "                                        rr_amp_scale, rr_IF, qubit_amp_scale)\n"
   ]
  },
  {
   "cell_type": "code",
   "execution_count": null,
   "id": "controlling-partnership",
   "metadata": {},
   "outputs": [],
   "source": [
    "amps = np.abs(I_list + 1j*Q_list)\n",
    "freqs = F_VEC/1e6\n",
    "\n",
    "plt.figure(figsize=(15, 6), dpi=80)\n",
    "plt.plot(freqs, amps)\n",
    "plt.xlabel('Freq (MHz)')\n",
    "plt.ylabel('|Amp|')\n",
    "plt.grid()\n",
    "plt.legend()"
   ]
  },
  {
   "cell_type": "markdown",
   "id": "interesting-sender",
   "metadata": {},
   "source": [
    "### Qubit spectroscopy with varying LO"
   ]
  },
  {
   "cell_type": "code",
   "execution_count": null,
   "id": "considerable-midwest",
   "metadata": {
    "scrolled": true
   },
   "outputs": [],
   "source": [
    "qubit_LO_range = [4.170e9,]# 4.360e9, 4.542e9, 4.732e9, 4.922e9, 5.112e9, 5.302e9, 5.492e9]\n",
    "\n",
    "F_START = 100e6\n",
    "F_STOP = -100e6\n",
    "F_STEP = -0.02e6\n",
    "F_VEC = np.arange(F_START, F_STOP, F_STEP)\n",
    "REPS = 4000\n",
    "WAIT_TIME = 100000\n",
    "\n",
    "rr_amp_scale = 0.02\n",
    "rr_IF = -47.25e6\n",
    "qubit_amp_scale = 1.25\n",
    "\n",
    "# Each element of output_list corresponds to an LO value and is a dictionary containing I and Q lists \n",
    "output_list = []\n",
    "for qubit_LO in qubit_LO_range:\n",
    "    lb_q.frequency = qubit_LO\n",
    "    I_list, Q_list = qubit_spectroscopy.run(qm, F_START, F_STOP, F_STEP, REPS, WAIT_TIME, \n",
    "                                            rr_amp_scale, rr_IF, qubit_amp_scale)\n",
    "    output_list.append({'I': I_list, 'Q': Q_list})"
   ]
  },
  {
   "cell_type": "code",
   "execution_count": null,
   "id": "controversial-tension",
   "metadata": {},
   "outputs": [],
   "source": [
    "config['pulses']['saturation_pulse']"
   ]
  },
  {
   "cell_type": "code",
   "execution_count": null,
   "id": "african-moscow",
   "metadata": {
    "scrolled": false
   },
   "outputs": [],
   "source": [
    "for i, output in enumerate(output_list):\n",
    "    I_list = output['I']\n",
    "    Q_list = output['Q']\n",
    "    amps = np.abs(I_list + 1j*Q_list)\n",
    "    \n",
    "    plt.figure(figsize=(15, 6), dpi=80)\n",
    "    plt.plot(F_VEC/1e6, amps, )#marker='o', markersize=6, ls='')\n",
    "    plt.title('Qubit_spec, 4k reps, 100us wait time \\n sat. a=1.25, meas. a=0.02 (low power peak) and freq = -47.25MHz, tof = 824 ns, qubit_LO = %.3fGHz' % (qubit_LO_range[i]/1e9))\n",
    "    plt.xlabel('Freq (MHz)')\n",
    "    plt.ylabel('|Amp|')\n",
    "    plt.grid()\n",
    "    plt.legend()\n",
    "    plt.savefig('qubit_spec_LO_%.3fGHz.png' % (qubit_LO_range[i]/1e9))"
   ]
  },
  {
   "cell_type": "markdown",
   "id": "caroline-window",
   "metadata": {},
   "source": [
    "### Qubit Power Rabi"
   ]
  },
  {
   "cell_type": "code",
   "execution_count": null,
   "id": "small-reduction",
   "metadata": {
    "scrolled": true
   },
   "outputs": [],
   "source": [
    "REPS = 4000\n",
    "AMP_START = -1.6\n",
    "AMP_STOP = 0.0\n",
    "AMP_STEP = 0.02\n",
    "WAIT_TIME = 70000\n",
    "rr_amp_scale = 0.02\n",
    "qubit_LO = 4.165e9\n",
    "lb_q.frequency = qubit_LO\n",
    "\n",
    "I_list, Q_list = power_rabi.run(qm, AMP_START, AMP_STOP, AMP_STEP, REPS, \n",
    "                                WAIT_TIME, rr_amp_scale, pulse = 'saturation')"
   ]
  },
  {
   "cell_type": "code",
   "execution_count": null,
   "id": "polish-invasion",
   "metadata": {
    "scrolled": false
   },
   "outputs": [],
   "source": [
    "amps = np.abs(I_list + 1j*Q_list)\n",
    "AMP_VEC = np.arange(AMP_START, AMP_STOP, AMP_STEP)\n",
    "\n",
    "plt.figure(figsize=(12, 8), dpi=80)\n",
    "plt.plot(AMP_VEC, amps)\n",
    "\n",
    "plt.xlabel('Amplitude scaling')\n",
    "plt.ylabel('contrast')\n",
    "plt.grid()\n",
    "plt.legend()"
   ]
  },
  {
   "cell_type": "markdown",
   "id": "conscious-bridges",
   "metadata": {},
   "source": [
    "### T1 measurement"
   ]
  },
  {
   "cell_type": "code",
   "execution_count": null,
   "id": "recognized-ivory",
   "metadata": {},
   "outputs": [],
   "source": [
    "REPS = 4000\n",
    "TAU_START = 24 \n",
    "TAU_STOP = 50000\n",
    "TAU_STEP = 100 \n",
    "TAU_VEC = np.arange(TAU_START, TAU_STOP, TAU_STEP)\n",
    "WAIT_TIME = 100000 # wait for cavity to relax to ground state\n",
    "\n",
    "qubit_amp_scale = 1.0\n",
    "rr_amp_scale = 0.02\n",
    "qubit_LO = 4.165e9\n",
    "\n",
    "lb_q.frequency = qubit_LO\n",
    "\n",
    "I_list, Q_list = qubit_T1.run(qm, TAU_START, TAU_STOP, TAU_STEP, REPS, \n",
    "                                WAIT_TIME, rr_amp_scale, qubit_amp_scale)\n"
   ]
  },
  {
   "cell_type": "code",
   "execution_count": null,
   "id": "decreased-closer",
   "metadata": {},
   "outputs": [],
   "source": [
    "amps = np.abs(I_list + 1j*Q_list)\n",
    "plt.figure(figsize=(12, 8), dpi=80)\n",
    "plt.plot(TAU_VEC/1e3, amps)\n",
    "\n",
    "#plt.title('Qubit_spec, -50MHz to -1MHz 0.2MHz step for 2k reps \\n sat. a=0.7, meas. a=1.25 and freq = -49.80MHz, tof = 824 ns, qubit_LO = 4.382e9')\n",
    "plt.xlabel(r'Delay ($\\mu$s)')\n",
    "plt.ylabel('contrast')\n",
    "plt.grid()\n",
    "plt.legend()"
   ]
  },
  {
   "cell_type": "markdown",
   "id": "removed-diagram",
   "metadata": {},
   "source": [
    "### Low-power readout contrast for different wait times"
   ]
  },
  {
   "cell_type": "code",
   "execution_count": null,
   "id": "competitive-stock",
   "metadata": {
    "scrolled": true
   },
   "outputs": [],
   "source": [
    "REPS = 8000\n",
    "AMP_START = 0.001\n",
    "AMP_STOP = 0.07\n",
    "AMP_STEP = 0.0005\n",
    "AMP_VEC = np.arange(AMP_START, AMP_STOP, AMP_STEP)\n",
    "BUFFER_SIZE = len(AMP_VEC)\n",
    "WAIT_TIME_list = [60000, 62500, 65000, 67500, 70000, 72500, 75000, 77500, 80000, 82500, 85000, 87500, 90000, 92500, 95000, 97500, 100000, 102500, 105000]\n",
    "rr_IF = -47.25e6\n",
    "qubit_amp_scale = 1.0\n",
    "qubit_LO = 4.165e9\n",
    "lb_q.frequency = qubit_LO\n",
    "\n",
    "# Each element of output_list corresponds to an WAIT_TIME_list value and is a dictionary containing I and Q lists \n",
    "output_pi_pulse_list = []\n",
    "output_zero_pulse_list = []\n",
    "\n",
    "for WAIT_TIME in WAIT_TIME_list:\n",
    "    \n",
    "    I_list, Q_list = resonator_power_level.run(qm, AMP_START, AMP_STOP, AMP_STEP, REPS, WAIT_TIME, \n",
    "                                               rr_IF, qubit_amp_scale = qubit_amp_scale, pulse = 'gaussian')\n",
    "    output_pi_pulse_list.append({'I': I_list, 'Q': Q_list})\n",
    "    \n",
    "    I_list, Q_list = resonator_power_level.run(qm, AMP_START, AMP_STOP, AMP_STEP, REPS, WAIT_TIME, \n",
    "                                               rr_IF, qubit_amp_scale = 0.00001, pulse = 'gaussian')\n",
    "    output_zero_pulse_list.append({'I': I_list, 'Q': Q_list})"
   ]
  },
  {
   "cell_type": "code",
   "execution_count": null,
   "id": "unnecessary-interaction",
   "metadata": {},
   "outputs": [],
   "source": []
  },
  {
   "cell_type": "code",
   "execution_count": null,
   "id": "heard-income",
   "metadata": {
    "scrolled": false
   },
   "outputs": [],
   "source": [
    "plt.figure(figsize=(15, 8), dpi=80)\n",
    "\n",
    "index_list = [4, 16]\n",
    "for i, output in enumerate(output_pi_pulse_list):\n",
    "    if i not in index_list:\n",
    "        continue\n",
    "    I_list = output_pi_pulse_list[i]['I']\n",
    "    Q_list = output_pi_pulse_list[i]['Q']\n",
    "    I_list_0 = output_zero_pulse_list[i]['I']\n",
    "    Q_list_0 = output_zero_pulse_list[i]['Q']\n",
    "    \n",
    "    amps = np.abs(I_list + 1j*Q_list)\n",
    "    amps_0 = np.abs(I_list_0 + 1j*Q_list_0)\n",
    "    \n",
    "    plt.plot(AMP_VEC, amps_0 - amps, label = '%.1f us' % (WAIT_TIME_list[i]/1e3))#marker='o', markersize=6, ls='')\n",
    "\n",
    "plt.title('Low-power readout contrast as a function of RO amplitude scaling and wait time.\\n 8k reps, meas. f = -47.25e6 and 1us pulse length, tof = 824 ns')\n",
    "plt.xlabel('Freq (MHz)')\n",
    "plt.ylabel('|Amp|')\n",
    "plt.grid()\n",
    "plt.legend()\n",
    "plt.savefig('qubit_spec_LO_%.dGHz.png' % (WAIT_TIME_list[i]))"
   ]
  },
  {
   "cell_type": "code",
   "execution_count": null,
   "id": "charged-treasurer",
   "metadata": {},
   "outputs": [],
   "source": []
  },
  {
   "cell_type": "code",
   "execution_count": null,
   "id": "psychological-canal",
   "metadata": {},
   "outputs": [],
   "source": []
  },
  {
   "cell_type": "code",
   "execution_count": null,
   "id": "passive-ratio",
   "metadata": {},
   "outputs": [],
   "source": []
  },
  {
   "cell_type": "code",
   "execution_count": null,
   "id": "returning-karaoke",
   "metadata": {},
   "outputs": [],
   "source": [
    "# play CW on qm\n",
    "with program() as cw:\n",
    "    with infinite_loop_():\n",
    "        play('CW', qubit.name)\n",
    "        play('CW', rr.name)\n",
    "job = qm.execute(cw)"
   ]
  },
  {
   "cell_type": "code",
   "execution_count": null,
   "id": "eight-marshall",
   "metadata": {},
   "outputs": [],
   "source": [
    "# connect to the spectrum analyzer\n",
    "sa = Sa124(name = 'sa', serial_number = 19184645)"
   ]
  },
  {
   "cell_type": "code",
   "execution_count": null,
   "id": "advised-documentation",
   "metadata": {
    "scrolled": false
   },
   "outputs": [],
   "source": [
    "# acquire spectrum\n",
    "sa.configure_sweep(center = qubit.lo_freq, span = 100e6)\n",
    "freqs, amps = sa.sweep()\n",
    "plt.plot(freqs, amps)"
   ]
  },
  {
   "cell_type": "code",
   "execution_count": null,
   "id": "substantial-remedy",
   "metadata": {},
   "outputs": [],
   "source": [
    "# acquire another spectrum\n",
    "sa.configure_sweep(center=6e9, span=250e6)\n",
    "freqs, amps = sa.sweep()\n",
    "plt.plot(freqs, amps)"
   ]
  },
  {
   "cell_type": "code",
   "execution_count": null,
   "id": "radical-windsor",
   "metadata": {},
   "outputs": [],
   "source": [
    "sa.disconnect()\n",
    "job.halt()"
   ]
  },
  {
   "cell_type": "code",
   "execution_count": null,
   "id": "representative-butler",
   "metadata": {},
   "outputs": [],
   "source": []
  },
  {
   "cell_type": "code",
   "execution_count": null,
   "id": "fluid-assurance",
   "metadata": {},
   "outputs": [],
   "source": []
  }
 ],
 "metadata": {
  "kernelspec": {
   "display_name": "Python 3",
   "language": "python",
   "name": "python3"
  },
  "language_info": {
   "codemirror_mode": {
    "name": "ipython",
    "version": 3
   },
   "file_extension": ".py",
   "mimetype": "text/x-python",
   "name": "python",
   "nbconvert_exporter": "python",
   "pygments_lexer": "ipython3",
   "version": "3.9.2"
  }
 },
 "nbformat": 4,
 "nbformat_minor": 5
}
