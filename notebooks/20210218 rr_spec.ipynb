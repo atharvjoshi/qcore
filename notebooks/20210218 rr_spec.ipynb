{
 "cells": [
  {
   "cell_type": "code",
   "execution_count": 1,
   "metadata": {},
   "outputs": [],
   "source": [
    "# this config file sits in the same folder as the current notebook\n",
    "# it contains the configuration for this experiment\n",
    "#from configuration import config, rr_IF, rr_LO, IQ_imbalance\n",
    "#from configuration import\n",
    "#import importlib\n",
    "#importlib.reload(configuration)\n",
    "# to import files from parent directory\n",
    "#import sys\n",
    "#sys.path.insert(0, '../LabControl')"
   ]
  },
  {
   "cell_type": "code",
   "execution_count": 2,
   "metadata": {},
   "outputs": [],
   "source": [
    "from configuration import *\n",
    "import importlib\n",
    "#importlib.reload(configuration) ### can someone fiture out why it doesn't let me do it? "
   ]
  },
  {
   "cell_type": "code",
   "execution_count": 1,
   "metadata": {},
   "outputs": [
    {
     "ename": "ModuleNotFoundError",
     "evalue": "No module named 'Instruments'",
     "output_type": "error",
     "traceback": [
      "\u001b[1;31m---------------------------------------------------------------------------\u001b[0m",
      "\u001b[1;31mModuleNotFoundError\u001b[0m                       Traceback (most recent call last)",
      "\u001b[1;32m<ipython-input-1-3194022e79a9>\u001b[0m in \u001b[0;36m<module>\u001b[1;34m\u001b[0m\n\u001b[0;32m      4\u001b[0m \u001b[1;32mimport\u001b[0m \u001b[0mmatplotlib\u001b[0m\u001b[1;33m.\u001b[0m\u001b[0mpyplot\u001b[0m \u001b[1;32mas\u001b[0m \u001b[0mplt\u001b[0m\u001b[1;33m\u001b[0m\u001b[1;33m\u001b[0m\u001b[0m\n\u001b[0;32m      5\u001b[0m \u001b[1;33m\u001b[0m\u001b[0m\n\u001b[1;32m----> 6\u001b[1;33m \u001b[1;32mfrom\u001b[0m \u001b[0mInstruments\u001b[0m\u001b[1;33m.\u001b[0m\u001b[0mSA124B\u001b[0m\u001b[1;33m.\u001b[0m\u001b[0mSA124B\u001b[0m \u001b[1;32mimport\u001b[0m \u001b[0mSA124B\u001b[0m\u001b[1;33m\u001b[0m\u001b[1;33m\u001b[0m\u001b[0m\n\u001b[0m\u001b[0;32m      7\u001b[0m \u001b[1;33m\u001b[0m\u001b[0m\n\u001b[0;32m      8\u001b[0m \u001b[1;32mfrom\u001b[0m \u001b[0mqm\u001b[0m\u001b[1;33m.\u001b[0m\u001b[0mQuantumMachinesManager\u001b[0m \u001b[1;32mimport\u001b[0m \u001b[0mQuantumMachinesManager\u001b[0m\u001b[1;33m\u001b[0m\u001b[1;33m\u001b[0m\u001b[0m\n",
      "\u001b[1;31mModuleNotFoundError\u001b[0m: No module named 'Instruments'"
     ]
    }
   ],
   "source": [
    "import sys\n",
    "sys.path.insert(0, '../LabControl')\n",
    "\n",
    "import matplotlib.pyplot as plt\n",
    "\n",
    "from Instruments.SA124B.SA124B import SA124B\n",
    "\n",
    "from qm.QuantumMachinesManager import QuantumMachinesManager\n",
    "#from qm.qua import program, infinite_loop_, play\n",
    "from qm.qua import *"
   ]
  },
  {
   "cell_type": "code",
   "execution_count": 4,
   "metadata": {},
   "outputs": [
    {
     "name": "stdout",
     "output_type": "stream",
     "text": [
      "2021-03-12 19:04:31,795 - qm - INFO - Performing health check\n",
      "2021-03-12 19:04:31,801 - qm - INFO - Health check passed\n"
     ]
    }
   ],
   "source": [
    "qmm = QuantumMachinesManager()\n",
    "qm = qmm.open_qm(config)"
   ]
  },
  {
   "cell_type": "code",
   "execution_count": null,
   "metadata": {},
   "outputs": [],
   "source": [
    "config['elements']['rr']['time_of_flight']\n",
    "readout_len\n",
    "rr_mixer_gain\n",
    "config['waveforms']['readout_wf']['sample']"
   ]
  },
  {
   "cell_type": "code",
   "execution_count": 5,
   "metadata": {},
   "outputs": [],
   "source": [
    "# We have tuned the IQ mixer according to the tutorial-2-2-SA124B-MixerTuning.ipynb document.\n",
    "# These are key numbers obtained:\n",
    "dcOffsetI =  0.010937499999999989\n",
    "dcOffsetQ = -0.007500000000000003\n",
    "mixerGainCorrection = 0.011632291769074063\n",
    "mixerPhaseCorrection = -0.03598680846432449\n",
    "# after this step we have tuned the IQ mixer.\n",
    "qm.set_output_dc_offset_by_element(\"rr\", \"I\", float(dcOffsetI)) \n",
    "qm.set_output_dc_offset_by_element(\"rr\", \"Q\", float(dcOffsetQ))\n",
    "qm.set_mixer_correction(\"mixer_rr\", rr_IF, rr_LO, IQ_imbalance(mixerGainCorrection, mixerPhaseCorrection))"
   ]
  },
  {
   "cell_type": "code",
   "execution_count": 6,
   "metadata": {},
   "outputs": [
    {
     "name": "stdout",
     "output_type": "stream",
     "text": [
      "2021-03-12 19:04:38,736 - qm - INFO - Flags: \n",
      "2021-03-12 19:04:38,736 - qm - INFO - Executing high level program\n"
     ]
    }
   ],
   "source": [
    "with program() as cw:\n",
    "    with infinite_loop_():\n",
    "        play(\"CW\", \"rr\")\n",
    "job = qm.execute(cw)"
   ]
  },
  {
   "cell_type": "code",
   "execution_count": 7,
   "metadata": {},
   "outputs": [
    {
     "name": "stdout",
     "output_type": "stream",
     "text": [
      "@SA124B.initSweep: resolution= 250000.0\n"
     ]
    },
    {
     "data": {
      "text/plain": [
       "[<matplotlib.lines.Line2D at 0x1575979e250>]"
      ]
     },
     "execution_count": 7,
     "metadata": {},
     "output_type": "execute_result"
    },
    {
     "data": {
      "image/png": "[encoded data removed]",
      "text/plain": [
       "<Figure size 432x288 with 1 Axes>"
      ]
     },
     "metadata": {
      "needs_background": "light"
     },
     "output_type": "display_data"
    }
   ],
   "source": [
    "# check spectrum for debugging purposes\n",
    "# first, check the spectrum of IQ mixer's RF output, to see if you only see the desired LO frequency +/- sideband.\n",
    "# then, check the spectrum of image rejection mixer's IF output, to see if you only see the desired sideband.\n",
    "sa124B = SA124B(serialNumber = 19184645, mode = 'sweep')\n",
    "\n",
    "freqs, amps = sa124B.initSweep(7.7e9, 0.5e9, 1000, 0)\n",
    "\n",
    "plt.figure()\n",
    "plt.plot(freqs, amps)"
   ]
  },
  {
   "cell_type": "code",
   "execution_count": 8,
   "metadata": {},
   "outputs": [
    {
     "data": {
      "text/plain": [
       "True"
      ]
     },
     "execution_count": 8,
     "metadata": {},
     "output_type": "execute_result"
    }
   ],
   "source": [
    "sa124B.stop()\n",
    "job.halt()"
   ]
  },
  {
   "cell_type": "code",
   "execution_count": null,
   "metadata": {},
   "outputs": [],
   "source": [
    "with program() as tof_cal:\n",
    "\n",
    "    adc_st = declare_stream(adc_trace=True)\n",
    "    n = declare(int)\n",
    "    \n",
    "    with for_(n, 0, n < 1000, n + 1):\n",
    "        reset_phase(\"rr\")\n",
    "        measure(\"long_readout\", \"rr\", adc_st)\n",
    "        wait(100, \"rr\")\n",
    "    \n",
    "    with stream_processing(): \n",
    "        adc_st.input1().average().save('adc_mem')\n",
    "        adc_st.input1().average().fft().save('adc_fft')"
   ]
  },
  {
   "cell_type": "code",
   "execution_count": null,
   "metadata": {},
   "outputs": [],
   "source": [
    "job2 = qm.execute(tof_cal)"
   ]
  },
  {
   "cell_type": "code",
   "execution_count": null,
   "metadata": {},
   "outputs": [],
   "source": [
    "res_handles = job2.result_handles\n",
    "adc_handle = res_handles.get('adc_mem')\n",
    "plt.plot(adc_handle.fetch_all() /2**12)\n",
    "job2.halt()"
   ]
  },
  {
   "cell_type": "code",
   "execution_count": null,
   "metadata": {},
   "outputs": [],
   "source": [
    "adc_fft_handle = res_handles.get('adc_fft')\n",
    "#plt.plot(adc_fft_handle.fetch_all()[10:])\n",
    "\n",
    "fft_data = adc_fft_handle.fetch_all()\n",
    "fft_data = np.sqrt(np.sum(np.squeeze(fft_data) ** 2, axis=1)) / long_redout_len\n",
    "plt.plot(\n",
    "    np.arange(0, 0.5, 1 / long_redout_len)[5:], fft_data[5: int(np.ceil(long_redout_len / 2))]\n",
    ")"
   ]
  },
  {
   "cell_type": "code",
   "execution_count": null,
   "metadata": {},
   "outputs": [],
   "source": [
    "import numpy as np\n",
    "f_start = -30e6\n",
    "f_final = -70e6\n",
    "df = -0.1e6\n",
    "f_vec = np.arange(f_start, f_final, df)\n",
    "\n",
    "with program() as rr_spec:\n",
    "    \n",
    "    n = declare(int)\n",
    "    f = declare(int)\n",
    "    I = declare(fixed)\n",
    "    Q = declare(fixed)\n",
    "    \n",
    "    I_st = declare_stream()\n",
    "    Q_st = declare_stream()\n",
    "    \n",
    "    \n",
    "    with for_(n, 0, n<5000, n+1):\n",
    "        with for_(f, f_start, f>f_final, f+df):\n",
    "            update_frequency(\"rr\", f)\n",
    "            #measure(\"readout\", \"rr\", None, demod.full('integW1', I), demod.full('integW2', Q))\n",
    "            measure(\"long_readout\", \"rr\", None, demod.full('long_integW1', I), demod.full('long_integW2', Q))\n",
    "            wait(100, \"rr\")\n",
    "            save(I, I_st)\n",
    "            save(Q, Q_st)\n",
    "            \n",
    "    with stream_processing():\n",
    "        I_st.buffer(len(f_vec)).average().save('I_mem')\n",
    "        Q_st.buffer(len(f_vec)).average().save('Q_mem') "
   ]
  },
  {
   "cell_type": "code",
   "execution_count": null,
   "metadata": {},
   "outputs": [],
   "source": [
    "job = qm.execute(rr_spec)"
   ]
  },
  {
   "cell_type": "code",
   "execution_count": null,
   "metadata": {},
   "outputs": [],
   "source": [
    "res_handles = job.result_handles\n",
    "res_handles.wait_for_all_values()\n",
    "I_handle = res_handles.get('I_mem')\n",
    "Q_handle = res_handles.get('Q_mem')\n",
    "c = I_handle.fetch_all() + 1j*Q_handle.fetch_all()\n",
    "\n",
    "plt.plot(f_vec/1e6, np.abs(c))"
   ]
  },
  {
   "cell_type": "code",
   "execution_count": null,
   "metadata": {},
   "outputs": [],
   "source": []
  },
  {
   "cell_type": "code",
   "execution_count": null,
   "metadata": {},
   "outputs": [],
   "source": []
  },
  {
   "cell_type": "code",
   "execution_count": null,
   "metadata": {},
   "outputs": [],
   "source": []
  }
 ],
 "metadata": {
  "kernelspec": {
   "display_name": "Python 3",
   "language": "python",
   "name": "python3"
  },
  "language_info": {
   "codemirror_mode": {
    "name": "ipython",
    "version": 3
   },
   "file_extension": ".py",
   "mimetype": "text/x-python",
   "name": "python",
   "nbconvert_exporter": "python",
   "pygments_lexer": "ipython3",
   "version": "3.9.2"
  }
 },
 "nbformat": 4,
 "nbformat_minor": 4
}
