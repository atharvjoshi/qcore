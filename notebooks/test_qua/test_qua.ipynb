{
 "cells": [
  {
   "cell_type": "code",
   "execution_count": 11,
   "id": "e4579800",
   "metadata": {},
   "outputs": [],
   "source": [
    "# ensure relative imports are correct\n",
    "import sys\n",
    "sys.path.insert(0, '../..') # this notebook resides in a sub-sub-directory in the main package"
   ]
  },
  {
   "cell_type": "code",
   "execution_count": 12,
   "id": "5a6224ea",
   "metadata": {},
   "outputs": [],
   "source": [
    "import numpy as np\n",
    "import matplotlib.pyplot as plt\n",
    "\n",
    "from qm.QuantumMachinesManager import QuantumMachinesManager\n",
    "from qm.QuantumMachine import QuantumMachine\n",
    "from qm.qua import *\n",
    "\n",
    "from instruments import LabBrick, MetaInstrument, Sa124\n",
    "from instruments.quantum_machines.configuration import *\n",
    "\n",
    "from measurements.routines import resonator_spectroscopy\n",
    "from measurements.routines import resonator_power_level\n",
    "from measurements.routines import qubit_spectroscopy\n",
    "from measurements.routines import power_rabi\n",
    "from measurements.routines import qubit_T1"
   ]
  },
  {
   "cell_type": "code",
   "execution_count": 4,
   "id": "e09b3a24",
   "metadata": {},
   "outputs": [],
   "source": [
    "# define a qubit\n",
    "class Qubit(MetaInstrument):\n",
    "    \"\"\"\n",
    "    Encapsulates a qubit.\n",
    "    \"\"\"\n",
    "    def __init__(self, name: str, lo_freq: float):\n",
    "        self.name = name\n",
    "        self.lo_freq = lo_freq\n",
    "    \n",
    "    def _create_parameters(self):\n",
    "        print(\"created dummy parameters for \" + self.name)\n",
    "    \n",
    "    def _create_yaml_map(self):\n",
    "        return {\n",
    "            'lo_freq': self.lo_freq\n",
    "        }\n",
    "\n",
    "# instantiate the qubit\n",
    "qubit = Qubit(name='qubit', lo_freq=4.36e9)"
   ]
  },
  {
   "cell_type": "code",
   "execution_count": 5,
   "id": "ba29c1a8",
   "metadata": {},
   "outputs": [],
   "source": [
    "# define a resonator\n",
    "class Resonator(MetaInstrument):\n",
    "    \"\"\"\n",
    "    Encapsulates a resonator.\n",
    "    \"\"\"\n",
    "    def __init__(self, name: str, lo_freq: float):\n",
    "        self.name = name\n",
    "        self.lo_freq = lo_freq\n",
    "    \n",
    "    def _create_parameters(self):\n",
    "        print(\"created dummy parameters for \" + self.name)\n",
    "    \n",
    "    def _create_yaml_map(self):\n",
    "        return {\n",
    "            'lo_freq': self.lo_freq\n",
    "        }\n",
    "\n",
    "# instantiate the resonator\n",
    "rr = Resonator(name='rr', lo_freq=8.7571e9)"
   ]
  },
  {
   "cell_type": "code",
   "execution_count": 6,
   "id": "9a364c41",
   "metadata": {},
   "outputs": [
    {
     "name": "stdout",
     "output_type": "stream",
     "text": [
      "2021-04-17 12:16:33,019 - qm - INFO - Performing health check\n",
      "2021-04-17 12:16:33,026 - qm - INFO - Health check passed\n"
     ]
    }
   ],
   "source": [
    "# start the qm\n",
    "qmm = QuantumMachinesManager()\n",
    "qm = qmm.open_qm(config)"
   ]
  },
  {
   "cell_type": "code",
   "execution_count": 7,
   "id": "75df6b0d",
   "metadata": {},
   "outputs": [],
   "source": [
    "# We have tuned the IQ mixer according to the tutorial-2-2-SA124B-MixerTuning.ipynb document.\n",
    "# These are key numbers obtained:\n",
    "rr_dcOffsetI = 0.011558358245951837\n",
    "rr_dcOffsetQ = -0.00947436793762317\n",
    "rr_mixerGainCorrection = -0.15430981633780644\n",
    "rr_mixerPhaseCorrection = 0.0212698142172309\n",
    "\n",
    "q_dcOffsetI = -0.00647755186574999 \n",
    "q_dcOffsetQ = -0.011624171790995147\n",
    "q_mixerGainCorrection = -0.19547425898369505\n",
    "q_mixerPhaseCorrection = 0.05154287262922243\n",
    "\n",
    "# after this step we have tuned the IQ mixer.\n",
    "qm.set_output_dc_offset_by_element(\"rr\", \"I\", float(rr_dcOffsetI)) \n",
    "qm.set_output_dc_offset_by_element(\"rr\", \"Q\", float(rr_dcOffsetQ))\n",
    "qm.set_mixer_correction(\"mixer_rr\", rr_IF, rr_LO, IQ_imbalance(rr_mixerGainCorrection, rr_mixerPhaseCorrection))\n",
    "qm.set_output_dc_offset_by_element(\"qubit\", \"I\", float(q_dcOffsetI)) \n",
    "qm.set_output_dc_offset_by_element(\"qubit\", \"Q\", float(q_dcOffsetQ))\n",
    "qm.set_mixer_correction(\"mixer_qubit\", qubit_IF, qubit_LO, IQ_imbalance(rr_mixerGainCorrection, q_mixerPhaseCorrection))"
   ]
  },
  {
   "cell_type": "code",
   "execution_count": 8,
   "id": "b17a3fb5",
   "metadata": {
    "scrolled": true
   },
   "outputs": [
    {
     "name": "stdout",
     "output_type": "stream",
     "text": [
      "Trying to initialize lb_q\n",
      "Connnected to LabBrick 25331\n",
      "creating parameters...\n",
      "Initializing device...\n",
      "Successfully set frequency to 4.36E+09\n",
      "Successfully set power to +15\n",
      "Trying to initialize lb_rr\n",
      "Connnected to LabBrick 25337\n",
      "creating parameters...\n",
      "Initializing device...\n",
      "Successfully set frequency to 8.76E+09\n",
      "Successfully set power to +13\n"
     ]
    }
   ],
   "source": [
    "# start the labbricks\n",
    "lb_q = LabBrick(name='lb_q', serial_number=25331, element=qubit, power=15)\n",
    "lb_rr = LabBrick(name='lb_rr', serial_number=25337, element=rr, power=13)"
   ]
  },
  {
   "cell_type": "code",
   "execution_count": 94,
   "id": "fbd74437",
   "metadata": {
    "scrolled": false
   },
   "outputs": [
    {
     "name": "stdout",
     "output_type": "stream",
     "text": [
      "2021-04-13 21:06:22,390 - qm - INFO - Flags: \n",
      "2021-04-13 21:06:22,390 - qm - INFO - Executing high level program\n"
     ]
    },
    {
     "data": {
      "text/plain": [
       "<qm.QmJob.QmJob at 0x21230d7b1c0>"
      ]
     },
     "execution_count": 94,
     "metadata": {},
     "output_type": "execute_result"
    }
   ],
   "source": [
    "with program() as script:\n",
    "    play('CW', 'rr')\n",
    "qm.execute(script)"
   ]
  },
  {
   "cell_type": "code",
   "execution_count": null,
   "id": "0db3812e",
   "metadata": {},
   "outputs": [],
   "source": []
  },
  {
   "cell_type": "code",
   "execution_count": null,
   "id": "40f496d5",
   "metadata": {},
   "outputs": [],
   "source": []
  },
  {
   "cell_type": "code",
   "execution_count": 34,
   "id": "4307640e",
   "metadata": {},
   "outputs": [],
   "source": [
    "with program() as tof_cal:\n",
    "\n",
    "    adc_st = declare_stream(adc_trace=True)\n",
    "    n = declare(int)\n",
    "    \n",
    "    \n",
    "with for_(n, 0, n < 1000, n + 1):\n",
    "        reset_phase(\"rr\")\n",
    "        play('CW'*amp(1.2), 'qubit')\n",
    "        measure(\"long_readout\"*amp(1), \"rr\", adc_st)\n",
    "        wait(25, \"rr\")\n",
    "    \n",
    "    with stream_processing(): \n",
    "        adc_st.input1().average().save('adc_mem')"
   ]
  },
  {
   "cell_type": "code",
   "execution_count": 35,
   "id": "507db401",
   "metadata": {},
   "outputs": [
    {
     "name": "stdout",
     "output_type": "stream",
     "text": [
      "2021-04-13 21:41:22,257 - qm - INFO - Flags: \n",
      "2021-04-13 21:41:22,257 - qm - INFO - Executing high level program\n"
     ]
    }
   ],
   "source": [
    "job = qm.execute(tof_cal)"
   ]
  },
  {
   "cell_type": "code",
   "execution_count": 36,
   "id": "4a65dc7f",
   "metadata": {
    "scrolled": false
   },
   "outputs": [
    {
     "data": {
      "image/png": "[encoded data removed]",
      "text/plain": [
       "<Figure size 432x288 with 1 Axes>"
      ]
     },
     "metadata": {
      "needs_background": "light"
     },
     "output_type": "display_data"
    }
   ],
   "source": [
    "res_handles = job.result_handles\n",
    "adc_handle = res_handles.get('adc_mem')\n",
    "plt.plot(adc_handle.fetch_all() /2**12)\n",
    "plt.grid()"
   ]
  },
  {
   "cell_type": "code",
   "execution_count": 37,
   "id": "621121ff",
   "metadata": {},
   "outputs": [
    {
     "data": {
      "text/plain": [
       "True"
      ]
     },
     "execution_count": 37,
     "metadata": {},
     "output_type": "execute_result"
    }
   ],
   "source": [
    "job.halt()"
   ]
  },
  {
   "cell_type": "code",
   "execution_count": null,
   "id": "99d69026",
   "metadata": {},
   "outputs": [],
   "source": []
  },
  {
   "cell_type": "code",
   "execution_count": null,
   "id": "c7aa8866",
   "metadata": {},
   "outputs": [],
   "source": []
  },
  {
   "cell_type": "code",
   "execution_count": 93,
   "id": "7e057d74",
   "metadata": {
    "scrolled": true
   },
   "outputs": [
    {
     "name": "stdout",
     "output_type": "stream",
     "text": [
      "2021-04-13 21:06:16,856 - qm - INFO - Flags: \n",
      "2021-04-13 21:06:16,857 - qm - INFO - Executing high level program\n"
     ]
    }
   ],
   "source": [
    "with program() as script:\n",
    "\n",
    "    #I_st = declare_stream()\n",
    "    #Q_st = declare_stream()\n",
    "    \n",
    "    #update_frequency(\"rr\", rr_frequency)\n",
    "    with infinite_loop_():\n",
    "        play('gaussian', 'qubit', duration = int(145))\n",
    "        #align('rr', 'qubit')\n",
    "        wait(int(15e3), 'rr')\n",
    "        #play('CW', 'qubit')\n",
    "    #align('qubit', 'rr')\n",
    "    #measure(\"long_readout\" * amp(a), \"rr\", None, demod.full('long_integW1', I), demod.full('long_integW2', Q))\n",
    "    #wait(WAIT_TIME, \"rr\")\n",
    "\n",
    "    #with stream_processing():\n",
    "    #    I_st.buffer(len(AMP_VEC)).average().save('I_mem')\n",
    "    #    Q_st.buffer(len(AMP_VEC)).average().save('Q_mem')\n",
    "    \n",
    "qua_script = script\n",
    "queued_job = qm.queue.add(qua_script)"
   ]
  },
  {
   "cell_type": "code",
   "execution_count": 25,
   "id": "24d7f059",
   "metadata": {
    "scrolled": false
   },
   "outputs": [
    {
     "data": {
      "text/plain": [
       "False"
      ]
     },
     "execution_count": 25,
     "metadata": {},
     "output_type": "execute_result"
    }
   ],
   "source": [
    "queued_job.cancel()"
   ]
  },
  {
   "cell_type": "code",
   "execution_count": null,
   "id": "adda2108",
   "metadata": {},
   "outputs": [],
   "source": []
  },
  {
   "cell_type": "code",
   "execution_count": null,
   "id": "7f38e330",
   "metadata": {},
   "outputs": [],
   "source": []
  },
  {
   "cell_type": "code",
   "execution_count": 70,
   "id": "cb310de7",
   "metadata": {
    "scrolled": true
   },
   "outputs": [
    {
     "name": "stdout",
     "output_type": "stream",
     "text": [
      "2021-04-16 02:03:53,948 - qm - INFO - Flags: \n",
      "2021-04-16 02:03:53,949 - qm - INFO - Executing high level program\n",
      "1618563830102\n"
     ]
    }
   ],
   "source": [
    "with program() as script:\n",
    "    \n",
    "    n = declare(int)\n",
    "    I = declare(fixed)\n",
    "    Q = declare(fixed)\n",
    "    \n",
    "    I_st = declare_stream()\n",
    "    Q_st = declare_stream()\n",
    "    \n",
    "    with for_(n, 0, n < 400000, n + 1):\n",
    "        measure(\"long_readout\", \"rr\", None, demod.full('long_integW1', I), demod.full('long_integW2', Q))\n",
    "        save(I, I_st)\n",
    "        save(Q, Q_st)\n",
    "        wait(int(1e3), 'rr')\n",
    "        \n",
    "    with stream_processing():\n",
    "        I_st.buffer(2,2).average().save_all('I_mem')\n",
    "        Q_st.buffer(2,2).average().save_all('Q_mem')\n",
    "    \n",
    "qua_script = script\n",
    "queued_job = qm.queue.add(qua_script)\n",
    "print(queued_job.id())"
   ]
  },
  {
   "cell_type": "code",
   "execution_count": 74,
   "id": "54ce7819",
   "metadata": {},
   "outputs": [],
   "source": [
    "a = None"
   ]
  },
  {
   "cell_type": "code",
   "execution_count": 79,
   "id": "2cc6375a",
   "metadata": {},
   "outputs": [
    {
     "ename": "AttributeError",
     "evalue": "'NoneType' object has no attribute 'a'",
     "output_type": "error",
     "traceback": [
      "\u001b[1;31m---------------------------------------------------------------------------\u001b[0m",
      "\u001b[1;31mAttributeError\u001b[0m                            Traceback (most recent call last)",
      "\u001b[1;32m<ipython-input-79-306508b81247>\u001b[0m in \u001b[0;36m<module>\u001b[1;34m\u001b[0m\n\u001b[1;32m----> 1\u001b[1;33m \u001b[0mb\u001b[0m \u001b[1;33m=\u001b[0m \u001b[1;32mTrue\u001b[0m \u001b[1;32mif\u001b[0m \u001b[0ma\u001b[0m\u001b[1;33m.\u001b[0m\u001b[0ma\u001b[0m\u001b[1;33m(\u001b[0m\u001b[1;33m)\u001b[0m \u001b[1;32melse\u001b[0m \u001b[1;32mFalse\u001b[0m\u001b[1;33m\u001b[0m\u001b[1;33m\u001b[0m\u001b[0m\n\u001b[0m",
      "\u001b[1;31mAttributeError\u001b[0m: 'NoneType' object has no attribute 'a'"
     ]
    }
   ],
   "source": [
    "b = True if a.a() else False"
   ]
  },
  {
   "cell_type": "code",
   "execution_count": 78,
   "id": "e806043c",
   "metadata": {},
   "outputs": [
    {
     "data": {
      "text/plain": [
       "True"
      ]
     },
     "execution_count": 78,
     "metadata": {},
     "output_type": "execute_result"
    }
   ],
   "source": [
    "b"
   ]
  },
  {
   "cell_type": "code",
   "execution_count": 71,
   "id": "fc8b455d",
   "metadata": {},
   "outputs": [
    {
     "data": {
      "text/plain": [
       "1"
      ]
     },
     "execution_count": 71,
     "metadata": {},
     "output_type": "execute_result"
    }
   ],
   "source": [
    "queued_job.position_in_queue()"
   ]
  },
  {
   "cell_type": "code",
   "execution_count": 72,
   "id": "ca4c3860",
   "metadata": {},
   "outputs": [
    {
     "data": {
      "text/plain": [
       "True"
      ]
     },
     "execution_count": 72,
     "metadata": {},
     "output_type": "execute_result"
    }
   ],
   "source": [
    "queued_job.cancel()"
   ]
  },
  {
   "cell_type": "code",
   "execution_count": 73,
   "id": "69bbaa9a",
   "metadata": {
    "scrolled": false
   },
   "outputs": [],
   "source": [
    "queued_job.position_in_queue()"
   ]
  },
  {
   "cell_type": "code",
   "execution_count": 33,
   "id": "b619f72b",
   "metadata": {},
   "outputs": [],
   "source": [
    "job = queued_job.wait_for_execution()\n",
    "res_handles = job.result_handles\n",
    "res_handles.wait_for_all_values()\n",
    "\n",
    "I_handle = res_handles.get('I_mem')\n",
    "Q_handle = res_handles.get('Q_mem')\n",
    "\n",
    "#I_list = I_handle.fetch_all()\n",
    "#Q_list = Q_handle.fetch_all()"
   ]
  },
  {
   "cell_type": "code",
   "execution_count": 10,
   "id": "e9a9a56a",
   "metadata": {
    "scrolled": true
   },
   "outputs": [
    {
     "data": {
      "text/plain": [
       "[array([[-1.24443322e-04, -1.07612461e-04],\n",
       "        [-7.97361135e-05, -1.01335347e-04]]),\n",
       " array([[-1.16471201e-04, -1.05900690e-04],\n",
       "        [-8.50986689e-05, -9.84482467e-05]]),\n",
       " array([[-1.12757087e-04, -1.05645508e-04],\n",
       "        [-8.64341855e-05, -1.00035220e-04]]),\n",
       " array([[-1.11754984e-04, -1.06865540e-04],\n",
       "        [-8.45389441e-05, -1.00694597e-04]]),\n",
       " array([[-1.12891942e-04, -1.07672066e-04],\n",
       "        [-8.45260918e-05, -1.00107491e-04]]),\n",
       " array([[-1.15226954e-04, -1.07289602e-04],\n",
       "        [-8.45510513e-05, -9.95788723e-05]]),\n",
       " array([[-1.15687826e-04, -1.07710915e-04],\n",
       "        [-8.37471868e-05, -1.00730253e-04]]),\n",
       " array([[-1.15527306e-04, -1.07951928e-04],\n",
       "        [-8.36378895e-05, -1.00300647e-04]]),\n",
       " array([[-1.15777883e-04, -1.08626568e-04],\n",
       "        [-8.37499069e-05, -1.01234764e-04]]),\n",
       " array([[-1.16424635e-04, -1.08805299e-04],\n",
       "        [-8.27528536e-05, -1.01171807e-04]]),\n",
       " array([[-1.16693703e-04, -1.08604065e-04],\n",
       "        [-8.24809752e-05, -1.00626526e-04]]),\n",
       " array([[-1.16821689e-04, -1.08998579e-04],\n",
       "        [-8.19582492e-05, -1.00214034e-04]]),\n",
       " array([[-1.16014710e-04, -1.09664523e-04],\n",
       "        [-8.15474643e-05, -1.00036940e-04]]),\n",
       " array([[-1.16085900e-04, -1.09730288e-04],\n",
       "        [-8.12706671e-05, -9.97869564e-05]]),\n",
       " array([[-1.16646042e-04, -1.09274189e-04],\n",
       "        [-8.11462601e-05, -1.00420912e-04]]),\n",
       " array([[-1.16572250e-04, -1.08353095e-04],\n",
       "        [-8.07044562e-05, -1.00590289e-04]]),\n",
       " array([[-1.17067686e-04, -1.08572052e-04],\n",
       "        [-8.06661213e-05, -1.00306071e-04]]),\n",
       " array([[-1.17117953e-04, -1.09054355e-04],\n",
       "        [-8.03654806e-05, -1.00580148e-04]]),\n",
       " array([[-1.17625061e-04, -1.08596330e-04],\n",
       "        [-8.03025537e-05, -1.00846157e-04]]),\n",
       " array([[-1.17864832e-04, -1.08204968e-04],\n",
       "        [-8.03422183e-05, -1.00495853e-04]]),\n",
       " array([[-1.17635088e-04, -1.07860814e-04],\n",
       "        [-8.03319826e-05, -1.00606609e-04]]),\n",
       " array([[-1.17215074e-04, -1.08231706e-04],\n",
       "        [-8.04347748e-05, -1.00315125e-04]]),\n",
       " array([[-1.17450305e-04, -1.08419877e-04],\n",
       "        [-8.03256812e-05, -1.00010277e-04]]),\n",
       " array([[-1.17504814e-04, -1.08185379e-04],\n",
       "        [-8.00560229e-05, -9.97890408e-05]]),\n",
       " array([[-1.17861032e-04, -1.08162761e-04],\n",
       "        [-8.00499320e-05, -9.95026529e-05]]),\n",
       " array([[-1.18021638e-04, -1.08337316e-04],\n",
       "        [-8.00272593e-05, -9.92352859e-05]]),\n",
       " array([[-1.18100947e-04, -1.08343998e-04],\n",
       "        [-8.00472443e-05, -9.93907452e-05]]),\n",
       " array([[-1.17996441e-04, -1.08335566e-04],\n",
       "        [-7.98719536e-05, -9.93214282e-05]]),\n",
       " array([[-1.18073333e-04, -1.08312687e-04],\n",
       "        [-7.98760046e-05, -9.93060912e-05]]),\n",
       " array([[-1.17871290e-04, -1.08280405e-04],\n",
       "        [-8.01589340e-05, -9.92485632e-05]]),\n",
       " array([[-1.17335108e-04, -1.08597500e-04],\n",
       "        [-7.99637168e-05, -9.90060789e-05]]),\n",
       " array([[-1.17326737e-04, -1.08851236e-04],\n",
       "        [-8.00243579e-05, -9.93430149e-05]]),\n",
       " array([[-1.16931444e-04, -1.08826906e-04],\n",
       "        [-8.01992913e-05, -9.92897108e-05]]),\n",
       " array([[-1.16862685e-04, -1.08839506e-04],\n",
       "        [-8.01239820e-05, -9.93132810e-05]]),\n",
       " array([[-1.16857673e-04, -1.08902263e-04],\n",
       "        [-7.98785261e-05, -9.92295997e-05]]),\n",
       " array([[-1.16936345e-04, -1.09035004e-04],\n",
       "        [-7.99464890e-05, -9.92852988e-05]]),\n",
       " array([[-1.16993145e-04, -1.09230646e-04],\n",
       "        [-7.96818451e-05, -9.93914499e-05]]),\n",
       " array([[-1.16944901e-04, -1.09365602e-04],\n",
       "        [-7.96536670e-05, -9.93770204e-05]]),\n",
       " array([[-1.16923299e-04, -1.09464312e-04],\n",
       "        [-8.00052897e-05, -9.90674091e-05]]),\n",
       " array([[-1.16790738e-04, -1.09558739e-04],\n",
       "        [-7.98618421e-05, -9.92385671e-05]]),\n",
       " array([[-1.16692629e-04, -1.09502182e-04],\n",
       "        [-7.98959376e-05, -9.91704079e-05]]),\n",
       " array([[-1.16693033e-04, -1.09544999e-04],\n",
       "        [-7.98497349e-05, -9.92600052e-05]]),\n",
       " array([[-1.16746613e-04, -1.09684155e-04],\n",
       "        [-7.98930955e-05, -9.91386383e-05]]),\n",
       " array([[-1.16666102e-04, -1.09525736e-04],\n",
       "        [-7.97863203e-05, -9.92090526e-05]]),\n",
       " array([[-1.16646455e-04, -1.09608140e-04],\n",
       "        [-7.96914928e-05, -9.91923942e-05]]),\n",
       " array([[-1.16708972e-04, -1.09452349e-04],\n",
       "        [-7.97582223e-05, -9.91635834e-05]]),\n",
       " array([[-1.16601111e-04, -1.09416532e-04],\n",
       "        [-7.95859923e-05, -9.92383253e-05]]),\n",
       " array([[-1.16773027e-04, -1.09323844e-04],\n",
       "        [-7.96086776e-05, -9.93322271e-05]]),\n",
       " array([[-1.16756224e-04, -1.09385395e-04],\n",
       "        [-7.95974415e-05, -9.92378562e-05]]),\n",
       " array([[-1.16758198e-04, -1.09417140e-04],\n",
       "        [-7.95072317e-05, -9.92963463e-05]]),\n",
       " array([[-1.16730657e-04, -1.09584381e-04],\n",
       "        [-7.92659235e-05, -9.92306307e-05]]),\n",
       " array([[-1.16797236e-04, -1.09703925e-04],\n",
       "        [-7.92050448e-05, -9.91028232e-05]]),\n",
       " array([[-1.16678693e-04, -1.09687869e-04],\n",
       "        [-7.93481913e-05, -9.91613938e-05]]),\n",
       " array([[-1.16618695e-04, -1.09581622e-04],\n",
       "        [-7.94919001e-05, -9.90092478e-05]]),\n",
       " array([[-1.16669996e-04, -1.09394572e-04],\n",
       "        [-7.95141540e-05, -9.91649926e-05]]),\n",
       " array([[-1.16705429e-04, -1.09342592e-04],\n",
       "        [-7.95572331e-05, -9.91071574e-05]]),\n",
       " array([[-1.16641846e-04, -1.09284005e-04],\n",
       "        [-7.95262555e-05, -9.91822596e-05]]),\n",
       " array([[-1.16758434e-04, -1.09269252e-04],\n",
       "        [-7.95216524e-05, -9.90406963e-05]]),\n",
       " array([[-1.16825672e-04, -1.09286379e-04],\n",
       "        [-7.96572510e-05, -9.89007748e-05]]),\n",
       " array([[-1.16915753e-04, -1.09311442e-04],\n",
       "        [-7.97981396e-05, -9.89153981e-05]]),\n",
       " array([[-1.16875243e-04, -1.09403654e-04],\n",
       "        [-7.98210624e-05, -9.88371426e-05]]),\n",
       " array([[-1.16874854e-04, -1.09388884e-04],\n",
       "        [-7.97007233e-05, -9.89561480e-05]]),\n",
       " array([[-1.16969148e-04, -1.09439568e-04],\n",
       "        [-7.96317463e-05, -9.89562462e-05]]),\n",
       " array([[-1.16949319e-04, -1.09458400e-04],\n",
       "        [-7.95942033e-05, -9.88572720e-05]]),\n",
       " array([[-1.16856511e-04, -1.09455219e-04],\n",
       "        [-7.96469931e-05, -9.87316553e-05]]),\n",
       " array([[-1.16953626e-04, -1.09488709e-04],\n",
       "        [-7.96829999e-05, -9.86923661e-05]]),\n",
       " array([[-1.16995411e-04, -1.09575133e-04],\n",
       "        [-7.95527403e-05, -9.85910310e-05]]),\n",
       " array([[-1.16965186e-04, -1.09618146e-04],\n",
       "        [-7.93310430e-05, -9.85606628e-05]]),\n",
       " array([[-1.16822242e-04, -1.09532281e-04],\n",
       "        [-7.94471606e-05, -9.85713973e-05]]),\n",
       " array([[-1.16857195e-04, -1.09416300e-04],\n",
       "        [-7.95292535e-05, -9.85007733e-05]]),\n",
       " array([[-1.16879199e-04, -1.09512254e-04],\n",
       "        [-7.94825839e-05, -9.85075365e-05]]),\n",
       " array([[-1.16787540e-04, -1.09442562e-04],\n",
       "        [-7.95295669e-05, -9.85129219e-05]]),\n",
       " array([[-1.16771623e-04, -1.09470615e-04],\n",
       "        [-7.95015223e-05, -9.83692502e-05]]),\n",
       " array([[-1.16687167e-04, -1.09599702e-04],\n",
       "        [-7.94851095e-05, -9.82631401e-05]]),\n",
       " array([[-1.16692036e-04, -1.09539280e-04],\n",
       "        [-7.95259078e-05, -9.82029239e-05]]),\n",
       " array([[-1.16708345e-04, -1.09645636e-04],\n",
       "        [-7.96073459e-05, -9.80256714e-05]]),\n",
       " array([[-1.16545804e-04, -1.09604765e-04],\n",
       "        [-7.97032149e-05, -9.79629430e-05]]),\n",
       " array([[-1.16485290e-04, -1.09724175e-04],\n",
       "        [-7.96600794e-05, -9.79832541e-05]]),\n",
       " array([[-1.16505908e-04, -1.09742714e-04],\n",
       "        [-7.96546759e-05, -9.79425503e-05]]),\n",
       " array([[-1.16682099e-04, -1.09750405e-04],\n",
       "        [-7.96731096e-05, -9.78750642e-05]]),\n",
       " array([[-1.16748712e-04, -1.09818706e-04],\n",
       "        [-7.97978798e-05, -9.78005521e-05]]),\n",
       " array([[-1.16782535e-04, -1.09820422e-04],\n",
       "        [-7.98105285e-05, -9.77318552e-05]]),\n",
       " array([[-1.16729054e-04, -1.09887536e-04],\n",
       "        [-7.98543803e-05, -9.78206026e-05]]),\n",
       " array([[-1.16604114e-04, -1.09984229e-04],\n",
       "        [-7.97691977e-05, -9.77820850e-05]]),\n",
       " array([[-1.16738633e-04, -1.09982797e-04],\n",
       "        [-7.97696412e-05, -9.77933407e-05]]),\n",
       " array([[-1.16744057e-04, -1.10131797e-04],\n",
       "        [-7.97885275e-05, -9.76967344e-05]]),\n",
       " array([[-1.16712360e-04, -1.10231554e-04],\n",
       "        [-7.97462189e-05, -9.77224574e-05]]),\n",
       " array([[-1.16694126e-04, -1.10209835e-04],\n",
       "        [-7.97016969e-05, -9.78439454e-05]]),\n",
       " array([[-1.16644239e-04, -1.10248083e-04],\n",
       "        [-7.96164438e-05, -9.78455031e-05]]),\n",
       " array([[-1.16588010e-04, -1.10274884e-04],\n",
       "        [-7.96747704e-05, -9.77580332e-05]]),\n",
       " array([[-1.16559626e-04, -1.10235434e-04],\n",
       "        [-7.96683624e-05, -9.77890750e-05]]),\n",
       " array([[-1.16587090e-04, -1.10244095e-04],\n",
       "        [-7.96844859e-05, -9.77579342e-05]]),\n",
       " array([[-1.16483018e-04, -1.10222768e-04],\n",
       "        [-7.97946767e-05, -9.77511367e-05]]),\n",
       " array([[-1.16508454e-04, -1.10272595e-04],\n",
       "        [-7.99078732e-05, -9.77941809e-05]]),\n",
       " array([[-1.16554256e-04, -1.10264240e-04],\n",
       "        [-7.99623759e-05, -9.78810615e-05]]),\n",
       " array([[-1.16502323e-04, -1.10309804e-04],\n",
       "        [-8.00220296e-05, -9.79066050e-05]]),\n",
       " array([[-1.16430300e-04, -1.10291021e-04],\n",
       "        [-8.00721962e-05, -9.78675623e-05]]),\n",
       " array([[-1.16419731e-04, -1.10236206e-04],\n",
       "        [-8.01016862e-05, -9.78558875e-05]]),\n",
       " array([[-1.16283732e-04, -1.10183175e-04],\n",
       "        [-8.01887551e-05, -9.78953233e-05]]),\n",
       " array([[-1.16219930e-04, -1.10160038e-04],\n",
       "        [-8.01467523e-05, -9.78956744e-05]]),\n",
       " array([[-1.16163920e-04, -1.10112758e-04],\n",
       "        [-8.01497683e-05, -9.80306822e-05]]),\n",
       " array([[-1.16148964e-04, -1.10018524e-04],\n",
       "        [-8.01742004e-05, -9.80707506e-05]]),\n",
       " array([[-1.16084820e-04, -1.10098025e-04],\n",
       "        [-8.02529524e-05, -9.81135493e-05]]),\n",
       " array([[-1.16063139e-04, -1.10143796e-04],\n",
       "        [-8.01975839e-05, -9.81161228e-05]]),\n",
       " array([[-1.15982301e-04, -1.10158005e-04],\n",
       "        [-8.02841570e-05, -9.81260978e-05]]),\n",
       " array([[-1.15969552e-04, -1.10149208e-04],\n",
       "        [-8.03476938e-05, -9.81132517e-05]]),\n",
       " array([[-1.15967869e-04, -1.10162788e-04],\n",
       "        [-8.03954551e-05, -9.81257480e-05]]),\n",
       " array([[-1.15961837e-04, -1.10118719e-04],\n",
       "        [-8.03249164e-05, -9.81515687e-05]]),\n",
       " array([[-1.15859604e-04, -1.10063018e-04],\n",
       "        [-8.03559813e-05, -9.82181673e-05]]),\n",
       " array([[-1.15800310e-04, -1.10012936e-04],\n",
       "        [-8.03808597e-05, -9.83158973e-05]]),\n",
       " array([[-1.15826726e-04, -1.09980940e-04],\n",
       "        [-8.03770984e-05, -9.83567254e-05]]),\n",
       " array([[-1.15797556e-04, -1.09941632e-04],\n",
       "        [-8.04269221e-05, -9.82589554e-05]]),\n",
       " array([[-1.15879638e-04, -1.09856404e-04],\n",
       "        [-8.04101603e-05, -9.82832131e-05]]),\n",
       " array([[-1.15795780e-04, -1.09853550e-04],\n",
       "        [-8.04192468e-05, -9.83545263e-05]]),\n",
       " array([[-1.15751054e-04, -1.09779705e-04],\n",
       "        [-8.04642296e-05, -9.83660312e-05]]),\n",
       " array([[-1.15734075e-04, -1.09807171e-04],\n",
       "        [-8.04834517e-05, -9.83518709e-05]]),\n",
       " array([[-1.15742413e-04, -1.09862632e-04],\n",
       "        [-8.04435685e-05, -9.83004769e-05]]),\n",
       " array([[-1.15740760e-04, -1.09864146e-04],\n",
       "        [-8.04530425e-05, -9.83150202e-05]]),\n",
       " array([[-1.15791195e-04, -1.09801992e-04],\n",
       "        [-8.04548128e-05, -9.82321486e-05]]),\n",
       " array([[-1.15763738e-04, -1.09774930e-04],\n",
       "        [-8.04817614e-05, -9.82317142e-05]]),\n",
       " array([[-1.15715953e-04, -1.09760691e-04],\n",
       "        [-8.04550330e-05, -9.82423398e-05]]),\n",
       " array([[-1.15782450e-04, -1.09749922e-04],\n",
       "        [-8.04767440e-05, -9.82849141e-05]]),\n",
       " array([[-1.15791442e-04, -1.09694868e-04],\n",
       "        [-8.04497944e-05, -9.82690391e-05]]),\n",
       " array([[-1.15791005e-04, -1.09678465e-04],\n",
       "        [-8.04217773e-05, -9.82695530e-05]]),\n",
       " array([[-1.15708232e-04, -1.09684616e-04],\n",
       "        [-8.04272592e-05, -9.82769430e-05]]),\n",
       " array([[-1.15670471e-04, -1.09642360e-04],\n",
       "        [-8.04584946e-05, -9.82574882e-05]]),\n",
       " array([[-1.15718810e-04, -1.09572814e-04],\n",
       "        [-8.04859529e-05, -9.82213267e-05]]),\n",
       " array([[-1.15738279e-04, -1.09592627e-04],\n",
       "        [-8.04102747e-05, -9.81761841e-05]]),\n",
       " array([[-1.15778037e-04, -1.09604538e-04],\n",
       "        [-8.03903785e-05, -9.81009861e-05]]),\n",
       " array([[-1.15834205e-04, -1.09575517e-04],\n",
       "        [-8.03379485e-05, -9.80190360e-05]]),\n",
       " array([[-1.15827096e-04, -1.09589310e-04],\n",
       "        [-8.03026989e-05, -9.79973728e-05]]),\n",
       " array([[-1.15886218e-04, -1.09629310e-04],\n",
       "        [-8.02749260e-05, -9.79624068e-05]]),\n",
       " array([[-1.15929606e-04, -1.09610953e-04],\n",
       "        [-8.02489992e-05, -9.80144885e-05]]),\n",
       " array([[-1.15943544e-04, -1.09558341e-04],\n",
       "        [-8.02516492e-05, -9.80431075e-05]]),\n",
       " array([[-1.15973061e-04, -1.09551433e-04],\n",
       "        [-8.02614347e-05, -9.79894013e-05]]),\n",
       " array([[-1.15984366e-04, -1.09574347e-04],\n",
       "        [-8.02897574e-05, -9.79814624e-05]]),\n",
       " array([[-1.16086735e-04, -1.09600597e-04],\n",
       "        [-8.03089381e-05, -9.79440001e-05]]),\n",
       " array([[-1.16082556e-04, -1.09615722e-04],\n",
       "        [-8.03795090e-05, -9.79430380e-05]]),\n",
       " array([[-1.16158464e-04, -1.09585766e-04],\n",
       "        [-8.03573258e-05, -9.79633426e-05]]),\n",
       " array([[-1.16175200e-04, -1.09549745e-04],\n",
       "        [-8.03327986e-05, -9.79268657e-05]]),\n",
       " array([[-1.16183931e-04, -1.09582637e-04],\n",
       "        [-8.03376026e-05, -9.79034032e-05]]),\n",
       " array([[-1.16154263e-04, -1.09578339e-04],\n",
       "        [-8.02882698e-05, -9.78892695e-05]]),\n",
       " array([[-1.16134128e-04, -1.09542370e-04],\n",
       "        [-8.02377252e-05, -9.79057611e-05]]),\n",
       " array([[-1.16143867e-04, -1.09529356e-04],\n",
       "        [-8.02330259e-05, -9.78856761e-05]]),\n",
       " array([[-1.16128552e-04, -1.09481914e-04],\n",
       "        [-8.02040100e-05, -9.78782773e-05]]),\n",
       " array([[-1.16139140e-04, -1.09470998e-04],\n",
       "        [-8.01989681e-05, -9.79301252e-05]]),\n",
       " array([[-1.16129919e-04, -1.09448522e-04],\n",
       "        [-8.02404976e-05, -9.79354238e-05]]),\n",
       " array([[-1.16132930e-04, -1.09421291e-04],\n",
       "        [-8.01984019e-05, -9.79706293e-05]]),\n",
       " array([[-1.16163752e-04, -1.09375198e-04],\n",
       "        [-8.01674722e-05, -9.80046622e-05]]),\n",
       " array([[-1.16198063e-04, -1.09373281e-04],\n",
       "        [-8.01772376e-05, -9.79049504e-05]]),\n",
       " array([[-1.16197479e-04, -1.09422360e-04],\n",
       "        [-8.01673097e-05, -9.78435161e-05]]),\n",
       " array([[-1.16249620e-04, -1.09422731e-04],\n",
       "        [-8.01578801e-05, -9.78658760e-05]]),\n",
       " array([[-1.16232369e-04, -1.09442455e-04],\n",
       "        [-8.02305545e-05, -9.78843644e-05]]),\n",
       " array([[-1.16212148e-04, -1.09426653e-04],\n",
       "        [-8.02616698e-05, -9.78919690e-05]]),\n",
       " array([[-1.16254317e-04, -1.09445328e-04],\n",
       "        [-8.02837793e-05, -9.78858000e-05]]),\n",
       " array([[-1.16276220e-04, -1.09349043e-04],\n",
       "        [-8.02938564e-05, -9.78962351e-05]]),\n",
       " array([[-1.16258883e-04, -1.09301939e-04],\n",
       "        [-8.03127505e-05, -9.78418549e-05]]),\n",
       " array([[-1.16242143e-04, -1.09350568e-04],\n",
       "        [-8.02962746e-05, -9.78168100e-05]]),\n",
       " array([[-1.16203847e-04, -1.09367143e-04],\n",
       "        [-8.03222962e-05, -9.77707359e-05]]),\n",
       " array([[-1.16211618e-04, -1.09325792e-04],\n",
       "        [-8.02600756e-05, -9.77841439e-05]]),\n",
       " array([[-1.16217557e-04, -1.09337710e-04],\n",
       "        [-8.02527720e-05, -9.78314451e-05]]),\n",
       " array([[-1.16200681e-04, -1.09376984e-04],\n",
       "        [-8.02058911e-05, -9.78449796e-05]]),\n",
       " array([[-1.16190136e-04, -1.09390978e-04],\n",
       "        [-8.01870794e-05, -9.78735236e-05]]),\n",
       " array([[-1.16194348e-04, -1.09344607e-04],\n",
       "        [-8.01712002e-05, -9.78434322e-05]]),\n",
       " array([[-1.16152768e-04, -1.09334019e-04],\n",
       "        [-8.02103769e-05, -9.78248137e-05]]),\n",
       " array([[-1.16173582e-04, -1.09362405e-04],\n",
       "        [-8.01802310e-05, -9.78139824e-05]]),\n",
       " array([[-1.16205412e-04, -1.09371913e-04],\n",
       "        [-8.01907774e-05, -9.77882680e-05]]),\n",
       " array([[-1.16241320e-04, -1.09392396e-04],\n",
       "        [-8.01597988e-05, -9.77560966e-05]]),\n",
       " array([[-1.16223723e-04, -1.09345625e-04],\n",
       "        [-8.01830823e-05, -9.77774079e-05]]),\n",
       " array([[-1.16222790e-04, -1.09305846e-04],\n",
       "        [-8.02166979e-05, -9.77778479e-05]]),\n",
       " array([[-1.16221193e-04, -1.09295312e-04],\n",
       "        [-8.02371324e-05, -9.78021158e-05]]),\n",
       " array([[-1.16234190e-04, -1.09300862e-04],\n",
       "        [-8.01951040e-05, -9.77888920e-05]]),\n",
       " array([[-1.16236960e-04, -1.09298790e-04],\n",
       "        [-8.01896515e-05, -9.77554504e-05]]),\n",
       " array([[-1.16220793e-04, -1.09309223e-04],\n",
       "        [-8.01981352e-05, -9.78059767e-05]]),\n",
       " array([[-1.16198723e-04, -1.09269534e-04],\n",
       "        [-8.02126953e-05, -9.78133934e-05]]),\n",
       " array([[-1.16183359e-04, -1.09240561e-04],\n",
       "        [-8.02362549e-05, -9.78081106e-05]]),\n",
       " array([[-1.16139966e-04, -1.09242875e-04],\n",
       "        [-8.02261471e-05, -9.77859869e-05]]),\n",
       " array([[-1.16102711e-04, -1.09219065e-04],\n",
       "        [-8.02214477e-05, -9.77782805e-05]]),\n",
       " array([[-1.16141024e-04, -1.09239851e-04],\n",
       "        [-8.02549070e-05, -9.78126373e-05]]),\n",
       " array([[-1.16160947e-04, -1.09224849e-04],\n",
       "        [-8.02370409e-05, -9.78442944e-05]]),\n",
       " array([[-1.16144302e-04, -1.09226705e-04],\n",
       "        [-8.02177874e-05, -9.78494012e-05]]),\n",
       " array([[-1.16188366e-04, -1.09186908e-04],\n",
       "        [-8.02340539e-05, -9.78689027e-05]]),\n",
       " array([[-1.16189219e-04, -1.09179994e-04],\n",
       "        [-8.02412873e-05, -9.79249961e-05]]),\n",
       " array([[-1.16208426e-04, -1.09151978e-04],\n",
       "        [-8.02610353e-05, -9.79690408e-05]]),\n",
       " array([[-1.16185099e-04, -1.09147562e-04],\n",
       "        [-8.02674205e-05, -9.79639590e-05]]),\n",
       " array([[-1.16136125e-04, -1.09118820e-04],\n",
       "        [-8.02681291e-05, -9.79535041e-05]]),\n",
       " array([[-1.16175031e-04, -1.09142519e-04],\n",
       "        [-8.02423148e-05, -9.79838405e-05]]),\n",
       " array([[-1.16178409e-04, -1.09128674e-04],\n",
       "        [-8.02507584e-05, -9.80167670e-05]]),\n",
       " array([[-1.16172665e-04, -1.09154790e-04],\n",
       "        [-8.02593690e-05, -9.79924407e-05]]),\n",
       " array([[-1.16200725e-04, -1.09126399e-04],\n",
       "        [-8.02937895e-05, -9.79614493e-05]]),\n",
       " array([[-1.16164304e-04, -1.09108526e-04],\n",
       "        [-8.02861692e-05, -9.79430896e-05]]),\n",
       " array([[-1.16156414e-04, -1.09067478e-04],\n",
       "        [-8.03254467e-05, -9.79097094e-05]]),\n",
       " array([[-1.16135790e-04, -1.09056657e-04],\n",
       "        [-8.03390508e-05, -9.79209541e-05]]),\n",
       " array([[-1.16139113e-04, -1.09048195e-04],\n",
       "        [-8.03207537e-05, -9.79161831e-05]]),\n",
       " array([[-1.16142344e-04, -1.09007420e-04],\n",
       "        [-8.03206403e-05, -9.79199432e-05]]),\n",
       " array([[-1.16121480e-04, -1.09013911e-04],\n",
       "        [-8.03294611e-05, -9.79229808e-05]]),\n",
       " array([[-1.16141731e-04, -1.09041365e-04],\n",
       "        [-8.03453782e-05, -9.79466373e-05]]),\n",
       " array([[-1.16127872e-04, -1.09026171e-04],\n",
       "        [-8.02875694e-05, -9.79879664e-05]]),\n",
       " array([[-1.16139332e-04, -1.09002762e-04],\n",
       "        [-8.03048662e-05, -9.79330522e-05]]),\n",
       " array([[-1.16180684e-04, -1.09022688e-04],\n",
       "        [-8.03391822e-05, -9.79500450e-05]]),\n",
       " array([[-1.16240622e-04, -1.09041693e-04],\n",
       "        [-8.03459862e-05, -9.79374001e-05]]),\n",
       " array([[-1.16241893e-04, -1.09034821e-04],\n",
       "        [-8.03567985e-05, -9.79598464e-05]]),\n",
       " array([[-1.16228911e-04, -1.09015134e-04],\n",
       "        [-8.03670823e-05, -9.79491679e-05]]),\n",
       " array([[-1.16223835e-04, -1.09017169e-04],\n",
       "        [-8.04005118e-05, -9.79895064e-05]]),\n",
       " array([[-1.16265038e-04, -1.09040083e-04],\n",
       "        [-8.03887844e-05, -9.79645587e-05]]),\n",
       " array([[-1.16248100e-04, -1.09110118e-04],\n",
       "        [-8.03522332e-05, -9.79652429e-05]]),\n",
       " array([[-1.16238092e-04, -1.09118648e-04],\n",
       "        [-8.03474031e-05, -9.79462863e-05]]),\n",
       " array([[-1.16279510e-04, -1.09142875e-04],\n",
       "        [-8.03828275e-05, -9.79623471e-05]]),\n",
       " array([[-1.16251641e-04, -1.09129082e-04],\n",
       "        [-8.03985022e-05, -9.80128868e-05]]),\n",
       " array([[-1.16242699e-04, -1.09103322e-04],\n",
       "        [-8.04281483e-05, -9.79989944e-05]]),\n",
       " array([[-1.16200544e-04, -1.09096133e-04],\n",
       "        [-8.04471673e-05, -9.79949266e-05]]),\n",
       " array([[-1.16202277e-04, -1.09117039e-04],\n",
       "        [-8.04770246e-05, -9.80207872e-05]]),\n",
       " array([[-1.16219840e-04, -1.09108558e-04],\n",
       "        [-8.04755574e-05, -9.80280235e-05]]),\n",
       " array([[-1.16213843e-04, -1.09124772e-04],\n",
       "        [-8.04838002e-05, -9.80516077e-05]]),\n",
       " array([[-1.16178116e-04, -1.09090812e-04],\n",
       "        [-8.04638447e-05, -9.80939283e-05]]),\n",
       " array([[-1.16191149e-04, -1.09108906e-04],\n",
       "        [-8.04136335e-05, -9.80899980e-05]]),\n",
       " array([[-1.16199547e-04, -1.09150182e-04],\n",
       "        [-8.04429917e-05, -9.80687135e-05]]),\n",
       " array([[-1.16201049e-04, -1.09152509e-04],\n",
       "        [-8.04224043e-05, -9.80579115e-05]]),\n",
       " array([[-1.16192196e-04, -1.09130593e-04],\n",
       "        [-8.04436635e-05, -9.80767723e-05]]),\n",
       " array([[-1.16187656e-04, -1.09168836e-04],\n",
       "        [-8.04563476e-05, -9.81051305e-05]]),\n",
       " array([[-1.16195024e-04, -1.09179139e-04],\n",
       "        [-8.04289164e-05, -9.81051660e-05]]),\n",
       " array([[-1.16195697e-04, -1.09174582e-04],\n",
       "        [-8.04196372e-05, -9.80843597e-05]]),\n",
       " array([[-1.16213104e-04, -1.09205181e-04],\n",
       "        [-8.04253090e-05, -9.80902012e-05]]),\n",
       " array([[-1.16193850e-04, -1.09247714e-04],\n",
       "        [-8.04180745e-05, -9.80802246e-05]]),\n",
       " array([[-1.16192814e-04, -1.09212183e-04],\n",
       "        [-8.03903242e-05, -9.80770588e-05]]),\n",
       " array([[-1.16175832e-04, -1.09193979e-04],\n",
       "        [-8.03970394e-05, -9.81254651e-05]]),\n",
       " array([[-1.16154240e-04, -1.09200288e-04],\n",
       "        [-8.03908949e-05, -9.80746346e-05]]),\n",
       " array([[-1.16186772e-04, -1.09185775e-04],\n",
       "        [-8.04045417e-05, -9.80613230e-05]]),\n",
       " array([[-1.16152860e-04, -1.09210627e-04],\n",
       "        [-8.03637355e-05, -9.80796870e-05]]),\n",
       " array([[-1.16187464e-04, -1.09202010e-04],\n",
       "        [-8.03437408e-05, -9.80924491e-05]]),\n",
       " array([[-1.16163953e-04, -1.09166987e-04],\n",
       "        [-8.03462871e-05, -9.80999724e-05]]),\n",
       " array([[-1.16186698e-04, -1.09119903e-04],\n",
       "        [-8.03705851e-05, -9.80767935e-05]]),\n",
       " array([[-1.16177990e-04, -1.09102449e-04],\n",
       "        [-8.03942908e-05, -9.81160563e-05]]),\n",
       " array([[-1.16174722e-04, -1.09086068e-04],\n",
       "        [-8.03922422e-05, -9.81172053e-05]]),\n",
       " array([[-1.16139983e-04, -1.09075089e-04],\n",
       "        [-8.04225657e-05, -9.81709107e-05]]),\n",
       " array([[-1.16163249e-04, -1.09073690e-04],\n",
       "        [-8.04161684e-05, -9.81837195e-05]]),\n",
       " array([[-1.16152602e-04, -1.09057858e-04],\n",
       "        [-8.04621050e-05, -9.81707833e-05]]),\n",
       " array([[-1.16155991e-04, -1.09075811e-04],\n",
       "        [-8.04878865e-05, -9.81753457e-05]]),\n",
       " array([[-1.16140009e-04, -1.09057250e-04],\n",
       "        [-8.04874220e-05, -9.81599809e-05]]),\n",
       " array([[-1.16141327e-04, -1.09060109e-04],\n",
       "        [-8.04676830e-05, -9.81577827e-05]]),\n",
       " array([[-1.16167598e-04, -1.09061707e-04],\n",
       "        [-8.04296822e-05, -9.81893622e-05]]),\n",
       " array([[-1.16204350e-04, -1.09028225e-04],\n",
       "        [-8.04050033e-05, -9.81576895e-05]]),\n",
       " array([[-1.16235113e-04, -1.09022752e-04],\n",
       "        [-8.04030018e-05, -9.81361808e-05]]),\n",
       " array([[-1.16214965e-04, -1.09023323e-04],\n",
       "        [-8.04048948e-05, -9.81349712e-05]]),\n",
       " array([[-1.16182164e-04, -1.09014174e-04],\n",
       "        [-8.03901073e-05, -9.81684546e-05]]),\n",
       " array([[-1.16188503e-04, -1.08992454e-04],\n",
       "        [-8.03684589e-05, -9.81526767e-05]]),\n",
       " array([[-1.16231320e-04, -1.09003789e-04],\n",
       "        [-8.03249206e-05, -9.81670401e-05]]),\n",
       " array([[-1.16248194e-04, -1.09028897e-04],\n",
       "        [-8.03351042e-05, -9.81769765e-05]]),\n",
       " array([[-1.16264829e-04, -1.09022760e-04],\n",
       "        [-8.03138926e-05, -9.81855165e-05]]),\n",
       " array([[-1.16273925e-04, -1.08997300e-04],\n",
       "        [-8.02808106e-05, -9.82060581e-05]])]"
      ]
     },
     "execution_count": 10,
     "metadata": {},
     "output_type": "execute_result"
    }
   ],
   "source": [
    "list(I_handle.fetch_all(flat_struct=True))"
   ]
  },
  {
   "cell_type": "code",
   "execution_count": 36,
   "id": "577ba8fa",
   "metadata": {},
   "outputs": [
    {
     "data": {
      "text/plain": [
       "array([-0.00011043, -0.0001157 ])"
      ]
     },
     "execution_count": 36,
     "metadata": {},
     "output_type": "execute_result"
    }
   ],
   "source": [
    "list(I_handle.fetch_all(flat_struct=True))[0]"
   ]
  },
  {
   "cell_type": "code",
   "execution_count": 37,
   "id": "e4e9c053",
   "metadata": {},
   "outputs": [
    {
     "ename": "IndexError",
     "evalue": "too many indices for array: array is 1-dimensional, but 2 were indexed",
     "output_type": "error",
     "traceback": [
      "\u001b[1;31m---------------------------------------------------------------------------\u001b[0m",
      "\u001b[1;31mIndexError\u001b[0m                                Traceback (most recent call last)",
      "\u001b[1;32m<ipython-input-37-b3141433c5ab>\u001b[0m in \u001b[0;36m<module>\u001b[1;34m\u001b[0m\n\u001b[1;32m----> 1\u001b[1;33m \u001b[0mlist\u001b[0m\u001b[1;33m(\u001b[0m\u001b[0mI_handle\u001b[0m\u001b[1;33m.\u001b[0m\u001b[0mfetch_all\u001b[0m\u001b[1;33m(\u001b[0m\u001b[0mflat_struct\u001b[0m\u001b[1;33m=\u001b[0m\u001b[1;32mTrue\u001b[0m\u001b[1;33m)\u001b[0m\u001b[1;33m)\u001b[0m\u001b[1;33m[\u001b[0m\u001b[1;36m0\u001b[0m\u001b[1;33m]\u001b[0m\u001b[1;33m[\u001b[0m\u001b[1;36m1\u001b[0m\u001b[1;33m,\u001b[0m\u001b[1;36m1\u001b[0m\u001b[1;33m]\u001b[0m\u001b[1;33m\u001b[0m\u001b[1;33m\u001b[0m\u001b[0m\n\u001b[0m",
      "\u001b[1;31mIndexError\u001b[0m: too many indices for array: array is 1-dimensional, but 2 were indexed"
     ]
    }
   ],
   "source": [
    "list(I_handle.fetch_all(flat_struct=True))[0][1,1]"
   ]
  },
  {
   "cell_type": "code",
   "execution_count": 34,
   "id": "48fce0f6",
   "metadata": {},
   "outputs": [
    {
     "data": {
      "text/plain": [
       "-0.004697132855653763"
      ]
     },
     "execution_count": 34,
     "metadata": {},
     "output_type": "execute_result"
    }
   ],
   "source": [
    "Q_handle.fetch_all()"
   ]
  },
  {
   "cell_type": "code",
   "execution_count": 25,
   "id": "1caf5ee2",
   "metadata": {
    "scrolled": false
   },
   "outputs": [
    {
     "data": {
      "text/plain": [
       "False"
      ]
     },
     "execution_count": 25,
     "metadata": {},
     "output_type": "execute_result"
    }
   ],
   "source": [
    "queued_job.cancel()"
   ]
  },
  {
   "cell_type": "code",
   "execution_count": 24,
   "id": "828b02a9",
   "metadata": {
    "scrolled": true
   },
   "outputs": [
    {
     "ename": "AttributeError",
     "evalue": "'QmPendingJob' object has no attribute 'halt'",
     "output_type": "error",
     "traceback": [
      "\u001b[1;31m---------------------------------------------------------------------------\u001b[0m",
      "\u001b[1;31mAttributeError\u001b[0m                            Traceback (most recent call last)",
      "\u001b[1;32m<ipython-input-24-2993c4ccc725>\u001b[0m in \u001b[0;36m<module>\u001b[1;34m\u001b[0m\n\u001b[1;32m----> 1\u001b[1;33m \u001b[0mqueued_job\u001b[0m\u001b[1;33m.\u001b[0m\u001b[0mhalt\u001b[0m\u001b[1;33m\u001b[0m\u001b[1;33m\u001b[0m\u001b[0m\n\u001b[0m",
      "\u001b[1;31mAttributeError\u001b[0m: 'QmPendingJob' object has no attribute 'halt'"
     ]
    }
   ],
   "source": [
    "queued_job.halt"
   ]
  },
  {
   "cell_type": "code",
   "execution_count": 9,
   "id": "df44cba7",
   "metadata": {},
   "outputs": [],
   "source": [
    "F_START = -46.0e6\n",
    "F_STOP = -48.0e6\n",
    "F_STEP = -0.02e6\n",
    "rr_f_vec = np.arange(F_START, F_STOP, F_STEP)\n",
    "reps = 4000\n",
    "wait_time = 20000\n",
    "rr_ascale = 0.02\n",
    "\n",
    "#I_list, Q_list = resonator_spectroscopy.run(qm, F_START, F_STOP, F_STEP, REPS, WAIT_TIME, \n",
    "#                                            rr_amp_scale, qubit_amp_scale = None)"
   ]
  },
  {
   "cell_type": "code",
   "execution_count": 10,
   "id": "d3e12eb1",
   "metadata": {},
   "outputs": [
    {
     "ename": "KeyError",
     "evalue": "'Qubit pulse amp. scaling'",
     "output_type": "error",
     "traceback": [
      "\u001b[1;31m---------------------------------------------------------------------------\u001b[0m",
      "\u001b[1;31mKeyError\u001b[0m                                  Traceback (most recent call last)",
      "\u001b[1;32m<ipython-input-10-f7997b3be667>\u001b[0m in \u001b[0;36m<module>\u001b[1;34m\u001b[0m\n\u001b[0;32m      1\u001b[0m \u001b[1;32mfrom\u001b[0m \u001b[0mmeasurements\u001b[0m\u001b[1;33m.\u001b[0m\u001b[0mroutines\u001b[0m\u001b[1;33m.\u001b[0m\u001b[0mresonator_spectroscopy_new\u001b[0m \u001b[1;32mimport\u001b[0m \u001b[0mResonatorSpectroscopy\u001b[0m\u001b[1;33m\u001b[0m\u001b[1;33m\u001b[0m\u001b[0m\n\u001b[1;32m----> 2\u001b[1;33m \u001b[0mrr_spec\u001b[0m \u001b[1;33m=\u001b[0m \u001b[0mResonatorSpectroscopy\u001b[0m\u001b[1;33m(\u001b[0m\u001b[1;34m'rr_spec_1'\u001b[0m\u001b[1;33m,\u001b[0m \u001b[0mreps\u001b[0m\u001b[1;33m,\u001b[0m \u001b[0mwait_time\u001b[0m\u001b[1;33m,\u001b[0m \u001b[0mrr_f_vec\u001b[0m\u001b[1;33m,\u001b[0m \u001b[0mrr_ascale\u001b[0m\u001b[1;33m)\u001b[0m\u001b[1;33m\u001b[0m\u001b[1;33m\u001b[0m\u001b[0m\n\u001b[0m",
      "\u001b[1;32m~\\Desktop\\qcore\\measurements\\routines\\resonator_spectroscopy_new.py\u001b[0m in \u001b[0;36m__init__\u001b[1;34m(self, name, reps, wait_time, rr_f_vec, rr_ascale, qubit_ascale, qubit_pulse)\u001b[0m\n\u001b[0;32m     24\u001b[0m         \u001b[0msuper\u001b[0m\u001b[1;33m(\u001b[0m\u001b[1;33m)\u001b[0m\u001b[1;33m.\u001b[0m\u001b[0m__init__\u001b[0m\u001b[1;33m(\u001b[0m\u001b[0mname\u001b[0m\u001b[1;33m=\u001b[0m\u001b[0mname\u001b[0m\u001b[1;33m)\u001b[0m\u001b[1;33m\u001b[0m\u001b[1;33m\u001b[0m\u001b[0m\n\u001b[0;32m     25\u001b[0m \u001b[1;33m\u001b[0m\u001b[0m\n\u001b[1;32m---> 26\u001b[1;33m         self._create_parameters(reps, wait_time, rr_f_vec, rr_ascale, \n\u001b[0m\u001b[0;32m     27\u001b[0m                                 qubit_ascale, qubit_pulse)\n\u001b[0;32m     28\u001b[0m         \u001b[0mself\u001b[0m\u001b[1;33m.\u001b[0m\u001b[0m_setup\u001b[0m\u001b[1;33m(\u001b[0m\u001b[1;33m)\u001b[0m\u001b[1;33m\u001b[0m\u001b[1;33m\u001b[0m\u001b[0m\n",
      "\u001b[1;32m~\\Desktop\\qcore\\measurements\\routines\\resonator_spectroscopy_new.py\u001b[0m in \u001b[0;36m_create_parameters\u001b[1;34m(self, reps, wait_time, rr_f_vec, rr_ascale, qubit_ascale, qubit_pulse)\u001b[0m\n\u001b[0;32m    163\u001b[0m         \u001b[0mself\u001b[0m\u001b[1;33m.\u001b[0m\u001b[0m_rr_f_vec\u001b[0m \u001b[1;33m=\u001b[0m \u001b[0mself\u001b[0m\u001b[1;33m.\u001b[0m\u001b[0m_parameters\u001b[0m\u001b[1;33m[\u001b[0m\u001b[1;34m'Resonator frequency sweep vector'\u001b[0m\u001b[1;33m]\u001b[0m\u001b[1;33m\u001b[0m\u001b[1;33m\u001b[0m\u001b[0m\n\u001b[0;32m    164\u001b[0m         \u001b[0mself\u001b[0m\u001b[1;33m.\u001b[0m\u001b[0m_rr_ascale\u001b[0m \u001b[1;33m=\u001b[0m \u001b[0mself\u001b[0m\u001b[1;33m.\u001b[0m\u001b[0m_parameters\u001b[0m\u001b[1;33m[\u001b[0m\u001b[1;34m'Resonator pulse amp. scaling'\u001b[0m\u001b[1;33m]\u001b[0m\u001b[1;33m\u001b[0m\u001b[1;33m\u001b[0m\u001b[0m\n\u001b[1;32m--> 165\u001b[1;33m         \u001b[0mself\u001b[0m\u001b[1;33m.\u001b[0m\u001b[0m_qubit_ascale\u001b[0m \u001b[1;33m=\u001b[0m \u001b[0mself\u001b[0m\u001b[1;33m.\u001b[0m\u001b[0m_parameters\u001b[0m\u001b[1;33m[\u001b[0m\u001b[1;34m'Qubit pulse amp. scaling'\u001b[0m\u001b[1;33m]\u001b[0m\u001b[1;33m\u001b[0m\u001b[1;33m\u001b[0m\u001b[0m\n\u001b[0m\u001b[0;32m    166\u001b[0m         \u001b[0mself\u001b[0m\u001b[1;33m.\u001b[0m\u001b[0m_qubit_pulse\u001b[0m \u001b[1;33m=\u001b[0m \u001b[0mself\u001b[0m\u001b[1;33m.\u001b[0m\u001b[0m_parameters\u001b[0m\u001b[1;33m[\u001b[0m\u001b[1;34m'Qubit pulse name'\u001b[0m\u001b[1;33m]\u001b[0m\u001b[1;33m\u001b[0m\u001b[1;33m\u001b[0m\u001b[0m\n\u001b[0;32m    167\u001b[0m \u001b[1;33m\u001b[0m\u001b[0m\n",
      "\u001b[1;31mKeyError\u001b[0m: 'Qubit pulse amp. scaling'"
     ]
    }
   ],
   "source": [
    "from measurements.routines.resonator_spectroscopy_new import ResonatorSpectroscopy\n",
    "rr_spec = ResonatorSpectroscopy('rr_spec_1', reps, wait_time, rr_f_vec, rr_ascale)"
   ]
  },
  {
   "cell_type": "code",
   "execution_count": 12,
   "id": "6ae5b146",
   "metadata": {},
   "outputs": [],
   "source": []
  }
 ],
 "metadata": {
  "kernelspec": {
   "display_name": "Python 3",
   "language": "python",
   "name": "python3"
  },
  "language_info": {
   "codemirror_mode": {
    "name": "ipython",
    "version": 3
   },
   "file_extension": ".py",
   "mimetype": "text/x-python",
   "name": "python",
   "nbconvert_exporter": "python",
   "pygments_lexer": "ipython3",
   "version": "3.9.2"
  }
 },
 "nbformat": 4,
 "nbformat_minor": 5
}
