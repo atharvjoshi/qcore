{
 "cells": [
  {
   "cell_type": "code",
   "execution_count": 1,
   "id": "00029b70",
   "metadata": {},
   "outputs": [],
   "source": [
    "# ensure relative imports are correct\n",
    "import sys\n",
    "sys.path.insert(0, '../..') # this notebook resides in a sub-sub-directory in the main package"
   ]
  },
  {
   "cell_type": "code",
   "execution_count": 2,
   "id": "b4580fa8",
   "metadata": {},
   "outputs": [],
   "source": [
    "import numpy as np\n",
    "import matplotlib.pyplot as plt\n",
    "\n",
    "from qm.QuantumMachinesManager import QuantumMachinesManager\n",
    "from qm.QuantumMachine import QuantumMachine\n",
    "from qm.qua import *\n",
    "\n",
    "from instruments import LabBrick, MetaInstrument, Sa124\n",
    "from instruments.quantum_machines.configuration import *\n",
    "\n",
    "from measurement.routines import resonator_spectroscopy\n",
    "from measurement.routines import resonator_power_level\n",
    "from measurement.routines import qubit_spectroscopy\n",
    "from measurement.routines import power_rabi\n",
    "from measurement.routines import qubit_T1"
   ]
  },
  {
   "cell_type": "code",
   "execution_count": 3,
   "id": "fbbc6b58",
   "metadata": {},
   "outputs": [],
   "source": [
    "# define a qubit\n",
    "class Qubit(MetaInstrument):\n",
    "    \"\"\"\n",
    "    Encapsulates a qubit.\n",
    "    \"\"\"\n",
    "    def __init__(self, name: str, lo_freq: float):\n",
    "        self.name = name\n",
    "        self.lo_freq = lo_freq\n",
    "    \n",
    "    def _create_parameters(self):\n",
    "        print(\"created dummy parameters for \" + self.name)\n",
    "    \n",
    "    def _create_yaml_map(self):\n",
    "        return {\n",
    "            'lo_freq': self.lo_freq\n",
    "        }\n",
    "\n",
    "# instantiate the qubit\n",
    "qubit = Qubit(name='qubit', lo_freq=4.36e9)"
   ]
  },
  {
   "cell_type": "code",
   "execution_count": 4,
   "id": "e8958feb",
   "metadata": {},
   "outputs": [],
   "source": [
    "# define a resonator\n",
    "class Resonator(MetaInstrument):\n",
    "    \"\"\"\n",
    "    Encapsulates a resonator.\n",
    "    \"\"\"\n",
    "    def __init__(self, name: str, lo_freq: float):\n",
    "        self.name = name\n",
    "        self.lo_freq = lo_freq\n",
    "    \n",
    "    def _create_parameters(self):\n",
    "        print(\"created dummy parameters for \" + self.name)\n",
    "    \n",
    "    def _create_yaml_map(self):\n",
    "        return {\n",
    "            'lo_freq': self.lo_freq\n",
    "        }\n",
    "\n",
    "# instantiate the resonator\n",
    "rr = Resonator(name='rr', lo_freq=8.7571e9)"
   ]
  },
  {
   "cell_type": "code",
   "execution_count": 5,
   "id": "028d0170",
   "metadata": {},
   "outputs": [
    {
     "name": "stdout",
     "output_type": "stream",
     "text": [
      "2021-04-13 20:06:45,368 - qm - INFO - Performing health check\n",
      "2021-04-13 20:06:45,375 - qm - INFO - Health check passed\n"
     ]
    }
   ],
   "source": [
    "# start the qm\n",
    "qmm = QuantumMachinesManager()\n",
    "qm = qmm.open_qm(config)"
   ]
  },
  {
   "cell_type": "code",
   "execution_count": 6,
   "id": "bd1796ab",
   "metadata": {},
   "outputs": [],
   "source": [
    "# We have tuned the IQ mixer according to the tutorial-2-2-SA124B-MixerTuning.ipynb document.\n",
    "# These are key numbers obtained:\n",
    "rr_dcOffsetI = 0.011558358245951837\n",
    "rr_dcOffsetQ = -0.00947436793762317\n",
    "rr_mixerGainCorrection = -0.15430981633780644\n",
    "rr_mixerPhaseCorrection = 0.0212698142172309\n",
    "\n",
    "q_dcOffsetI = -0.00647755186574999 \n",
    "q_dcOffsetQ = -0.011624171790995147\n",
    "q_mixerGainCorrection = -0.19547425898369505\n",
    "q_mixerPhaseCorrection = 0.05154287262922243\n",
    "\n",
    "# after this step we have tuned the IQ mixer.\n",
    "qm.set_output_dc_offset_by_element(\"rr\", \"I\", float(rr_dcOffsetI)) \n",
    "qm.set_output_dc_offset_by_element(\"rr\", \"Q\", float(rr_dcOffsetQ))\n",
    "qm.set_mixer_correction(\"mixer_rr\", rr_IF, rr_LO, IQ_imbalance(rr_mixerGainCorrection, rr_mixerPhaseCorrection))\n",
    "qm.set_output_dc_offset_by_element(\"qubit\", \"I\", float(q_dcOffsetI)) \n",
    "qm.set_output_dc_offset_by_element(\"qubit\", \"Q\", float(q_dcOffsetQ))\n",
    "qm.set_mixer_correction(\"mixer_qubit\", qubit_IF, qubit_LO, IQ_imbalance(rr_mixerGainCorrection, q_mixerPhaseCorrection))"
   ]
  },
  {
   "cell_type": "code",
   "execution_count": 7,
   "id": "1131b315",
   "metadata": {
    "scrolled": true
   },
   "outputs": [
    {
     "name": "stdout",
     "output_type": "stream",
     "text": [
      "Trying to initialize lb_q\n",
      "Connnected to LabBrick 25331\n",
      "creating parameters...\n",
      "Initializing device...\n",
      "Successfully set frequency to 4.36E+09\n",
      "Successfully set power to +15\n",
      "Trying to initialize lb_rr\n",
      "Connnected to LabBrick 25337\n",
      "creating parameters...\n",
      "Initializing device...\n",
      "Successfully set frequency to 8.76E+09\n",
      "Successfully set power to +13\n"
     ]
    }
   ],
   "source": [
    "# start the labbricks\n",
    "lb_q = LabBrick(name='lb_q', serial_number=25331, element=qubit, power=15)\n",
    "lb_rr = LabBrick(name='lb_rr', serial_number=25337, element=rr, power=13)"
   ]
  },
  {
   "cell_type": "code",
   "execution_count": 94,
   "id": "3386c9e2",
   "metadata": {
    "scrolled": false
   },
   "outputs": [
    {
     "name": "stdout",
     "output_type": "stream",
     "text": [
      "2021-04-13 21:06:22,390 - qm - INFO - Flags: \n",
      "2021-04-13 21:06:22,390 - qm - INFO - Executing high level program\n"
     ]
    },
    {
     "data": {
      "text/plain": [
       "<qm.QmJob.QmJob at 0x21230d7b1c0>"
      ]
     },
     "execution_count": 94,
     "metadata": {},
     "output_type": "execute_result"
    }
   ],
   "source": [
    "with program() as script:\n",
    "    play('CW', 'rr')\n",
    "qm.execute(script)"
   ]
  },
  {
   "cell_type": "code",
   "execution_count": 93,
   "id": "9ec3f81a",
   "metadata": {
    "scrolled": true
   },
   "outputs": [
    {
     "name": "stdout",
     "output_type": "stream",
     "text": [
      "2021-04-13 21:06:16,856 - qm - INFO - Flags: \n",
      "2021-04-13 21:06:16,857 - qm - INFO - Executing high level program\n"
     ]
    }
   ],
   "source": [
    "with program() as script:\n",
    "\n",
    "    #I_st = declare_stream()\n",
    "    #Q_st = declare_stream()\n",
    "    \n",
    "    #update_frequency(\"rr\", rr_frequency)\n",
    "    with infinite_loop_():\n",
    "        play('gaussian', 'qubit', duration = int(145))\n",
    "        #align('rr', 'qubit')\n",
    "        wait(int(15e3), 'rr')\n",
    "        #play('CW', 'qubit')\n",
    "    #align('qubit', 'rr')\n",
    "    #measure(\"long_readout\" * amp(a), \"rr\", None, demod.full('long_integW1', I), demod.full('long_integW2', Q))\n",
    "    #wait(WAIT_TIME, \"rr\")\n",
    "\n",
    "    #with stream_processing():\n",
    "    #    I_st.buffer(len(AMP_VEC)).average().save('I_mem')\n",
    "    #    Q_st.buffer(len(AMP_VEC)).average().save('Q_mem')\n",
    "    \n",
    "qua_script = script\n",
    "queued_job = qm.queue.add(qua_script)"
   ]
  },
  {
   "cell_type": "code",
   "execution_count": 25,
   "id": "6c802991",
   "metadata": {
    "scrolled": true
   },
   "outputs": [
    {
     "data": {
      "text/plain": [
       "False"
      ]
     },
     "execution_count": 25,
     "metadata": {},
     "output_type": "execute_result"
    }
   ],
   "source": [
    "queued_job.cancel()"
   ]
  },
  {
   "cell_type": "code",
   "execution_count": 15,
   "id": "3aefda39",
   "metadata": {
    "scrolled": false
   },
   "outputs": [
    {
     "ename": "AttributeError",
     "evalue": "'QmPendingJob' object has no attribute 'halt'",
     "output_type": "error",
     "traceback": [
      "\u001b[1;31m---------------------------------------------------------------------------\u001b[0m",
      "\u001b[1;31mAttributeError\u001b[0m                            Traceback (most recent call last)",
      "\u001b[1;32m<ipython-input-15-2993c4ccc725>\u001b[0m in \u001b[0;36m<module>\u001b[1;34m\u001b[0m\n\u001b[1;32m----> 1\u001b[1;33m \u001b[0mqueued_job\u001b[0m\u001b[1;33m.\u001b[0m\u001b[0mhalt\u001b[0m\u001b[1;33m\u001b[0m\u001b[1;33m\u001b[0m\u001b[0m\n\u001b[0m",
      "\u001b[1;31mAttributeError\u001b[0m: 'QmPendingJob' object has no attribute 'halt'"
     ]
    }
   ],
   "source": [
    "queued_job.halt"
   ]
  },
  {
   "cell_type": "code",
   "execution_count": 12,
   "id": "cc9cb6d5",
   "metadata": {},
   "outputs": [],
   "source": [
    "job = queued_job.wait_for_execution()"
   ]
  }
 ],
 "metadata": {
  "kernelspec": {
   "display_name": "Python 3",
   "language": "python",
   "name": "python3"
  },
  "language_info": {
   "codemirror_mode": {
    "name": "ipython",
    "version": 3
   },
   "file_extension": ".py",
   "mimetype": "text/x-python",
   "name": "python",
   "nbconvert_exporter": "python",
   "pygments_lexer": "ipython3",
   "version": "3.9.2"
  }
 },
 "nbformat": 4,
 "nbformat_minor": 5
}
