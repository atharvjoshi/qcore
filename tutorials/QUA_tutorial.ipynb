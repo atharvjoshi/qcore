{
 "cells": [
  {
   "cell_type": "markdown",
   "id": "e1d197d8",
   "metadata": {},
   "source": [
    "## Initialization"
   ]
  },
  {
   "cell_type": "code",
   "execution_count": 1,
   "id": "e92f6c30",
   "metadata": {},
   "outputs": [],
   "source": [
    "# Get only the config file\n",
    "import sys \n",
    "sys.path.insert(0, '../../notebofernando/')\n"
   ]
  },
  {
   "cell_type": "code",
   "execution_count": 2,
   "id": "ba354e28",
   "metadata": {},
   "outputs": [],
   "source": [
    "# ensure relative imports are correctly imported\n",
    "import sys\n",
    "from configuration import *\n",
    "sys.path.insert(0, '../qcore')\n",
    "\n",
    "# Imports\n",
    "import numpy as np\n",
    "import matplotlib.pyplot as plt\n",
    "from pathlib import Path\n",
    "\n",
    "from qm.QuantumMachinesManager import QuantumMachinesManager\n",
    "from qm.QuantumMachine import QuantumMachine\n",
    "from qm.qua import *\n",
    "\n",
    "from instruments import LabBrick, MetaInstrument, Sa124, Stage, qm_config_builder"
   ]
  },
  {
   "cell_type": "code",
   "execution_count": 3,
   "id": "fd43d19e",
   "metadata": {},
   "outputs": [
    {
     "name": "stdout",
     "output_type": "stream",
     "text": [
      "Trying to initialize lb_qubit\n",
      "Connnected to LabBrick 25331\n",
      "Setting initial parameters...\n",
      "Successfully set frequency to 4.1650000E+09\n",
      "Successfully set power to +15\n",
      "LabBrick is ready to use.\n",
      "Trying to initialize lb_rr\n",
      "Connnected to LabBrick 25335\n",
      "Setting initial parameters...\n",
      "Successfully set frequency to 8.7571000E+09\n",
      "Successfully set power to +13\n",
      "LabBrick is ready to use.\n",
      "Trying to initialize sa, will take about 5s...\n",
      "Connnected to SA124B 19184645\n",
      "Configured sweep! Sweep info: \n",
      "{'start': '7.7501000E+09', 'center': '8.0000000E+09', 'span': '5.000E+08', 'sweep_length': 2500, 'rbw': '2.500E+05', 'ref_power': 0, 'bin_size': '2.000E+05'}\n",
      "2021-04-26 18:12:57,149 - qm - INFO - Performing health check\n",
      "2021-04-26 18:12:57,160 - qm - INFO - Health check passed\n"
     ]
    }
   ],
   "source": [
    "# Staging\n",
    "\n",
    "stage_yaml_file_name = 'stage.yaml'\n",
    "stage_yaml_file_path = Path.cwd() / stage_yaml_file_name\n",
    "\n",
    "stage = Stage.load(stage_yaml_file_path)\n",
    "\n",
    "device = stage.device_A\n",
    "qubit = stage.device_A.qubit\n",
    "rr = stage.device_A.rr\n",
    "lb_qubit = stage.lb_qubit\n",
    "lb_rr = stage.lb_rr\n",
    "sa = stage.sa\n",
    "\n",
    "# start the qm\n",
    "qmm = QuantumMachinesManager()\n",
    "qm = qmm.open_qm(config)"
   ]
  },
  {
   "cell_type": "code",
   "execution_count": 5,
   "id": "210fe374",
   "metadata": {},
   "outputs": [
    {
     "name": "stdout",
     "output_type": "stream",
     "text": [
      "sa disconnected!\n"
     ]
    }
   ],
   "source": [
    "#lb_qubit.disconnect()\n",
    "#lb_rr.disconnect()\n",
    "#sa.disconnect()"
   ]
  },
  {
   "cell_type": "code",
   "execution_count": 4,
   "id": "015703e7",
   "metadata": {},
   "outputs": [],
   "source": [
    "# We have tuned the IQ mixer according to the tutorial-2-2-SA124B-MixerTuning.ipynb document.\n",
    "# These are key numbers obtained:\n",
    "rr_dcOffsetI = 0.011558358245951837\n",
    "rr_dcOffsetQ = -0.00947436793762317\n",
    "rr_mixerGainCorrection = -0.15430981633780644\n",
    "rr_mixerPhaseCorrection = 0.0212698142172309\n",
    "\n",
    "q_dcOffsetI = -0.0030276985229423627\n",
    "q_dcOffsetQ = -0.009971422329707026\n",
    "q_mixerGainCorrection = -0.19547425898369505\n",
    "q_mixerPhaseCorrection = 0.05154287262922243\n",
    "\n",
    "# after this step we have tuned the IQ mixer.\n",
    "qm.set_output_dc_offset_by_element(\"rr\", \"I\", float(rr_dcOffsetI)) \n",
    "qm.set_output_dc_offset_by_element(\"rr\", \"Q\", float(rr_dcOffsetQ))\n",
    "qm.set_mixer_correction(\"mixer_rr\", rr_IF, rr_LO, IQ_imbalance(rr_mixerGainCorrection, rr_mixerPhaseCorrection))\n",
    "qm.set_output_dc_offset_by_element(\"qubit\", \"I\", float(q_dcOffsetI)) \n",
    "qm.set_output_dc_offset_by_element(\"qubit\", \"Q\", float(q_dcOffsetQ))\n",
    "qm.set_mixer_correction(\"mixer_qubit\", qubit_IF, qubit_LO, IQ_imbalance(rr_mixerGainCorrection, q_mixerPhaseCorrection))"
   ]
  },
  {
   "cell_type": "markdown",
   "id": "f65c1963",
   "metadata": {},
   "source": [
    "## Pulse timing and manipulation"
   ]
  },
  {
   "cell_type": "markdown",
   "id": "02471b36",
   "metadata": {},
   "source": [
    "#### Prototype script"
   ]
  },
  {
   "cell_type": "code",
   "execution_count": 6,
   "id": "8895f243",
   "metadata": {},
   "outputs": [],
   "source": [
    "# QUA script\n",
    "with program() as cw:\n",
    "    with infinite_loop_():\n",
    "        play(\"CW\", \"rr\")\n"
   ]
  },
  {
   "cell_type": "code",
   "execution_count": 6,
   "id": "7b089b67",
   "metadata": {},
   "outputs": [
    {
     "name": "stdout",
     "output_type": "stream",
     "text": [
      "2021-04-24 09:30:32,688 - qm - INFO - Flags: \n",
      "2021-04-24 09:30:32,689 - qm - INFO - Executing high level program\n"
     ]
    }
   ],
   "source": [
    "# Add script to queue\n",
    "#job = qm.queue.add(cw)\n",
    "#job.cancel()"
   ]
  },
  {
   "cell_type": "code",
   "execution_count": 8,
   "id": "8dadf459",
   "metadata": {
    "scrolled": false
   },
   "outputs": [
    {
     "name": "stdout",
     "output_type": "stream",
     "text": [
      "2021-04-25 15:11:04,986 - qm - INFO - Flags: \n",
      "2021-04-25 15:11:04,986 - qm - INFO - Executing high level program\n"
     ]
    },
    {
     "data": {
      "text/plain": [
       "True"
      ]
     },
     "execution_count": 8,
     "metadata": {},
     "output_type": "execute_result"
    }
   ],
   "source": [
    "# Execute script\n",
    "job = qm.execute(cw)\n",
    "#job.halt()"
   ]
  },
  {
   "cell_type": "markdown",
   "id": "d6ee0482",
   "metadata": {},
   "source": [
    "#### Pulse duration\n",
    "The pulse duration can be defined inside the QUA script using either a python or QUA variable int.\n",
    "\n",
    "The duration is given in clock cycles of 4ns. That is, setting a duration = 1000 will play a 4000 ns-long pulse (insert image 3). On the other hand, the duration value as set directly on the config file is in nanoseconds."
   ]
  },
  {
   "cell_type": "code",
   "execution_count": 13,
   "id": "d353b10f",
   "metadata": {},
   "outputs": [],
   "source": [
    "# QUA script\n",
    "with program() as pulse_duration:\n",
    "    \n",
    "    length_rr = declare(int, value = 200)\n",
    "    length_qubit = declare(int, value = 50)\n",
    "    \n",
    "    with infinite_loop_():\n",
    "        play(\"CW\", \"rr\", duration = length_rr)\n",
    "        align(\"rr\", \"qubit\")\n",
    "        play(\"CW\", \"qubit\", duration = length_qubit)\n"
   ]
  },
  {
   "cell_type": "code",
   "execution_count": 15,
   "id": "98494d87",
   "metadata": {
    "scrolled": false
   },
   "outputs": [
    {
     "name": "stdout",
     "output_type": "stream",
     "text": [
      "2021-04-25 15:15:18,170 - qm - INFO - Flags: \n",
      "2021-04-25 15:15:18,170 - qm - INFO - Executing high level program\n"
     ]
    },
    {
     "data": {
      "text/plain": [
       "True"
      ]
     },
     "execution_count": 15,
     "metadata": {},
     "output_type": "execute_result"
    }
   ],
   "source": [
    "# Execute script\n",
    "job = qm.execute(pulse_duration)\n",
    "job.halt()"
   ]
  },
  {
   "cell_type": "markdown",
   "id": "0f5043f4",
   "metadata": {},
   "source": [
    "#### Wait command\n",
    "Similarly to the pulse duration, the wait command also uses clock-cycle units. (insert image 4)"
   ]
  },
  {
   "cell_type": "code",
   "execution_count": 43,
   "id": "0d4a8efe",
   "metadata": {},
   "outputs": [],
   "source": [
    "# QUA script\n",
    "with program() as wait_command:\n",
    "    \n",
    "    length_rr = declare(int, value = 200)\n",
    "    length_qubit = declare(int, value = 50)\n",
    "    wait_time = declare(int, value = 100)\n",
    "    \n",
    "    with infinite_loop_():\n",
    "        play(\"CW\", \"rr\", duration = length_rr)\n",
    "        align(\"rr\", \"qubit\")\n",
    "        play(\"CW\", \"qubit\", duration = length_qubit)\n",
    "        wait(wait_time)\n"
   ]
  },
  {
   "cell_type": "code",
   "execution_count": 19,
   "id": "69fc4d02",
   "metadata": {
    "scrolled": true
   },
   "outputs": [
    {
     "name": "stdout",
     "output_type": "stream",
     "text": [
      "2021-04-25 15:24:23,988 - qm - INFO - Flags: \n",
      "2021-04-25 15:24:23,988 - qm - INFO - Executing high level program\n"
     ]
    },
    {
     "data": {
      "text/plain": [
       "True"
      ]
     },
     "execution_count": 19,
     "metadata": {},
     "output_type": "execute_result"
    }
   ],
   "source": [
    "# Execute script\n",
    "job = qm.execute(wait_command)\n",
    "job.halt()"
   ]
  },
  {
   "cell_type": "markdown",
   "id": "a7594bf1",
   "metadata": {},
   "source": [
    "#### Stretching and compressing arbitrary pulses\n",
    "\n",
    "According to our tests, square pulses can be stretched and compressed in time arbitrarily, limited only by device constraints. \n",
    "\n",
    "Arbitrary pulses, as gaussian pulses, can be effectively stretched in time. QUA does this by interpolating the amplitude values, and thus it must be used with caution.\n",
    "\n",
    "(image 5: 900 ns-long gaussian pulse as defined in config)\n",
    "(image 7: 4000 ns-long gaussian pulse defined w/ duration = 1000)\n",
    "\n",
    "Compressing pulses shows to be much less effective. Setting duration = 125 highly distorts the gaussian shape.\n",
    "(image 8: 500 ns-long gaussian pulse defined w/ duration = 125)"
   ]
  },
  {
   "cell_type": "code",
   "execution_count": 16,
   "id": "51d58365",
   "metadata": {},
   "outputs": [],
   "source": [
    "# QUA script\n",
    "with program() as wait_command:\n",
    "    \n",
    "    length_qubit = declare(int, value = 125)\n",
    "    \n",
    "    with infinite_loop_():\n",
    "        play(\"CW\", \"rr\", duration = 200)\n",
    "        align(\"rr\", \"qubit\")\n",
    "        play(\"gaussian\", \"qubit\", duration = length_qubit)\n",
    "        wait(100)\n"
   ]
  },
  {
   "cell_type": "code",
   "execution_count": 17,
   "id": "df77b0c6",
   "metadata": {
    "scrolled": true
   },
   "outputs": [
    {
     "name": "stdout",
     "output_type": "stream",
     "text": [
      "2021-04-25 15:18:10,668 - qm - INFO - Flags: \n",
      "2021-04-25 15:18:10,669 - qm - INFO - Executing high level program\n"
     ]
    }
   ],
   "source": [
    "# Execute script\n",
    "job = qm.execute(wait_command)\n",
    "# job.halt()"
   ]
  },
  {
   "cell_type": "markdown",
   "id": "9f3b1893",
   "metadata": {},
   "source": [
    "## QUA control flow"
   ]
  },
  {
   "cell_type": "markdown",
   "id": "1e04b767",
   "metadata": {},
   "source": [
    "#### for_each_() and for_() loops\n",
    "\n",
    "These are the two QUA loop commands, each having its own structure but having a similar purpose.\n",
    "\n",
    "for_each_() allows one to loop over a arbitrarily-defined list. This list might be either a python or QUA variable."
   ]
  },
  {
   "cell_type": "code",
   "execution_count": 8,
   "id": "7dca4df6",
   "metadata": {},
   "outputs": [],
   "source": [
    "# QUA script\n",
    "reps = 500000\n",
    "with program() as cw:\n",
    "    \n",
    "    # Declares QUA variables\n",
    "    n = declare(int)\n",
    "    \n",
    "    freq = declare(int)\n",
    "    freq_list = declare(int, value = [int(-10e6), int(-50e6), int(-70e6)])\n",
    "    \n",
    "    with for_each_(freq, freq_list):\n",
    "        update_frequency(\"rr\", freq)\n",
    "        with for_(n, 0, n < reps, n + 1):\n",
    "            play(\"CW\", \"rr\", duration = 500)\n",
    "            wait(2000)\n"
   ]
  },
  {
   "cell_type": "code",
   "execution_count": 9,
   "id": "af601d43",
   "metadata": {
    "scrolled": true
   },
   "outputs": [
    {
     "name": "stdout",
     "output_type": "stream",
     "text": [
      "2021-04-23 17:53:58,215 - qm - INFO - Flags: \n",
      "2021-04-23 17:53:58,216 - qm - INFO - Executing high level program\n"
     ]
    }
   ],
   "source": [
    "# Execute script\n",
    "job = qm.execute(cw)\n",
    "# job.halt()"
   ]
  },
  {
   "cell_type": "markdown",
   "id": "9220294b",
   "metadata": {},
   "source": [
    "#### for_each_() loop over multiple arrays\n"
   ]
  },
  {
   "cell_type": "code",
   "execution_count": 16,
   "id": "e4d2798e",
   "metadata": {},
   "outputs": [],
   "source": [
    "# QUA script\n",
    "reps = 500000\n",
    "freq_q_list_py = [int(-10e6), int(-50e6), int(-70e6)]\n",
    "freq_rr_list_py = [int(-10e6), int(-50e6), int(-70e6)]\n",
    "with program() as cw:\n",
    "    \n",
    "    # Declares QUA variables\n",
    "    n = declare(int)\n",
    "    \n",
    "    freq_q = declare(int)\n",
    "    freq_rr = declare(int)\n",
    "    freq_q_list = declare(int, value = freq_q_list_py)\n",
    "    freq_rr_list = declare(int, value = freq_rr_list_py)\n",
    "    \n",
    "    with for_each_((freq_q, freq_rr), (freq_q_list, freq_rr_list)):\n",
    "        update_frequency(\"rr\", freq_rr)\n",
    "        update_frequency(\"qubit\", freq_q)\n",
    "        with for_(n, 0, n < reps, n + 1):\n",
    "            play(\"CW\", \"rr\", duration = 500)\n",
    "            align(\"rr\", \"qubit\")\n",
    "            play(\"CW\", \"qubit\", duration = 100)\n",
    "            wait(2000)\n"
   ]
  },
  {
   "cell_type": "code",
   "execution_count": 18,
   "id": "bedd0533",
   "metadata": {
    "scrolled": false
   },
   "outputs": [
    {
     "name": "stdout",
     "output_type": "stream",
     "text": [
      "2021-04-23 17:58:36,729 - qm - INFO - Flags: \n",
      "2021-04-23 17:58:36,730 - qm - INFO - Executing high level program\n"
     ]
    }
   ],
   "source": [
    "# Execute script\n",
    "job = qm.execute(cw)\n",
    "# job.halt()"
   ]
  },
  {
   "cell_type": "markdown",
   "id": "bcaf81b2",
   "metadata": {},
   "source": [
    "#### Going crazy with nested loops\n",
    "Make sure that the types of python and QUA variables and arrays all match. Sometimes this bugs the script without raising a meaningful error message. Frequencies, durations and wait times are all integers."
   ]
  },
  {
   "cell_type": "code",
   "execution_count": 29,
   "id": "75965335",
   "metadata": {},
   "outputs": [],
   "source": [
    "# QUA script\n",
    "reps = 50000\n",
    "rr_f_vec_py = [int(x) for x in np.linspace(1e6, 50e6, 51)]\n",
    "\n",
    "# All vectors used in the same for_each_ loop must have the same length. \n",
    "# Use np.mesh to create these if needed.\n",
    "rr_a_vec_py = [0.1, 0.1, 0.5, 0.5]\n",
    "qu_a_vec_py = [0.2, 0.3, 0.2, 0.3]\n",
    "wt_vec_py = [20000, 20000, 20000, 20000]\n",
    "\n",
    "with program() as cw:\n",
    "    \n",
    "    # Declares QUA variables\n",
    "    n = declare(int)\n",
    "    rr_f = declare(int)\n",
    "    rr_a = declare(fixed)\n",
    "    qu_a = declare(fixed)\n",
    "    wt = declare(int)\n",
    "\n",
    "    # Arrays for sweeping\n",
    "    rr_f_vec = declare(int, value = rr_f_vec_py)\n",
    "    rr_a_vec = declare(fixed, value = rr_a_vec_py)\n",
    "    qu_a_vec = declare(fixed, value = qu_a_vec_py)\n",
    "    wt_vec = declare(int, value = wt_vec_py)\n",
    "    \n",
    "    with for_(n, 0, n < reps, n + 1):\n",
    "        with for_each_((wt, rr_a, qu_a), (wt_vec, rr_a_vec, qu_a_vec)):\n",
    "            with for_each_(rr_f, rr_f_vec):\n",
    "                update_frequency(\"rr\", rr_f)\n",
    "                play('saturation' * amp(qu_a), 'qubit')\n",
    "                align('qubit', 'rr')\n",
    "                play('CW' * amp(rr_a), 'rr', duration = 500)\n",
    "                wait(wt, \"rr\")"
   ]
  },
  {
   "cell_type": "code",
   "execution_count": 32,
   "id": "e3eff5cf",
   "metadata": {
    "scrolled": true
   },
   "outputs": [
    {
     "name": "stdout",
     "output_type": "stream",
     "text": [
      "2021-04-25 16:01:38,126 - qm - INFO - Flags: \n",
      "2021-04-25 16:01:38,126 - qm - INFO - Executing high level program\n"
     ]
    },
    {
     "data": {
      "text/plain": [
       "True"
      ]
     },
     "execution_count": 32,
     "metadata": {},
     "output_type": "execute_result"
    }
   ],
   "source": [
    "# Execute script\n",
    "job = qm.execute(cw)\n",
    "job.halt()"
   ]
  },
  {
   "cell_type": "markdown",
   "id": "51f04840",
   "metadata": {},
   "source": [
    "## Stream processing and data structure"
   ]
  },
  {
   "cell_type": "markdown",
   "id": "ad24ead2",
   "metadata": {},
   "source": [
    "#### Saving raw adc data\n",
    "In this example, we will run a single 1000ns-long measurement. After time_of_flight, the OPX will register one voltage value per nanosecond for 1000ns. As we are saving all values with timestamps, the result will be an array of 1000 tuples containing the voltage reading and a timestamp.\n",
    "\n",
    "The raw data is printed below. Notice that the data aquisition lasts as long as the measurement pulse, and that the time is in nanoseconds, not clock cycles. Also, it is very noisy due to low averaging."
   ]
  },
  {
   "cell_type": "code",
   "execution_count": 73,
   "id": "1923dca8",
   "metadata": {},
   "outputs": [
    {
     "name": "stderr",
     "output_type": "stream",
     "text": [
      "<ipython-input-73-f484036dbe86>:5: QMDeprecationWarning: _ResultSource.with_timestamps is deprecated since 0.8: use timestamps() instead to create a stream of timestamps\n",
      "  my_stream1.input1().with_timestamps().save('adc_results')\n"
     ]
    }
   ],
   "source": [
    "with program() as raw_adc:\n",
    "    my_stream1 = declare_stream(adc_trace=True)\n",
    "    measure('long_readout', 'rr', my_stream1)\n",
    "    with stream_processing():\n",
    "        my_stream1.input1().with_timestamps().save('adc_results')\n",
    "        #my_stream1.input1().save('adc_results') # Saving without timestamps"
   ]
  },
  {
   "cell_type": "code",
   "execution_count": 74,
   "id": "48222564",
   "metadata": {
    "scrolled": true
   },
   "outputs": [
    {
     "name": "stdout",
     "output_type": "stream",
     "text": [
      "2021-04-25 18:47:03,287 - qm - INFO - Flags: \n",
      "2021-04-25 18:47:03,288 - qm - INFO - Executing high level program\n"
     ]
    }
   ],
   "source": [
    "# Execute script\n",
    "job = qm.execute(raw_adc)\n",
    "# job.halt()"
   ]
  },
  {
   "cell_type": "code",
   "execution_count": 75,
   "id": "ce4460e8",
   "metadata": {
    "scrolled": true
   },
   "outputs": [
    {
     "name": "stdout",
     "output_type": "stream",
     "text": [
      "shape =  (1000,)\n",
      "\n",
      "(value, timestamp) = \n",
      " [(-65, 1028) (-59, 1029) (-62, 1030) (-66, 1031) (-64, 1032) (-64, 1033)\n",
      " (-63, 1034) (-64, 1035) (-65, 1036) (-68, 1037) (-64, 1038) (-68, 1039)\n",
      " (-66, 1040) (-65, 1041) (-65, 1042) (-64, 1043) (-66, 1044) (-62, 1045)\n",
      " (-59, 1046) (-57, 1047) (-59, 1048) (-65, 1049) (-62, 1050) (-59, 1051)\n",
      " (-62, 1052) (-61, 1053) (-59, 1054) (-59, 1055) (-59, 1056) (-59, 1057)\n",
      " (-56, 1058) (-56, 1059) (-59, 1060) (-60, 1061) (-58, 1062) (-61, 1063)\n",
      " (-61, 1064) (-60, 1065) (-64, 1066) (-64, 1067) (-59, 1068) (-60, 1069)\n",
      " (-57, 1070) (-59, 1071) (-58, 1072) (-60, 1073) (-62, 1074) (-61, 1075)\n",
      " (-61, 1076) (-61, 1077) (-58, 1078) (-56, 1079) (-59, 1080) (-61, 1081)\n",
      " (-64, 1082) (-53, 1083) (-54, 1084) (-57, 1085) (-58, 1086) (-63, 1087)\n",
      " (-61, 1088) (-59, 1089) (-56, 1090) (-56, 1091) (-58, 1092) (-61, 1093)\n",
      " (-58, 1094) (-58, 1095) (-63, 1096) (-60, 1097) (-58, 1098) (-57, 1099)\n",
      " (-57, 1100) (-58, 1101) (-60, 1102) (-56, 1103) (-52, 1104) (-56, 1105)\n",
      " (-56, 1106) (-57, 1107) (-57, 1108) (-57, 1109) (-56, 1110) (-58, 1111)\n",
      " (-60, 1112) (-57, 1113) (-54, 1114) (-56, 1115) (-54, 1116) (-52, 1117)\n",
      " (-55, 1118) (-54, 1119) (-57, 1120) (-58, 1121) (-56, 1122) (-58, 1123)\n",
      " (-59, 1124) (-57, 1125) (-57, 1126) (-57, 1127) (-57, 1128) (-54, 1129)\n",
      " (-54, 1130) (-57, 1131) (-54, 1132) (-57, 1133) (-54, 1134) (-54, 1135)\n",
      " (-56, 1136) (-53, 1137) (-54, 1138) (-59, 1139) (-58, 1140) (-57, 1141)\n",
      " (-57, 1142) (-56, 1143) (-53, 1144) (-54, 1145) (-58, 1146) (-55, 1147)\n",
      " (-57, 1148) (-58, 1149) (-53, 1150) (-51, 1151) (-53, 1152) (-54, 1153)\n",
      " (-56, 1154) (-56, 1155) (-56, 1156) (-54, 1157) (-59, 1158) (-59, 1159)\n",
      " (-54, 1160) (-56, 1161) (-52, 1162) (-57, 1163) (-58, 1164) (-57, 1165)\n",
      " (-58, 1166) (-59, 1167) (-59, 1168) (-55, 1169) (-54, 1170) (-59, 1171)\n",
      " (-62, 1172) (-62, 1173) (-61, 1174) (-59, 1175) (-61, 1176) (-59, 1177)\n",
      " (-62, 1178) (-60, 1179) (-56, 1180) (-58, 1181) (-61, 1182) (-56, 1183)\n",
      " (-57, 1184) (-60, 1185) (-56, 1186) (-61, 1187) (-59, 1188) (-59, 1189)\n",
      " (-54, 1190) (-55, 1191) (-55, 1192) (-60, 1193) (-60, 1194) (-60, 1195)\n",
      " (-59, 1196) (-59, 1197) (-54, 1198) (-57, 1199) (-63, 1200) (-61, 1201)\n",
      " (-57, 1202) (-61, 1203) (-62, 1204) (-62, 1205) (-60, 1206) (-60, 1207)\n",
      " (-64, 1208) (-58, 1209) (-58, 1210) (-57, 1211) (-56, 1212) (-58, 1213)\n",
      " (-57, 1214) (-54, 1215) (-55, 1216) (-55, 1217) (-55, 1218) (-57, 1219)\n",
      " (-60, 1220) (-60, 1221) (-59, 1222) (-57, 1223) (-56, 1224) (-57, 1225)\n",
      " (-60, 1226) (-57, 1227) (-58, 1228) (-62, 1229) (-57, 1230) (-54, 1231)\n",
      " (-58, 1232) (-60, 1233) (-56, 1234) (-62, 1235) (-58, 1236) (-58, 1237)\n",
      " (-59, 1238) (-61, 1239) (-54, 1240) (-57, 1241) (-62, 1242) (-57, 1243)\n",
      " (-58, 1244) (-59, 1245) (-60, 1246) (-58, 1247) (-60, 1248) (-59, 1249)\n",
      " (-57, 1250) (-61, 1251) (-60, 1252) (-58, 1253) (-60, 1254) (-60, 1255)\n",
      " (-54, 1256) (-60, 1257) (-60, 1258) (-61, 1259) (-63, 1260) (-65, 1261)\n",
      " (-60, 1262) (-56, 1263) (-57, 1264) (-57, 1265) (-55, 1266) (-63, 1267)\n",
      " (-63, 1268) (-57, 1269) (-60, 1270) (-57, 1271) (-57, 1272) (-59, 1273)\n",
      " (-59, 1274) (-59, 1275) (-59, 1276) (-63, 1277) (-63, 1278) (-61, 1279)\n",
      " (-61, 1280) (-62, 1281) (-61, 1282) (-60, 1283) (-63, 1284) (-67, 1285)\n",
      " (-58, 1286) (-55, 1287) (-62, 1288) (-60, 1289) (-58, 1290) (-59, 1291)\n",
      " (-57, 1292) (-62, 1293) (-60, 1294) (-56, 1295) (-60, 1296) (-59, 1297)\n",
      " (-58, 1298) (-61, 1299) (-63, 1300) (-65, 1301) (-57, 1302) (-56, 1303)\n",
      " (-58, 1304) (-57, 1305) (-62, 1306) (-62, 1307) (-62, 1308) (-56, 1309)\n",
      " (-62, 1310) (-60, 1311) (-60, 1312) (-58, 1313) (-57, 1314) (-57, 1315)\n",
      " (-57, 1316) (-58, 1317) (-62, 1318) (-56, 1319) (-60, 1320) (-62, 1321)\n",
      " (-61, 1322) (-61, 1323) (-59, 1324) (-55, 1325) (-56, 1326) (-60, 1327)\n",
      " (-58, 1328) (-57, 1329) (-57, 1330) (-60, 1331) (-61, 1332) (-54, 1333)\n",
      " (-59, 1334) (-61, 1335) (-59, 1336) (-58, 1337) (-64, 1338) (-61, 1339)\n",
      " (-57, 1340) (-60, 1341) (-59, 1342) (-60, 1343) (-58, 1344) (-59, 1345)\n",
      " (-56, 1346) (-56, 1347) (-59, 1348) (-64, 1349) (-64, 1350) (-62, 1351)\n",
      " (-63, 1352) (-63, 1353) (-63, 1354) (-61, 1355) (-63, 1356) (-64, 1357)\n",
      " (-61, 1358) (-61, 1359) (-58, 1360) (-56, 1361) (-62, 1362) (-61, 1363)\n",
      " (-59, 1364) (-62, 1365) (-58, 1366) (-63, 1367) (-59, 1368) (-58, 1369)\n",
      " (-61, 1370) (-64, 1371) (-61, 1372) (-60, 1373) (-59, 1374) (-59, 1375)\n",
      " (-62, 1376) (-64, 1377) (-60, 1378) (-61, 1379) (-63, 1380) (-62, 1381)\n",
      " (-63, 1382) (-65, 1383) (-60, 1384) (-61, 1385) (-59, 1386) (-62, 1387)\n",
      " (-64, 1388) (-61, 1389) (-63, 1390) (-60, 1391) (-64, 1392) (-60, 1393)\n",
      " (-61, 1394) (-61, 1395) (-58, 1396) (-59, 1397) (-59, 1398) (-62, 1399)\n",
      " (-63, 1400) (-62, 1401) (-60, 1402) (-59, 1403) (-56, 1404) (-62, 1405)\n",
      " (-62, 1406) (-58, 1407) (-60, 1408) (-60, 1409) (-64, 1410) (-63, 1411)\n",
      " (-58, 1412) (-57, 1413) (-60, 1414) (-60, 1415) (-60, 1416) (-61, 1417)\n",
      " (-63, 1418) (-63, 1419) (-62, 1420) (-62, 1421) (-61, 1422) (-65, 1423)\n",
      " (-63, 1424) (-65, 1425) (-61, 1426) (-65, 1427) (-61, 1428) (-62, 1429)\n",
      " (-60, 1430) (-62, 1431) (-62, 1432) (-58, 1433) (-59, 1434) (-66, 1435)\n",
      " (-64, 1436) (-59, 1437) (-58, 1438) (-61, 1439) (-64, 1440) (-61, 1441)\n",
      " (-57, 1442) (-59, 1443) (-62, 1444) (-57, 1445) (-61, 1446) (-60, 1447)\n",
      " (-62, 1448) (-62, 1449) (-57, 1450) (-61, 1451) (-60, 1452) (-63, 1453)\n",
      " (-61, 1454) (-61, 1455) (-61, 1456) (-61, 1457) (-60, 1458) (-65, 1459)\n",
      " (-66, 1460) (-60, 1461) (-59, 1462) (-61, 1463) (-61, 1464) (-57, 1465)\n",
      " (-59, 1466) (-58, 1467) (-57, 1468) (-57, 1469) (-60, 1470) (-65, 1471)\n",
      " (-65, 1472) (-61, 1473) (-61, 1474) (-65, 1475) (-64, 1476) (-60, 1477)\n",
      " (-59, 1478) (-57, 1479) (-60, 1480) (-59, 1481) (-59, 1482) (-61, 1483)\n",
      " (-62, 1484) (-64, 1485) (-62, 1486) (-59, 1487) (-61, 1488) (-61, 1489)\n",
      " (-61, 1490) (-61, 1491) (-61, 1492) (-58, 1493) (-61, 1494) (-61, 1495)\n",
      " (-61, 1496) (-59, 1497) (-61, 1498) (-60, 1499) (-61, 1500) (-61, 1501)\n",
      " (-59, 1502) (-58, 1503) (-60, 1504) (-56, 1505) (-57, 1506) (-57, 1507)\n",
      " (-57, 1508) (-61, 1509) (-60, 1510) (-58, 1511) (-64, 1512) (-64, 1513)\n",
      " (-61, 1514) (-58, 1515) (-61, 1516) (-58, 1517) (-58, 1518) (-59, 1519)\n",
      " (-60, 1520) (-62, 1521) (-56, 1522) (-57, 1523) (-59, 1524) (-59, 1525)\n",
      " (-61, 1526) (-58, 1527) (-59, 1528) (-54, 1529) (-61, 1530) (-57, 1531)\n",
      " (-60, 1532) (-59, 1533) (-60, 1534) (-59, 1535) (-61, 1536) (-60, 1537)\n",
      " (-57, 1538) (-58, 1539) (-61, 1540) (-59, 1541) (-57, 1542) (-61, 1543)\n",
      " (-59, 1544) (-60, 1545) (-59, 1546) (-60, 1547) (-61, 1548) (-56, 1549)\n",
      " (-60, 1550) (-64, 1551) (-58, 1552) (-57, 1553) (-56, 1554) (-58, 1555)\n",
      " (-60, 1556) (-60, 1557) (-58, 1558) (-54, 1559) (-60, 1560) (-56, 1561)\n",
      " (-56, 1562) (-63, 1563) (-58, 1564) (-56, 1565) (-59, 1566) (-56, 1567)\n",
      " (-56, 1568) (-56, 1569) (-58, 1570) (-61, 1571) (-61, 1572) (-58, 1573)\n",
      " (-54, 1574) (-60, 1575) (-59, 1576) (-54, 1577) (-57, 1578) (-56, 1579)\n",
      " (-57, 1580) (-60, 1581) (-57, 1582) (-57, 1583) (-59, 1584) (-63, 1585)\n",
      " (-61, 1586) (-58, 1587) (-56, 1588) (-60, 1589) (-57, 1590) (-57, 1591)\n",
      " (-58, 1592) (-57, 1593) (-59, 1594) (-54, 1595) (-54, 1596) (-57, 1597)\n",
      " (-57, 1598) (-56, 1599) (-57, 1600) (-56, 1601) (-57, 1602) (-58, 1603)\n",
      " (-58, 1604) (-57, 1605) (-59, 1606) (-62, 1607) (-61, 1608) (-60, 1609)\n",
      " (-58, 1610) (-61, 1611) (-60, 1612) (-54, 1613) (-57, 1614) (-56, 1615)\n",
      " (-59, 1616) (-58, 1617) (-59, 1618) (-58, 1619) (-57, 1620) (-60, 1621)\n",
      " (-58, 1622) (-57, 1623) (-56, 1624) (-57, 1625) (-62, 1626) (-57, 1627)\n",
      " (-59, 1628) (-55, 1629) (-60, 1630) (-59, 1631) (-59, 1632) (-60, 1633)\n",
      " (-60, 1634) (-59, 1635) (-60, 1636) (-59, 1637) (-59, 1638) (-60, 1639)\n",
      " (-62, 1640) (-56, 1641) (-61, 1642) (-61, 1643) (-60, 1644) (-61, 1645)\n",
      " (-64, 1646) (-62, 1647) (-64, 1648) (-60, 1649) (-62, 1650) (-64, 1651)\n",
      " (-58, 1652) (-60, 1653) (-61, 1654) (-61, 1655) (-61, 1656) (-62, 1657)\n",
      " (-62, 1658) (-58, 1659) (-58, 1660) (-59, 1661) (-61, 1662) (-60, 1663)\n",
      " (-59, 1664) (-64, 1665) (-64, 1666) (-61, 1667) (-62, 1668) (-59, 1669)\n",
      " (-60, 1670) (-63, 1671) (-62, 1672) (-59, 1673) (-59, 1674) (-62, 1675)\n",
      " (-61, 1676) (-62, 1677) (-63, 1678) (-62, 1679) (-56, 1680) (-63, 1681)\n",
      " (-61, 1682) (-62, 1683) (-61, 1684) (-59, 1685) (-62, 1686) (-64, 1687)\n",
      " (-60, 1688) (-61, 1689) (-64, 1690) (-63, 1691) (-61, 1692) (-61, 1693)\n",
      " (-59, 1694) (-56, 1695) (-62, 1696) (-61, 1697) (-60, 1698) (-62, 1699)\n",
      " (-64, 1700) (-61, 1701) (-59, 1702) (-64, 1703) (-65, 1704) (-63, 1705)\n",
      " (-66, 1706) (-62, 1707) (-64, 1708) (-62, 1709) (-62, 1710) (-65, 1711)\n",
      " (-60, 1712) (-61, 1713) (-66, 1714) (-68, 1715) (-66, 1716) (-65, 1717)\n",
      " (-61, 1718) (-64, 1719) (-63, 1720) (-64, 1721) (-61, 1722) (-65, 1723)\n",
      " (-62, 1724) (-61, 1725) (-59, 1726) (-60, 1727) (-63, 1728) (-63, 1729)\n",
      " (-63, 1730) (-62, 1731) (-62, 1732) (-64, 1733) (-62, 1734) (-64, 1735)\n",
      " (-58, 1736) (-62, 1737) (-64, 1738) (-65, 1739) (-68, 1740) (-65, 1741)\n",
      " (-65, 1742) (-60, 1743) (-59, 1744) (-60, 1745) (-62, 1746) (-59, 1747)\n",
      " (-60, 1748) (-67, 1749) (-65, 1750) (-59, 1751) (-61, 1752) (-62, 1753)\n",
      " (-64, 1754) (-63, 1755) (-61, 1756) (-62, 1757) (-66, 1758) (-61, 1759)\n",
      " (-65, 1760) (-64, 1761) (-61, 1762) (-66, 1763) (-66, 1764) (-59, 1765)\n",
      " (-61, 1766) (-63, 1767) (-63, 1768) (-66, 1769) (-66, 1770) (-63, 1771)\n",
      " (-62, 1772) (-65, 1773) (-64, 1774) (-61, 1775) (-59, 1776) (-61, 1777)\n",
      " (-65, 1778) (-65, 1779) (-61, 1780) (-62, 1781) (-60, 1782) (-62, 1783)\n",
      " (-65, 1784) (-64, 1785) (-62, 1786) (-63, 1787) (-65, 1788) (-60, 1789)\n",
      " (-62, 1790) (-61, 1791) (-61, 1792) (-64, 1793) (-58, 1794) (-64, 1795)\n",
      " (-64, 1796) (-60, 1797) (-60, 1798) (-59, 1799) (-61, 1800) (-62, 1801)\n",
      " (-61, 1802) (-60, 1803) (-64, 1804) (-64, 1805) (-60, 1806) (-61, 1807)\n",
      " (-61, 1808) (-59, 1809) (-56, 1810) (-60, 1811) (-63, 1812) (-64, 1813)\n",
      " (-61, 1814) (-60, 1815) (-60, 1816) (-62, 1817) (-61, 1818) (-64, 1819)\n",
      " (-61, 1820) (-59, 1821) (-61, 1822) (-61, 1823) (-61, 1824) (-57, 1825)\n",
      " (-61, 1826) (-63, 1827) (-59, 1828) (-60, 1829) (-57, 1830) (-60, 1831)\n",
      " (-60, 1832) (-60, 1833) (-60, 1834) (-64, 1835) (-63, 1836) (-63, 1837)\n",
      " (-65, 1838) (-59, 1839) (-61, 1840) (-57, 1841) (-61, 1842) (-65, 1843)\n",
      " (-60, 1844) (-61, 1845) (-59, 1846) (-64, 1847) (-59, 1848) (-60, 1849)\n",
      " (-61, 1850) (-62, 1851) (-59, 1852) (-64, 1853) (-64, 1854) (-60, 1855)\n",
      " (-60, 1856) (-59, 1857) (-61, 1858) (-61, 1859) (-61, 1860) (-62, 1861)\n",
      " (-58, 1862) (-54, 1863) (-61, 1864) (-57, 1865) (-57, 1866) (-58, 1867)\n",
      " (-60, 1868) (-62, 1869) (-61, 1870) (-61, 1871) (-58, 1872) (-59, 1873)\n",
      " (-62, 1874) (-61, 1875) (-61, 1876) (-61, 1877) (-60, 1878) (-56, 1879)\n",
      " (-58, 1880) (-56, 1881) (-61, 1882) (-61, 1883) (-55, 1884) (-63, 1885)\n",
      " (-62, 1886) (-54, 1887) (-58, 1888) (-62, 1889) (-58, 1890) (-59, 1891)\n",
      " (-61, 1892) (-57, 1893) (-57, 1894) (-59, 1895) (-57, 1896) (-57, 1897)\n",
      " (-61, 1898) (-57, 1899) (-57, 1900) (-59, 1901) (-57, 1902) (-58, 1903)\n",
      " (-57, 1904) (-61, 1905) (-59, 1906) (-57, 1907) (-56, 1908) (-60, 1909)\n",
      " (-59, 1910) (-57, 1911) (-59, 1912) (-58, 1913) (-59, 1914) (-60, 1915)\n",
      " (-58, 1916) (-58, 1917) (-59, 1918) (-58, 1919) (-57, 1920) (-61, 1921)\n",
      " (-57, 1922) (-57, 1923) (-56, 1924) (-54, 1925) (-52, 1926) (-57, 1927)\n",
      " (-58, 1928) (-59, 1929) (-59, 1930) (-53, 1931) (-53, 1932) (-58, 1933)\n",
      " (-56, 1934) (-53, 1935) (-59, 1936) (-58, 1937) (-56, 1938) (-58, 1939)\n",
      " (-64, 1940) (-54, 1941) (-56, 1942) (-57, 1943) (-54, 1944) (-57, 1945)\n",
      " (-56, 1946) (-59, 1947) (-59, 1948) (-59, 1949) (-54, 1950) (-51, 1951)\n",
      " (-55, 1952) (-56, 1953) (-54, 1954) (-56, 1955) (-56, 1956) (-57, 1957)\n",
      " (-56, 1958) (-54, 1959) (-59, 1960) (-57, 1961) (-57, 1962) (-58, 1963)\n",
      " (-57, 1964) (-57, 1965) (-56, 1966) (-56, 1967) (-54, 1968) (-56, 1969)\n",
      " (-54, 1970) (-52, 1971) (-54, 1972) (-56, 1973) (-51, 1974) (-57, 1975)\n",
      " (-57, 1976) (-52, 1977) (-56, 1978) (-56, 1979) (-54, 1980) (-56, 1981)\n",
      " (-57, 1982) (-53, 1983) (-56, 1984) (-58, 1985) (-53, 1986) (-60, 1987)\n",
      " (-55, 1988) (-59, 1989) (-56, 1990) (-57, 1991) (-53, 1992) (-56, 1993)\n",
      " (-59, 1994) (-54, 1995) (-57, 1996) (-56, 1997) (-56, 1998) (-54, 1999)\n",
      " (-57, 2000) (-56, 2001) (-57, 2002) (-59, 2003) (-57, 2004) (-57, 2005)\n",
      " (-58, 2006) (-54, 2007) (-58, 2008) (-59, 2009) (-59, 2010) (-57, 2011)\n",
      " (-56, 2012) (-56, 2013) (-54, 2014) (-58, 2015) (-57, 2016) (-60, 2017)\n",
      " (-56, 2018) (-56, 2019) (-57, 2020) (-58, 2021) (-54, 2022) (-54, 2023)\n",
      " (-57, 2024) (-57, 2025) (-57, 2026) (-55, 2027)]\n"
     ]
    }
   ],
   "source": [
    "# print results saved in adc_results\n",
    "results = job.result_handles.get('adc_results').fetch_all()\n",
    "print('shape = ', results.shape)\n",
    "print('\\n(value, timestamp) = \\n', results)"
   ]
  },
  {
   "cell_type": "code",
   "execution_count": 76,
   "id": "d6aed54e",
   "metadata": {
    "scrolled": true
   },
   "outputs": [
    {
     "data": {
      "text/plain": [
       "[<matplotlib.lines.Line2D at 0x20b73de27c0>]"
      ]
     },
     "execution_count": 76,
     "metadata": {},
     "output_type": "execute_result"
    },
    {
     "data": {
      "image/png": "[encoded data removed]",
      "text/plain": [
       "<Figure size 1008x360 with 1 Axes>"
      ]
     },
     "metadata": {
      "needs_background": "light"
     },
     "output_type": "display_data"
    }
   ],
   "source": [
    "# Division by 2**12 is necessary to convert ADC data to volts.\n",
    "plt.figure(figsize = (14,5))\n",
    "plt.plot([x[0]/2**12 for x in results])"
   ]
  },
  {
   "cell_type": "markdown",
   "id": "24d06db9",
   "metadata": {},
   "source": [
    "#### Averaging\n",
    "Let us repeat this experiment 30k times. \n",
    "\n",
    "The .average() command was added to stream processing, and it automatically divides the data into chunks of 1000ns and average them (no buffering is needed).\n",
    "\n",
    "For averaging raw data, it is also necessary to use reset_phase() so that the pulses can sum up coherently.\n",
    "\n",
    "A wait command of 20k clock cycles is included between every repetition so the cavity has enough time to relax to its initial condition.\n",
    "\n",
    "FFT of the data is saved using the .fft() command.\n",
    "\n",
    "Not adding .average() will result in only one repetition being output to the results (probably because .save() only saves the latest result. Maybe using save_all would allow accessing all runs individually).\n",
    "\n",
    "Not sure if this can be done with timestamps."
   ]
  },
  {
   "cell_type": "code",
   "execution_count": 69,
   "id": "8bf5441e",
   "metadata": {},
   "outputs": [],
   "source": [
    "reps = 100000\n",
    "with program() as raw_adc_avg:\n",
    "    my_stream1 = declare_stream(adc_trace=True)\n",
    "    n = declare(int)\n",
    "    \n",
    "    with for_(n, 0, n < reps, n + 1):\n",
    "        reset_phase(\"rr\")\n",
    "        measure('long_readout'*amp(1.), 'rr', my_stream1)\n",
    "        wait(20000, \"rr\")\n",
    "        \n",
    "    with stream_processing():\n",
    "        my_stream1.input1().average().save('adc_results')\n",
    "        my_stream1.input1().average().fft().save('adc_fft')"
   ]
  },
  {
   "cell_type": "code",
   "execution_count": 70,
   "id": "31addffc",
   "metadata": {
    "scrolled": true
   },
   "outputs": [
    {
     "name": "stdout",
     "output_type": "stream",
     "text": [
      "2021-04-25 17:17:33,373 - qm - INFO - Flags: \n",
      "2021-04-25 17:17:33,373 - qm - INFO - Executing high level program\n"
     ]
    }
   ],
   "source": [
    "# Execute script\n",
    "job = qm.execute(raw_adc_avg)\n",
    "#job.halt()"
   ]
  },
  {
   "cell_type": "code",
   "execution_count": 71,
   "id": "a5ee1815",
   "metadata": {
    "scrolled": true
   },
   "outputs": [
    {
     "name": "stdout",
     "output_type": "stream",
     "text": [
      "shape =  (1000,)\n",
      "\n",
      "(value, timestamp) = \n",
      " [-60.12881356 -60.25875706 -60.3220339  -60.18757062 -60.18079096\n",
      " -60.0960452  -60.2440678  -60.09265537 -59.94689266 -59.94915254\n",
      " -60.03163842 -59.93446328 -60.01016949 -60.10847458 -60.04632768\n",
      " -60.04519774 -60.03163842 -60.05875706 -60.19322034 -60.19435028\n",
      " -59.97062147 -60.05875706 -60.0960452  -60.21016949 -60.06440678\n",
      " -60.18644068 -60.16836158 -60.10508475 -60.14011299 -60.13785311\n",
      " -60.09378531 -60.18079096 -60.21129944 -60.00903955 -60.0519774\n",
      " -60.0779661  -60.09152542 -60.06214689 -60.19096045 -60.13446328\n",
      " -60.1740113  -60.19548023 -60.19887006 -60.15254237 -60.10960452\n",
      " -60.26892655 -60.12768362 -60.10169492 -60.16497175 -60.0259887\n",
      " -60.12429379 -60.22146893 -60.0519774  -59.91186441 -60.09943503\n",
      " -59.93559322 -59.88022599 -59.95367232 -59.97514124 -59.95141243\n",
      " -60.0259887  -60.05536723 -60.03389831 -59.96949153 -59.9819209\n",
      " -60.08135593 -59.90621469 -59.9920904  -60.1220339  -60.08135593\n",
      " -60.08926554 -60.09265537 -60.02033898 -59.9920904  -59.90847458\n",
      " -60.01355932 -59.9039548  -60.02372881 -60.06666667 -60.14689266\n",
      " -60.03389831 -59.88700565 -60.14011299 -60.22146893 -60.15254237\n",
      " -60.21355932 -60.08587571 -60.06892655 -59.9480226  -59.93333333\n",
      " -59.94915254 -59.98418079 -60.01694915 -60.05310734 -59.92090395\n",
      " -59.86440678 -59.91412429 -60.05762712 -60.08022599 -60.04858757\n",
      " -59.98983051 -60.08813559 -59.9740113  -60.03050847 -60.0700565\n",
      " -60.0180791  -60.1220339  -60.07457627 -60.05423729 -59.96158192\n",
      " -59.97175141 -59.95706215 -59.99548023 -60.06440678 -59.97514124\n",
      " -59.79096045 -59.94011299 -59.98079096 -59.84632768 -59.78870056\n",
      " -59.84180791 -60.01920904 -59.88135593 -60.01694915 -59.87344633\n",
      " -59.89943503 -59.89830508 -60.01242938 -59.91751412 -59.9740113\n",
      " -59.89717514 -59.86553672 -59.89265537 -59.90734463 -59.96158192\n",
      " -59.83276836 -59.82033898 -59.88248588 -59.73220339 -59.74237288\n",
      " -59.69265537 -59.83276836 -59.90169492 -60.00451977 -59.81242938\n",
      " -59.82033898 -59.90169492 -59.92090395 -59.91638418 -59.94350282\n",
      " -59.84519774 -59.94689266 -59.85762712 -59.80338983 -59.97627119\n",
      " -59.83389831 -59.79435028 -59.89152542 -59.93559322 -59.93672316\n",
      " -59.85649718 -59.90282486 -59.84858757 -59.9559322  -59.91299435\n",
      " -59.86327684 -59.85536723 -59.91525424 -59.95367232 -59.68135593\n",
      " -59.91186441 -59.8960452  -59.9480226  -59.92090395 -59.84632768\n",
      " -59.75819209 -59.81016949 -59.90169492 -59.84519774 -59.76610169\n",
      " -59.85762712 -59.78079096 -59.81920904 -59.87457627 -59.87570621\n",
      " -59.97062147 -59.93220339 -59.95706215 -59.96158192 -59.85310734\n",
      " -59.89039548 -59.88700565 -59.97627119 -59.82372881 -59.88135593\n",
      " -60.03728814 -60.00112994 -60.0180791  -59.98644068 -59.93107345\n",
      " -59.95819209 -59.96271186 -59.91977401 -59.83728814 -59.77062147\n",
      " -59.76271186 -59.77966102 -59.86779661 -59.83954802 -59.93559322\n",
      " -59.99096045 -59.85310734 -59.82485876 -60.0259887  -59.94463277\n",
      " -59.85875706 -59.93107345 -59.97853107 -60.0180791  -59.86779661\n",
      " -59.98644068 -59.92881356 -59.85423729 -59.91073446 -59.85423729\n",
      " -59.98418079 -59.98983051 -59.94011299 -59.99096045 -60.05084746\n",
      " -60.17514124 -60.         -59.93672316 -60.13785311 -59.98983051\n",
      " -60.10621469 -60.24745763 -60.04293785 -60.03954802 -60.0440678\n",
      " -60.01920904 -59.84745763 -59.96271186 -60.0180791  -59.92429379\n",
      " -59.91412429 -60.18757062 -60.05649718 -59.95028249 -60.04293785\n",
      " -59.9480226  -60.04745763 -59.94915254 -60.03389831 -60.12655367\n",
      " -60.05649718 -60.07909605 -60.04971751 -60.17966102 -60.18757062\n",
      " -60.05084746 -59.97627119 -60.12090395 -60.03728814 -59.93672316\n",
      " -60.0079096  -60.0440678  -60.03954802 -60.01694915 -60.17853107\n",
      " -60.17288136 -60.00225989 -60.06101695 -60.23276836 -60.13898305\n",
      " -60.06666667 -60.19322034 -60.2779661  -60.13672316 -60.11299435\n",
      " -60.0960452  -60.11977401 -60.15254237 -60.27231638 -60.18983051\n",
      " -60.08022599 -59.93672316 -60.06779661 -60.1039548  -60.00338983\n",
      " -60.09717514 -60.19548023 -60.15706215 -60.18418079 -60.20338983\n",
      " -60.05988701 -60.20338983 -60.26440678 -60.18079096 -60.19548023\n",
      " -60.34011299 -60.14463277 -60.18079096 -60.09265537 -60.09265537\n",
      " -60.13107345 -60.02711864 -60.10282486 -60.08926554 -60.15254237\n",
      " -60.19435028 -60.30734463 -60.17740113 -60.18983051 -60.22711864\n",
      " -60.16158192 -60.24632768 -60.17853107 -60.17740113 -60.35254237\n",
      " -60.1819209  -60.16949153 -60.28813559 -60.15819209 -60.06779661\n",
      " -59.95028249 -60.11638418 -60.07457627 -60.03389831 -60.03163842\n",
      " -60.06553672 -60.12768362 -60.07344633 -60.01129944 -60.12881356\n",
      " -60.15706215 -60.15141243 -60.05536723 -60.23841808 -60.18305085\n",
      " -60.14576271 -60.21920904 -60.22372881 -60.14463277 -60.22937853\n",
      " -60.18531073 -60.25762712 -60.14350282 -60.14237288 -60.22485876\n",
      " -60.14915254 -60.02146893 -60.14011299 -60.04858757 -60.22824859\n",
      " -60.23728814 -60.23728814 -60.33672316 -60.17288136 -60.20451977\n",
      " -60.16045198 -60.15367232 -60.04858757 -60.18757062 -60.32542373\n",
      " -60.11638418 -60.26553672 -60.23728814 -60.08361582 -60.04971751\n",
      " -60.02485876 -60.04745763 -60.06666667 -59.96045198 -60.03050847\n",
      " -59.99096045 -60.12090395 -60.09491525 -60.04971751 -60.12655367\n",
      " -60.3220339  -60.29039548 -60.18418079 -60.26440678 -60.20112994\n",
      " -60.10621469 -60.21016949 -60.21581921 -60.16384181 -60.13333333\n",
      " -60.1480226  -60.08926554 -60.17853107 -60.10282486 -60.1220339\n",
      " -60.1480226  -60.25536723 -60.13107345 -60.12768362 -60.06101695\n",
      " -60.10960452 -60.18757062 -60.25988701 -60.28700565 -60.27231638\n",
      " -60.26327684 -60.0519774  -60.13333333 -60.19774011 -60.21581921\n",
      " -60.19887006 -60.1559322  -59.87231638 -60.04745763 -59.9740113\n",
      " -60.12090395 -60.03841808 -59.96836158 -60.08248588 -60.06327684\n",
      " -60.18305085 -60.18079096 -60.08813559 -60.11073446 -60.15480226\n",
      " -60.07344633 -60.06214689 -60.08135593 -60.15367232 -60.15480226\n",
      " -60.18079096 -60.0960452  -60.06214689 -60.1740113  -60.02824859\n",
      " -59.95932203 -60.11638418 -60.00338983 -60.0259887  -60.09378531\n",
      " -60.30056497 -60.22485876 -60.24858757 -60.21581921 -60.26892655\n",
      " -60.24971751 -60.18644068 -60.1740113  -60.18305085 -60.06440678\n",
      " -60.05762712 -60.21920904 -60.05875706 -60.11864407 -60.1740113\n",
      " -60.01468927 -59.87231638 -60.08022599 -60.12655367 -60.21129944\n",
      " -60.11977401 -59.97514124 -60.08248588 -60.16723164 -60.22824859\n",
      " -60.23954802 -60.01694915 -60.17740113 -60.36610169 -60.3559322\n",
      " -60.23954802 -60.2700565  -60.19661017 -60.28361582 -60.14576271\n",
      " -60.30056497 -60.26440678 -60.21468927 -60.28474576 -60.16723164\n",
      " -60.19548023 -60.13446328 -60.09830508 -60.2779661  -60.33446328\n",
      " -60.20677966 -60.22259887 -60.30960452 -60.21242938 -60.18870056\n",
      " -60.25084746 -60.25988701 -60.15819209 -60.06892655 -59.98418079\n",
      " -60.07231638 -60.2180791  -59.94576271 -60.2        -60.12881356\n",
      " -60.1220339  -60.14124294 -60.11977401 -60.19774011 -60.27909605\n",
      " -60.15367232 -60.08587571 -60.16836158 -60.17853107 -60.08474576\n",
      " -60.10282486 -60.13446328 -60.09039548 -60.09830508 -60.22033898\n",
      " -60.18079096 -60.21129944 -60.05649718 -59.95819209 -60.06892655\n",
      " -60.07909605 -60.00451977 -60.14689266 -60.15141243 -60.19774011\n",
      " -60.34124294 -60.26214689 -60.20338983 -60.26892655 -60.21355932\n",
      " -60.2779661  -60.31751412 -60.07344633 -60.00338983 -60.07344633\n",
      " -59.91412429 -60.12090395 -60.16384181 -59.93446328 -59.88361582\n",
      " -60.04067797 -59.99548023 -60.09378531 -60.0519774  -60.04858757\n",
      " -60.06666667 -60.0259887  -60.         -60.00903955 -60.04293785\n",
      " -60.00677966 -60.07118644 -59.95141243 -60.02711864 -59.91864407\n",
      " -59.90847458 -59.93559322 -59.86892655 -59.95480226 -60.01581921\n",
      " -60.22711864 -60.25084746 -60.14576271 -60.02146893 -60.06214689\n",
      " -60.05310734 -59.93446328 -60.13446328 -60.12090395 -60.11186441\n",
      " -60.06440678 -60.05536723 -60.11412429 -60.07231638 -59.99548023\n",
      " -60.00677966 -60.15028249 -60.03728814 -59.97514124 -59.91751412\n",
      " -60.03841808 -60.00338983 -59.97966102 -59.92542373 -60.16610169\n",
      " -60.17627119 -60.01016949 -60.06553672 -60.01355932 -60.03163842\n",
      " -59.96158192 -59.89830508 -60.0259887  -59.84745763 -59.84180791\n",
      " -59.92429379 -60.01694915 -60.12542373 -60.0519774  -59.91864407\n",
      " -60.02146893 -60.20225989 -59.96723164 -59.95141243 -59.88135593\n",
      " -59.98644068 -60.01016949 -59.98418079 -60.09152542 -60.09943503\n",
      " -60.10056497 -59.87231638 -59.93220339 -59.95706215 -59.98418079\n",
      " -59.88361582 -59.94463277 -59.92316384 -59.97288136 -59.94576271\n",
      " -59.82485876 -59.85988701 -59.94463277 -59.8960452  -60.02485876\n",
      " -60.00225989 -59.99096045 -59.83841808 -59.91412429 -59.96158192\n",
      " -59.98531073 -59.88022599 -59.81129944 -60.03050847 -59.84067797\n",
      " -59.93107345 -59.98870056 -59.99774011 -59.98305085 -59.86666667\n",
      " -59.91525424 -59.97062147 -60.00338983 -59.97175141 -60.02259887\n",
      " -59.96836158 -59.89491525 -59.98418079 -59.8519774  -59.85536723\n",
      " -59.90621469 -60.01129944 -59.85310734 -59.89152542 -59.94237288\n",
      " -59.94576271 -60.00564972 -59.81468927 -59.91073446 -59.87344633\n",
      " -59.98305085 -59.92655367 -60.03050847 -59.80903955 -59.92881356\n",
      " -59.84858757 -59.87344633 -59.97740113 -59.94350282 -59.91977401\n",
      " -59.91186441 -59.88587571 -59.80338983 -59.89039548 -59.76723164\n",
      " -59.82259887 -59.87570621 -60.0079096  -59.91977401 -59.90508475\n",
      " -59.71977401 -59.93559322 -59.93446328 -59.93559322 -59.87118644\n",
      " -59.98305085 -59.88926554 -59.85988701 -60.02259887 -60.16723164\n",
      " -59.97740113 -59.83502825 -59.82824859 -59.80338983 -59.81355932\n",
      " -59.86214689 -59.85423729 -59.95367232 -59.97288136 -59.95480226\n",
      " -59.88474576 -59.9480226  -59.77966102 -59.84858757 -60.03163842\n",
      " -59.87570621 -59.82259887 -59.87118644 -59.96949153 -59.92881356\n",
      " -59.96384181 -59.90960452 -59.8440678  -59.81694915 -59.92429379\n",
      " -60.02937853 -59.91525424 -59.89378531 -59.86553672 -59.91751412\n",
      " -59.91412429 -60.02033898 -60.10847458 -60.01355932 -60.00225989\n",
      " -59.97627119 -59.85536723 -60.01355932 -59.95367232 -60.07118644\n",
      " -60.08022599 -59.90734463 -59.99435028 -60.03841808 -60.03163842\n",
      " -59.99322034 -60.0519774  -59.99322034 -59.9039548  -59.96836158\n",
      " -60.08474576 -59.98418079 -60.         -60.09265537 -60.0259887\n",
      " -59.95480226 -60.14237288 -60.07570621 -59.94689266 -60.04180791\n",
      " -60.11525424 -60.14463277 -59.88700565 -60.00564972 -60.0259887\n",
      " -60.05084746 -59.90508475 -59.8960452  -59.95254237 -59.97288136\n",
      " -60.08361582 -59.98757062 -59.98531073 -60.11412429 -60.08248588\n",
      " -60.19887006 -60.02259887 -60.03954802 -60.09830508 -60.13785311\n",
      " -60.0779661  -60.10056497 -60.03276836 -60.01242938 -59.95480226\n",
      " -59.8440678  -60.07344633 -60.09830508 -60.03728814 -59.98870056\n",
      " -60.04971751 -60.07344633 -60.06553672 -60.04067797 -59.94124294\n",
      " -59.97175141 -60.0079096  -60.22485876 -60.08926554 -60.03276836\n",
      " -60.08474576 -60.06327684 -60.0700565  -60.08022599 -59.94576271\n",
      " -60.11864407 -60.14463277 -60.2079096  -60.06440678 -60.10169492\n",
      " -60.19548023 -60.23841808 -60.08248588 -60.12090395 -60.15932203\n",
      " -60.27683616 -60.22146893 -60.10847458 -60.18079096 -60.29943503\n",
      " -60.27231638 -60.09152542 -60.16723164 -60.14576271 -60.09830508\n",
      " -60.03841808 -59.98305085 -60.11638418 -60.09265537 -59.88587571\n",
      " -60.03276836 -60.11073446 -60.09943503 -60.22824859 -60.19548023\n",
      " -60.1740113  -60.1220339  -60.17627119 -60.22372881 -60.15932203\n",
      " -60.22485876 -60.18870056 -60.02711864 -60.0440678  -60.07683616\n",
      " -60.21242938 -60.16949153 -60.09378531 -60.06553672 -60.05084746\n",
      " -60.21581921 -60.15367232 -60.11864407 -60.21694915 -60.00903955\n",
      " -60.16384181 -60.20564972 -60.22259887 -60.26101695 -60.18531073\n",
      " -60.10508475 -60.17740113 -60.13220339 -60.04858757 -60.09830508\n",
      " -60.25762712 -60.06666667 -60.07457627 -60.11864407 -60.08022599\n",
      " -59.99774011 -60.16045198 -60.23841808 -60.08813559 -60.10621469\n",
      " -59.8960452  -60.10734463 -60.07118644 -60.00903955 -60.09265537\n",
      " -60.17288136 -60.05988701 -59.9819209  -60.05310734 -60.1299435\n",
      " -59.96723164 -60.11977401 -60.11638418 -60.16723164 -60.08587571\n",
      " -59.94237288 -59.98418079 -60.18305085 -60.19661017 -60.15932203\n",
      " -60.0079096  -60.24858757 -60.24971751 -60.16158192 -60.22259887\n",
      " -60.16610169 -60.19661017 -60.12768362 -60.02372881 -60.09717514\n",
      " -60.09491525 -60.03050847 -60.01355932 -60.07118644 -60.09717514\n",
      " -60.0519774  -60.19435028 -60.07457627 -60.02259887 -60.12316384\n",
      " -60.09265537 -60.00225989 -59.96045198 -59.97062147 -59.98418079\n",
      " -59.97966102 -60.01016949 -60.15028249 -60.10056497 -59.98418079\n",
      " -59.89152542 -59.97175141 -60.11638418 -59.99096045 -59.98079096\n",
      " -60.07231638 -60.05875706 -60.07344633 -60.0079096  -60.04180791\n",
      " -60.06553672 -60.14915254 -60.05762712 -60.07231638 -59.9480226\n",
      " -60.13220339 -60.15706215 -60.21242938 -60.15367232 -59.92316384\n",
      " -59.98531073 -60.06553672 -60.07570621 -60.02937853 -60.02711864\n",
      " -60.00225989 -60.00677966 -59.97288136 -60.08248588 -60.17627119\n",
      " -60.02259887 -60.04293785 -60.04632768 -60.05310734 -59.92542373\n",
      " -59.92655367 -59.98531073 -59.98531073 -60.09378531 -60.10734463\n",
      " -59.85423729 -59.80677966 -60.04067797 -60.04745763 -60.1480226\n",
      " -60.05988701 -60.01468927 -59.95819209 -59.94011299 -59.94237288\n",
      " -60.06892655 -60.06327684 -59.91412429 -59.92542373 -59.98079096\n",
      " -59.94915254 -59.92881356 -60.13785311 -60.02937853 -59.98531073\n",
      " -59.97514124 -59.9480226  -59.91186441 -59.96497175 -60.\n",
      " -59.93785311 -59.90508475 -60.01694915 -60.02711864 -59.89039548\n",
      " -59.95367232 -59.98983051 -60.04745763 -60.02259887 -59.99096045\n",
      " -59.96158192 -59.99322034 -60.03615819 -60.01129944 -59.96045198\n",
      " -60.08135593 -59.96045198 -59.94463277 -59.99661017 -60.        ]\n"
     ]
    }
   ],
   "source": [
    "# print results saved in adc_results\n",
    "results = job.result_handles.get('adc_results').fetch_all()\n",
    "print('shape = ', results.shape)\n",
    "print('\\n(value, timestamp) = \\n', results)"
   ]
  },
  {
   "cell_type": "code",
   "execution_count": 27,
   "id": "895aabc5",
   "metadata": {
    "scrolled": false
   },
   "outputs": [
    {
     "data": {
      "text/plain": [
       "[<matplotlib.lines.Line2D at 0x244f05a6df0>]"
      ]
     },
     "execution_count": 27,
     "metadata": {},
     "output_type": "execute_result"
    },
    {
     "data": {
      "image/png": "[encoded data removed]",
      "text/plain": [
       "<Figure size 1008x360 with 1 Axes>"
      ]
     },
     "metadata": {
      "needs_background": "light"
     },
     "output_type": "display_data"
    }
   ],
   "source": [
    "plt.figure(figsize = (14,5))\n",
    "plt.plot(results/2**12)"
   ]
  },
  {
   "cell_type": "code",
   "execution_count": 30,
   "id": "33e17779",
   "metadata": {
    "scrolled": true
   },
   "outputs": [
    {
     "data": {
      "image/png": "[encoded data removed]",
      "text/plain": [
       "<Figure size 1008x360 with 1 Axes>"
      ]
     },
     "metadata": {
      "needs_background": "light"
     },
     "output_type": "display_data"
    }
   ],
   "source": [
    "# Retrieving and plotting FFT data.\n",
    "results_fft = job.result_handles.get('adc_fft').fetch_all()\n",
    "plt.figure(figsize = (14,5))\n",
    "pulse_len = 1000 # pulse len in nanoseconds\n",
    "\n",
    "results_fft = np.sqrt(np.sum(np.squeeze(results_fft) ** 2, axis=1)) / pulse_len\n",
    "freqs = np.arange(0, 0.5, 1 / pulse_len)[:]*1e9 \n",
    "amps = results_fft[: int(np.ceil(pulse_len / 2))]\n",
    "plt.plot(freqs[5:]/1e6, amps[5:])\n",
    "plt.xlabel('freq (MHz)')\n",
    "plt.show()\n"
   ]
  },
  {
   "cell_type": "markdown",
   "id": "2da1767e",
   "metadata": {},
   "source": [
    "#### Getting I and Q from integrated ADC data\n",
    "\n",
    "The measurement command can be used to directly integrate the ADC data and output single I and Q values.\n",
    "\n",
    "The stream in which to save the raw ADC data is set to None. The integration weigths and variables are defined in demod.full."
   ]
  },
  {
   "cell_type": "code",
   "execution_count": 77,
   "id": "5c47e342",
   "metadata": {},
   "outputs": [],
   "source": [
    "with program() as integrate_IQ:\n",
    "    \n",
    "    I = declare(fixed)\n",
    "    Q = declare(fixed)\n",
    "    \n",
    "    I_st = declare_stream()\n",
    "    Q_st = declare_stream()\n",
    "    \n",
    "    measure(\"long_readout\", \"rr\", None, \n",
    "            demod.full('long_integW1', I), \n",
    "            demod.full('long_integW2', Q))\n",
    "    \n",
    "    save(I, I_st)\n",
    "    save(Q, Q_st) \n",
    "    \n",
    "    \n",
    "    with stream_processing():\n",
    "        I_st.save('I')\n",
    "        Q_st.save('Q')\n"
   ]
  },
  {
   "cell_type": "code",
   "execution_count": 78,
   "id": "edd1fdfc",
   "metadata": {
    "scrolled": true
   },
   "outputs": [
    {
     "name": "stdout",
     "output_type": "stream",
     "text": [
      "2021-04-25 18:49:02,864 - qm - INFO - Flags: \n",
      "2021-04-25 18:49:02,865 - qm - INFO - Executing high level program\n"
     ]
    }
   ],
   "source": [
    "# Execute script\n",
    "job = qm.execute(integrate_IQ)\n",
    "# job.halt()"
   ]
  },
  {
   "cell_type": "code",
   "execution_count": 79,
   "id": "c3b2dd23",
   "metadata": {
    "scrolled": true
   },
   "outputs": [
    {
     "name": "stdout",
     "output_type": "stream",
     "text": [
      "I =  -1.8071383237838745e-05\n",
      "Q =  2.1979212760925293e-05\n"
     ]
    }
   ],
   "source": [
    "# print results saved in adc_results\n",
    "I_results = job.result_handles.get('I').fetch_all()\n",
    "Q_results = job.result_handles.get('Q').fetch_all()\n",
    "print('I = ', I_results)\n",
    "print('Q = ', Q_results)"
   ]
  },
  {
   "cell_type": "markdown",
   "id": "27b6694f",
   "metadata": {},
   "source": [
    "#### Buffering I and Q\n",
    "\n",
    "First note that it is possible to explicitely save all measurements of I and Q using .save_all() command within the stream_processing environment (ikr). Using .save() will only store the latest results"
   ]
  },
  {
   "cell_type": "code",
   "execution_count": 152,
   "id": "2e869a1a",
   "metadata": {},
   "outputs": [],
   "source": [
    "reps = 10\n",
    "with program() as buffering_IQ:\n",
    "    \n",
    "    n = declare(int)\n",
    "    I = declare(fixed)\n",
    "    Q = declare(fixed)\n",
    "    \n",
    "    I_st = declare_stream()\n",
    "    Q_st = declare_stream()\n",
    "    \n",
    "    with for_(n, 0, n < reps, n + 1):\n",
    "        measure(\"long_readout\", \"rr\", None, \n",
    "                demod.full('long_integW1', I), \n",
    "                demod.full('long_integW2', Q))\n",
    "        save(I, I_st)\n",
    "        save(Q, Q_st) \n",
    "        wait(20000, 'rr')\n",
    "    \n",
    "    \n",
    "    with stream_processing():\n",
    "        I_st.save_all('I')\n",
    "        Q_st.save_all('Q')\n"
   ]
  },
  {
   "cell_type": "code",
   "execution_count": 153,
   "id": "cce318be",
   "metadata": {
    "scrolled": true
   },
   "outputs": [
    {
     "name": "stdout",
     "output_type": "stream",
     "text": [
      "2021-04-25 11:35:54,537 - qm - INFO - Flags: \n",
      "2021-04-25 11:35:54,538 - qm - INFO - Executing high level program\n"
     ]
    }
   ],
   "source": [
    "# Execute script\n",
    "job = qm.execute(buffering_IQ)\n",
    "# job.halt()"
   ]
  },
  {
   "cell_type": "code",
   "execution_count": 154,
   "id": "8c3b9930",
   "metadata": {
    "scrolled": false
   },
   "outputs": [
    {
     "name": "stdout",
     "output_type": "stream",
     "text": [
      "I =  [(-2.08131969e-05,) ( 2.02544034e-05,) (-2.20797956e-05,)\n",
      " ( 2.36816704e-05,) (-2.28881836e-05,) ( 1.51917338e-05,)\n",
      " (-1.61007047e-05,) ( 3.15569341e-05,) (-1.89542770e-05,)\n",
      " ( 2.16849148e-05,)]\n",
      "Q =  [(-1.52103603e-05,) ( 8.36700201e-06,) (-1.09113753e-05,)\n",
      " ( 8.70972872e-06,) (-1.40741467e-05,) ( 1.18538737e-05,)\n",
      " (-1.26622617e-05,) ( 8.84011388e-06,) (-1.03265047e-05,)\n",
      " ( 1.52625144e-05,)]\n"
     ]
    }
   ],
   "source": [
    "# print results saved in adc_results\n",
    "I_results = job.result_handles.get('I').fetch_all()\n",
    "Q_results = job.result_handles.get('Q').fetch_all()\n",
    "print('I = ', I_results)\n",
    "print('Q = ', Q_results)"
   ]
  },
  {
   "cell_type": "markdown",
   "id": "ca327bdc",
   "metadata": {},
   "source": [
    "Now let us add an inner loop in measurement frequency and reshape the results in an intelligible way using .buffer()"
   ]
  },
  {
   "cell_type": "code",
   "execution_count": 156,
   "id": "31a7ab75",
   "metadata": {},
   "outputs": [],
   "source": [
    "reps = 10\n",
    "f_vec = [int(10e6), int(50e6)]\n",
    "buffer_len = len(f_vec)\n",
    "\n",
    "with program() as buffering_IQ:\n",
    "    \n",
    "    n = declare(int)\n",
    "    f = declare(int)\n",
    "    I = declare(fixed)\n",
    "    Q = declare(fixed)\n",
    "    \n",
    "    I_st = declare_stream()\n",
    "    Q_st = declare_stream()\n",
    "    \n",
    "    with for_(n, 0, n < reps, n + 1):\n",
    "        with for_each_(f, f_vec):\n",
    "            measure(\"long_readout\", \"rr\", None, \n",
    "                    demod.full('long_integW1', I), \n",
    "                    demod.full('long_integW2', Q))\n",
    "            save(I, I_st)\n",
    "            save(Q, Q_st) \n",
    "            wait(20000, 'rr')\n",
    "    \n",
    "    \n",
    "    with stream_processing():\n",
    "        I_st.buffer(buffer_len).save_all('I')\n",
    "        Q_st.buffer(buffer_len).save_all('Q')"
   ]
  },
  {
   "cell_type": "code",
   "execution_count": 157,
   "id": "ef9ca009",
   "metadata": {},
   "outputs": [
    {
     "name": "stdout",
     "output_type": "stream",
     "text": [
      "2021-04-25 11:42:10,115 - qm - INFO - Flags: \n",
      "2021-04-25 11:42:10,116 - qm - INFO - Executing high level program\n"
     ]
    }
   ],
   "source": [
    "# Execute script\n",
    "job = qm.execute(buffering_IQ)\n",
    "# job.halt()"
   ]
  },
  {
   "cell_type": "code",
   "execution_count": 167,
   "id": "b5850d6b",
   "metadata": {
    "scrolled": true
   },
   "outputs": [
    {
     "name": "stdout",
     "output_type": "stream",
     "text": [
      "I =  [([ 1.57430768e-05, -7.39097595e-06],)\n",
      " ([ 2.26795673e-05, -2.48998404e-05],)\n",
      " ([-1.25095248e-05,  3.53157520e-06],)\n",
      " ([-2.30856240e-05,  2.64532864e-05],)\n",
      " ([ 9.74535942e-06, -3.49432230e-06],)\n",
      " ([ 2.19084322e-05, -2.10329890e-05],)\n",
      " ([ 7.10040331e-06,  5.04776835e-06],)\n",
      " ([-2.35028565e-05,  2.10776925e-05],)\n",
      " ([-6.17280602e-06, -4.82425094e-06],)\n",
      " ([ 2.87964940e-05, -1.90809369e-05],)]\n"
     ]
    }
   ],
   "source": [
    "# print results saved in adc_results\n",
    "I_results = job.result_handles.get('I').fetch_all()\n",
    "print('I = ', I_results)"
   ]
  },
  {
   "cell_type": "markdown",
   "id": "640be2f9",
   "metadata": {},
   "source": [
    "The result above is a 2D array, with the first dimension corresponding to the outer loop (repetitions) and the second dimension corresponding to the inner loop (frequencies). The second dimension is bidimensional because we told it to be using .buffer(buffer_len).\n",
    "\n",
    "However, this data is hard to access because it is enveloped in nasty tuples. We can fix that and get a nice ndarray by setting the flat_struct tag:"
   ]
  },
  {
   "cell_type": "code",
   "execution_count": 169,
   "id": "fe696eaf",
   "metadata": {
    "scrolled": false
   },
   "outputs": [
    {
     "name": "stdout",
     "output_type": "stream",
     "text": [
      "I =  [[ 1.57430768e-05 -7.39097595e-06]\n",
      " [ 2.26795673e-05 -2.48998404e-05]\n",
      " [-1.25095248e-05  3.53157520e-06]\n",
      " [-2.30856240e-05  2.64532864e-05]\n",
      " [ 9.74535942e-06 -3.49432230e-06]\n",
      " [ 2.19084322e-05 -2.10329890e-05]\n",
      " [ 7.10040331e-06  5.04776835e-06]\n",
      " [-2.35028565e-05  2.10776925e-05]\n",
      " [-6.17280602e-06 -4.82425094e-06]\n",
      " [ 2.87964940e-05 -1.90809369e-05]]\n"
     ]
    }
   ],
   "source": [
    "I_results = job.result_handles.get('I').fetch_all(flat_struct=True)\n",
    "print('I = ', I_results)"
   ]
  },
  {
   "cell_type": "markdown",
   "id": "6ced7bd8",
   "metadata": {},
   "source": [
    "#### Multi-variable buffering\n",
    "\n",
    "Let us now include a variable pulse amplitude in the loop.\n",
    "\n",
    "We want to include both f and amp sweeps in a single for_each_ loop, so it is first necessary to use np.meshgrid(). The indexing = 'ij' tag guarantees that the lists passed as parameters are in the order from outer to inner loop.\n",
    "\n",
    "Remember to convert frequencies back to integers after doing the meshgrid. Otherwise QUA might complain."
   ]
  },
  {
   "cell_type": "code",
   "execution_count": 222,
   "id": "d9526843",
   "metadata": {},
   "outputs": [
    {
     "name": "stdout",
     "output_type": "stream",
     "text": [
      "f_vec_py =  [10000000, 10000000, 10000000, 50000000, 50000000, 50000000]\n",
      "amp_vec_py =  [0.01 0.2  1.   0.01 0.2  1.  ]\n"
     ]
    }
   ],
   "source": [
    "f_vec = [int(10e6), int(50e6)]\n",
    "amp_vec = [0.01, 0.20, 1.0]\n",
    "parameter_list = [(x.flatten()) \n",
    "                  for x in np.meshgrid(f_vec, amp_vec, indexing = 'ij')]\n",
    "\n",
    "f_vec_py = [int(x) for x in parameter_list[0]]\n",
    "amp_vec_py = parameter_list[1]\n",
    "\n",
    "print('f_vec_py = ', f_vec_py)\n",
    "print('amp_vec_py = ', amp_vec_py)"
   ]
  },
  {
   "cell_type": "code",
   "execution_count": 223,
   "id": "f9c439a8",
   "metadata": {},
   "outputs": [],
   "source": [
    "reps = 10\n",
    "buffer_len_f = len(f_vec)\n",
    "buffer_len_amp = len(amp_vec)\n",
    "\n",
    "with program() as multiple_var_buffer:\n",
    "    \n",
    "    n = declare(int)\n",
    "    f = declare(int)\n",
    "    a = declare(fixed)\n",
    "    I = declare(fixed)\n",
    "    Q = declare(fixed)\n",
    "    \n",
    "    f_vec_qua = declare(int, value = f_vec_py)\n",
    "    amp_vec_qua = declare(fixed, value = amp_vec_py)\n",
    "    \n",
    "    I_st = declare_stream()\n",
    "    Q_st = declare_stream()\n",
    "    \n",
    "    with for_(n, 0, n < reps, n + 1):\n",
    "        with for_each_((f, a), (f_vec_qua, amp_vec_qua)):\n",
    "            measure(\"long_readout\", \"rr\", None, \n",
    "                    demod.full('long_integW1', I), \n",
    "                    demod.full('long_integW2', Q))\n",
    "            save(I, I_st)\n",
    "            save(Q, Q_st) \n",
    "            wait(20000, 'rr')\n",
    "    \n",
    "    \n",
    "    with stream_processing():\n",
    "        I_st.buffer(buffer_len_f, buffer_len_amp).save_all('I')\n",
    "        Q_st.buffer(buffer_len_f, buffer_len_amp).save_all('Q')"
   ]
  },
  {
   "cell_type": "code",
   "execution_count": 224,
   "id": "58a80309",
   "metadata": {
    "scrolled": true
   },
   "outputs": [
    {
     "name": "stdout",
     "output_type": "stream",
     "text": [
      "2021-04-25 13:06:49,915 - qm - INFO - Flags: \n",
      "2021-04-25 13:06:49,916 - qm - INFO - Executing high level program\n"
     ]
    }
   ],
   "source": [
    "# Execute script\n",
    "job = qm.execute(multiple_var_buffer)\n",
    "# job.halt()"
   ]
  },
  {
   "cell_type": "markdown",
   "id": "1dc8a6dc",
   "metadata": {},
   "source": [
    "I_results.shape = (10, 2, 3), which means the first dimension is the repetition, the second is frequency and the third is amplitude. In order for this to work, you must make sure the buffering lengths are in the same order as the loop."
   ]
  },
  {
   "cell_type": "code",
   "execution_count": 225,
   "id": "97b38d58",
   "metadata": {
    "scrolled": true
   },
   "outputs": [
    {
     "name": "stdout",
     "output_type": "stream",
     "text": [
      "(10, 2, 3)\n",
      "I =  [[[ 1.05276704e-05 -1.33849680e-05  8.97049904e-06]\n",
      "  [-7.94231892e-06  1.79000199e-05 -8.95559788e-06]]\n",
      "\n",
      " [[ 2.12639570e-05 -1.98297203e-05  1.98818743e-05]\n",
      "  [-2.45869160e-05  1.71214342e-05 -2.34395266e-05]]\n",
      "\n",
      " [[-4.24683094e-07  9.67830420e-06 -1.12876296e-05]\n",
      "  [ 9.70438123e-06 -2.96533108e-06  1.03823841e-05]]\n",
      "\n",
      " [[-2.68034637e-05  2.51084566e-05 -2.15061009e-05]\n",
      "  [ 2.57566571e-05 -2.26125121e-05  2.21282244e-05]]\n",
      "\n",
      " [[ 4.00096178e-06 -5.39422035e-06  4.30643559e-06]\n",
      "  [-4.10899520e-06  7.67782331e-06 -5.61401248e-06]]\n",
      "\n",
      " [[ 2.22921371e-05 -2.24672258e-05  2.77683139e-05]\n",
      "  [-2.62334943e-05  2.08839774e-05 -2.35661864e-05]]\n",
      "\n",
      " [[-5.71832061e-06 -1.13993883e-06 -2.14204192e-06]\n",
      "  [-3.78116965e-06 -6.82845712e-06  4.47034836e-07]]\n",
      "\n",
      " [[-2.58572400e-05  2.28397548e-05 -2.75634229e-05]\n",
      "  [ 1.97105110e-05 -1.89058483e-05  2.32383609e-05]]\n",
      "\n",
      " [[-1.56089664e-06  2.50339508e-06  1.10268593e-06]\n",
      "  [ 2.11223960e-06  3.03611159e-06  3.45706940e-06]]\n",
      "\n",
      " [[ 2.54549086e-05 -1.97216868e-05  2.53468752e-05]\n",
      "  [-3.09236348e-05  2.14204192e-05 -2.04928219e-05]]]\n"
     ]
    }
   ],
   "source": [
    "I_results = job.result_handles.get('I').fetch_all(flat_struct=True)\n",
    "print(I_results.shape)\n",
    "print('I = ', I_results)"
   ]
  },
  {
   "cell_type": "markdown",
   "id": "91edc546",
   "metadata": {},
   "source": [
    "It is possible to take the average of each of the 10 (2,3)-matrices with stream processing. You simply need to add .average() after the buffer, and use .save() instead of .save_all() to get only the consolidated average.\n",
    "\n",
    "Note that using .save_all() would give you the evolution of the average with the accumulation of repeated measurements."
   ]
  },
  {
   "cell_type": "code",
   "execution_count": 229,
   "id": "002f0351",
   "metadata": {},
   "outputs": [],
   "source": [
    "reps = 10\n",
    "f_vec = [int(10e6), int(50e6)]\n",
    "amp_vec = [0.01, 0.20, 1.0]\n",
    "buffer_len_f = len(f_vec)\n",
    "buffer_len_amp = len(amp_vec)\n",
    "\n",
    "parameter_list = [(x.flatten()) \n",
    "                  for x in np.meshgrid(f_vec, amp_vec, indexing = 'ij')]\n",
    "\n",
    "f_vec_py = [int(x) for x in parameter_list[0]]\n",
    "amp_vec_py = parameter_list[1]\n",
    "\n",
    "\n",
    "with program() as multiple_var_avg:\n",
    "    \n",
    "    n = declare(int)\n",
    "    f = declare(int)\n",
    "    a = declare(fixed)\n",
    "    I = declare(fixed)\n",
    "    Q = declare(fixed)\n",
    "    \n",
    "    f_vec_qua = declare(int, value = f_vec_py)\n",
    "    amp_vec_qua = declare(fixed, value = amp_vec_py)\n",
    "    \n",
    "    I_st = declare_stream()\n",
    "    Q_st = declare_stream()\n",
    "    \n",
    "    with for_(n, 0, n < reps, n + 1):\n",
    "        with for_each_((f, a), (f_vec_qua, amp_vec_qua)):\n",
    "            measure(\"long_readout\", \"rr\", None, \n",
    "                    demod.full('long_integW1', I), \n",
    "                    demod.full('long_integW2', Q))\n",
    "            save(I, I_st)\n",
    "            save(Q, Q_st) \n",
    "            wait(20000, 'rr')\n",
    "    \n",
    "    \n",
    "    with stream_processing():\n",
    "        I_st.buffer(buffer_len_f, buffer_len_amp).average().save('I')\n",
    "        Q_st.buffer(buffer_len_f, buffer_len_amp).average().save('Q')"
   ]
  },
  {
   "cell_type": "code",
   "execution_count": 230,
   "id": "ba45aed5",
   "metadata": {
    "scrolled": true
   },
   "outputs": [
    {
     "name": "stdout",
     "output_type": "stream",
     "text": [
      "2021-04-25 13:46:44,005 - qm - INFO - Flags: \n",
      "2021-04-25 13:46:44,006 - qm - INFO - Executing high level program\n"
     ]
    }
   ],
   "source": [
    "# Execute script\n",
    "job = qm.execute(multiple_var_avg)\n",
    "# job.halt()"
   ]
  },
  {
   "cell_type": "code",
   "execution_count": 232,
   "id": "93098f6a",
   "metadata": {
    "scrolled": true
   },
   "outputs": [
    {
     "name": "stdout",
     "output_type": "stream",
     "text": [
      "(2, 3)\n",
      "I =  [[ 1.4949590e-06 -2.1215528e-06  3.1292439e-06]\n",
      " [-4.1507185e-06  2.8811395e-06 -4.0087849e-06]]\n"
     ]
    }
   ],
   "source": [
    "I_results = job.result_handles.get('I').fetch_all(flat_struct=True)\n",
    "print(I_results.shape)\n",
    "print('I = ', I_results)"
   ]
  }
 ],
 "metadata": {
  "kernelspec": {
   "display_name": "Python 3",
   "language": "python",
   "name": "python3"
  },
  "language_info": {
   "codemirror_mode": {
    "name": "ipython",
    "version": 3
   },
   "file_extension": ".py",
   "mimetype": "text/x-python",
   "name": "python",
   "nbconvert_exporter": "python",
   "pygments_lexer": "ipython3",
   "version": "3.9.2"
  }
 },
 "nbformat": 4,
 "nbformat_minor": 5
}
