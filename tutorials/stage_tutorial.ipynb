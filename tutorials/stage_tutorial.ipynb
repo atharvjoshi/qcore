{
 "cells": [
  {
   "cell_type": "code",
   "execution_count": 1,
   "id": "basic-class",
   "metadata": {},
   "outputs": [],
   "source": [
    "# use the cell below to ensure correct relative imports\n",
    "# you must be in the qcore directory"
   ]
  },
  {
   "cell_type": "code",
   "execution_count": 2,
   "id": "fixed-investor",
   "metadata": {},
   "outputs": [
    {
     "name": "stdout",
     "output_type": "stream",
     "text": [
      "C:\\Users\\athar\\Desktop\\qcore\\qcore\n"
     ]
    }
   ],
   "source": [
    "cd ../qcore"
   ]
  },
  {
   "cell_type": "markdown",
   "id": "sonic-lecture",
   "metadata": {},
   "source": [
    "### Proto-user guide for interacting with the Stage object in qcore\n",
    "\n",
    "Motivation: a way to control all Instruments that you're interacting with as part of an experiment.\n",
    "\n",
    "Definition: an experimental stage is a group of instruments needed to run a given experiment. These instruments may be physical hardware or may be meta-instruments (e.g. qubit, rr)\n",
    "\n",
    "1. With Stage, you can initialize all your instruments from a single yaml file. Initialize means the instrument is connected, set with initial parameters, and ready for use!\n",
    "2. You can add (`enter`) or remove (`exit`) instruments from the stage. You can also `enter` instruments that are saved in yaml files!\n",
    "3. You can get current state of all the instruments in the stage using `stage.parameters` !!!"
   ]
  },
  {
   "cell_type": "markdown",
   "id": "central-pennsylvania",
   "metadata": {},
   "source": [
    "## Goal - we will build up the experimental stage that we're currently using to characterize a 1 qubit, 1 rr device with opx, sa, labbricks\n",
    "\n",
    "### After we do so, we'll save it as a yaml file so that the next time we can simply load it from that yaml file and we'll be good to go!!!\n",
    "\n",
    "Note - as of the writing of this tutorial, the mixer tuning step has not yet been developed and integrated with the rest of the codebase, so we'll skip that for now, and maybe do another tutorial incorporating it later :)"
   ]
  },
  {
   "cell_type": "code",
   "execution_count": 4,
   "id": "foster-pitch",
   "metadata": {},
   "outputs": [],
   "source": [
    "from pathlib import Path"
   ]
  },
  {
   "cell_type": "markdown",
   "id": "medium-mirror",
   "metadata": {},
   "source": [
    "#### Step 1 - Create the QuantumDevice"
   ]
  },
  {
   "cell_type": "code",
   "execution_count": 5,
   "id": "ranging-adobe",
   "metadata": {},
   "outputs": [],
   "source": [
    "# we have already done this step in the cqed_components tutorial\n",
    "# we saved the device in 'example_device.yaml' in this folder\n",
    "# let's create a variable that remembers this path\n",
    "\n",
    "device_yaml_path = Path.cwd().parent / 'tutorials/example_device.yaml'"
   ]
  },
  {
   "cell_type": "code",
   "execution_count": null,
   "id": "handmade-giant",
   "metadata": {},
   "outputs": [],
   "source": []
  },
  {
   "cell_type": "markdown",
   "id": "imposed-convert",
   "metadata": {},
   "source": [
    "#### Step 2 - Encapsulate the readout resonator as a QuantumElement"
   ]
  },
  {
   "cell_type": "markdown",
   "id": "cellular-ethics",
   "metadata": {},
   "source": [
    "#### Step 3 - Wrap the two QuantumElements in a QuantumDevice"
   ]
  },
  {
   "cell_type": "markdown",
   "id": "settled-posting",
   "metadata": {},
   "source": [
    "#### Step 4 - "
   ]
  }
 ],
 "metadata": {
  "kernelspec": {
   "display_name": "Python 3",
   "language": "python",
   "name": "python3"
  },
  "language_info": {
   "codemirror_mode": {
    "name": "ipython",
    "version": 3
   },
   "file_extension": ".py",
   "mimetype": "text/x-python",
   "name": "python",
   "nbconvert_exporter": "python",
   "pygments_lexer": "ipython3",
   "version": "3.9.2"
  }
 },
 "nbformat": 4,
 "nbformat_minor": 5
}
